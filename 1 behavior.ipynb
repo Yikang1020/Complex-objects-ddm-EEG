{
 "cells": [
  {
   "cell_type": "code",
   "execution_count": 182,
   "metadata": {},
   "outputs": [],
   "source": [
    "import numpy as np\n",
    "import pandas as pd\n",
    "import seaborn as sns\n",
    "import matplotlib as mpl\n",
    "import matplotlib.pyplot as plt\n",
    "import os\n",
    "import re"
   ]
  },
  {
   "cell_type": "code",
   "execution_count": 150,
   "metadata": {},
   "outputs": [
    {
     "data": {
      "text/plain": [
       "['sub-001',\n",
       " 'sub-002',\n",
       " 'sub-003',\n",
       " 'sub-004',\n",
       " 'sub-005',\n",
       " 'sub-006',\n",
       " 'sub-007',\n",
       " 'sub-008',\n",
       " 'sub-009',\n",
       " 'sub-010',\n",
       " 'sub-011',\n",
       " 'sub-012',\n",
       " 'sub-013',\n",
       " 'sub-014',\n",
       " 'sub-015',\n",
       " 'sub-016',\n",
       " 'sub-017']"
      ]
     },
     "execution_count": 150,
     "metadata": {},
     "output_type": "execute_result"
    }
   ],
   "source": [
    "#subj_idx\n",
    "subj_idxs=[]\n",
    "for i in range(1,18):\n",
    "    if len(str(i))==1:\n",
    "        subj_idx='sub-00'+str(i)\n",
    "        subj_idxs.append(subj_idx)\n",
    "    else:\n",
    "        subj_idx='sub-0'+str(i)\n",
    "        subj_idxs.append(subj_idx)"
   ]
  },
  {
   "cell_type": "code",
   "execution_count": 162,
   "metadata": {},
   "outputs": [
    {
     "data": {
      "text/plain": [
       "['sourcedata-eeg_outside-MRT', 'sourcedata-eeg_inside-MRT']"
      ]
     },
     "execution_count": 162,
     "metadata": {},
     "output_type": "execute_result"
    }
   ],
   "source": [
    "#tasks\n",
    "tasks=[]\n",
    "for side in ['outside','inside']:\n",
    "    task='sourcedata-eeg_'+side+'-MRT'\n",
    "    tasks.append(task)\n",
    "tasks"
   ]
  },
  {
   "cell_type": "code",
   "execution_count": 225,
   "metadata": {},
   "outputs": [
    {
     "data": {
      "text/plain": [
       "['outsideMRT_run-01_beh.tsv',\n",
       " 'outsideMRT_run-02_beh.tsv',\n",
       " 'insideMRT_run-01_beh.tsv',\n",
       " 'insideMRT_run-02_beh.tsv',\n",
       " 'insideMRT_run-03_beh.tsv',\n",
       " 'insideMRT_run-04_beh.tsv',\n",
       " 'insideMRT_run-05_beh.tsv']"
      ]
     },
     "execution_count": 225,
     "metadata": {},
     "output_type": "execute_result"
    }
   ],
   "source": [
    "#runs\n",
    "runs=[]\n",
    "for task in tasks:\n",
    "    if task == tasks[0]:\n",
    "        side = 'outside'\n",
    "        for i in range(1,3):\n",
    "            run = side+'MRT_run-0'+str(i)+'_beh.tsv'\n",
    "            runs.append(run)\n",
    "    else:\n",
    "        side='inside'\n",
    "        for i in range(1,6):\n",
    "            run = side+'MRT_run-0'+str(i)+'_beh.tsv'\n",
    "            runs.append(run)\n",
    "runs     "
   ]
  },
  {
   "cell_type": "code",
   "execution_count": 240,
   "metadata": {},
   "outputs": [
    {
     "data": {
      "text/plain": [
       "['/home/jovyan/yikang1020/Ostwald_OSF/BIDS_data/sub-001/sourcedata-eeg_outside-MRT/beh/sub-001_task-pdm_acq-outsideMRT_run-01_beh.tsv',\n",
       " '/home/jovyan/yikang1020/Ostwald_OSF/BIDS_data/sub-001/sourcedata-eeg_outside-MRT/beh/sub-001_task-pdm_acq-outsideMRT_run-02_beh.tsv',\n",
       " '/home/jovyan/yikang1020/Ostwald_OSF/BIDS_data/sub-001/sourcedata-eeg_inside-MRT/beh/sub-001_task-pdm_acq-insideMRT_run-01_beh.tsv',\n",
       " '/home/jovyan/yikang1020/Ostwald_OSF/BIDS_data/sub-001/sourcedata-eeg_inside-MRT/beh/sub-001_task-pdm_acq-insideMRT_run-02_beh.tsv',\n",
       " '/home/jovyan/yikang1020/Ostwald_OSF/BIDS_data/sub-001/sourcedata-eeg_inside-MRT/beh/sub-001_task-pdm_acq-insideMRT_run-03_beh.tsv',\n",
       " '/home/jovyan/yikang1020/Ostwald_OSF/BIDS_data/sub-001/sourcedata-eeg_inside-MRT/beh/sub-001_task-pdm_acq-insideMRT_run-04_beh.tsv',\n",
       " '/home/jovyan/yikang1020/Ostwald_OSF/BIDS_data/sub-001/sourcedata-eeg_inside-MRT/beh/sub-001_task-pdm_acq-insideMRT_run-05_beh.tsv',\n",
       " '/home/jovyan/yikang1020/Ostwald_OSF/BIDS_data/sub-002/sourcedata-eeg_outside-MRT/beh/sub-002_task-pdm_acq-outsideMRT_run-01_beh.tsv',\n",
       " '/home/jovyan/yikang1020/Ostwald_OSF/BIDS_data/sub-002/sourcedata-eeg_outside-MRT/beh/sub-002_task-pdm_acq-outsideMRT_run-02_beh.tsv',\n",
       " '/home/jovyan/yikang1020/Ostwald_OSF/BIDS_data/sub-002/sourcedata-eeg_inside-MRT/beh/sub-002_task-pdm_acq-insideMRT_run-01_beh.tsv',\n",
       " '/home/jovyan/yikang1020/Ostwald_OSF/BIDS_data/sub-002/sourcedata-eeg_inside-MRT/beh/sub-002_task-pdm_acq-insideMRT_run-02_beh.tsv',\n",
       " '/home/jovyan/yikang1020/Ostwald_OSF/BIDS_data/sub-002/sourcedata-eeg_inside-MRT/beh/sub-002_task-pdm_acq-insideMRT_run-03_beh.tsv',\n",
       " '/home/jovyan/yikang1020/Ostwald_OSF/BIDS_data/sub-002/sourcedata-eeg_inside-MRT/beh/sub-002_task-pdm_acq-insideMRT_run-04_beh.tsv',\n",
       " '/home/jovyan/yikang1020/Ostwald_OSF/BIDS_data/sub-002/sourcedata-eeg_inside-MRT/beh/sub-002_task-pdm_acq-insideMRT_run-05_beh.tsv',\n",
       " '/home/jovyan/yikang1020/Ostwald_OSF/BIDS_data/sub-003/sourcedata-eeg_outside-MRT/beh/sub-003_task-pdm_acq-outsideMRT_run-01_beh.tsv',\n",
       " '/home/jovyan/yikang1020/Ostwald_OSF/BIDS_data/sub-003/sourcedata-eeg_outside-MRT/beh/sub-003_task-pdm_acq-outsideMRT_run-02_beh.tsv',\n",
       " '/home/jovyan/yikang1020/Ostwald_OSF/BIDS_data/sub-003/sourcedata-eeg_inside-MRT/beh/sub-003_task-pdm_acq-insideMRT_run-01_beh.tsv',\n",
       " '/home/jovyan/yikang1020/Ostwald_OSF/BIDS_data/sub-003/sourcedata-eeg_inside-MRT/beh/sub-003_task-pdm_acq-insideMRT_run-02_beh.tsv',\n",
       " '/home/jovyan/yikang1020/Ostwald_OSF/BIDS_data/sub-003/sourcedata-eeg_inside-MRT/beh/sub-003_task-pdm_acq-insideMRT_run-03_beh.tsv',\n",
       " '/home/jovyan/yikang1020/Ostwald_OSF/BIDS_data/sub-003/sourcedata-eeg_inside-MRT/beh/sub-003_task-pdm_acq-insideMRT_run-04_beh.tsv',\n",
       " '/home/jovyan/yikang1020/Ostwald_OSF/BIDS_data/sub-003/sourcedata-eeg_inside-MRT/beh/sub-003_task-pdm_acq-insideMRT_run-05_beh.tsv',\n",
       " '/home/jovyan/yikang1020/Ostwald_OSF/BIDS_data/sub-004/sourcedata-eeg_outside-MRT/beh/sub-004_task-pdm_acq-outsideMRT_run-01_beh.tsv',\n",
       " '/home/jovyan/yikang1020/Ostwald_OSF/BIDS_data/sub-004/sourcedata-eeg_outside-MRT/beh/sub-004_task-pdm_acq-outsideMRT_run-02_beh.tsv',\n",
       " '/home/jovyan/yikang1020/Ostwald_OSF/BIDS_data/sub-004/sourcedata-eeg_inside-MRT/beh/sub-004_task-pdm_acq-insideMRT_run-01_beh.tsv',\n",
       " '/home/jovyan/yikang1020/Ostwald_OSF/BIDS_data/sub-004/sourcedata-eeg_inside-MRT/beh/sub-004_task-pdm_acq-insideMRT_run-02_beh.tsv',\n",
       " '/home/jovyan/yikang1020/Ostwald_OSF/BIDS_data/sub-004/sourcedata-eeg_inside-MRT/beh/sub-004_task-pdm_acq-insideMRT_run-03_beh.tsv',\n",
       " '/home/jovyan/yikang1020/Ostwald_OSF/BIDS_data/sub-004/sourcedata-eeg_inside-MRT/beh/sub-004_task-pdm_acq-insideMRT_run-04_beh.tsv',\n",
       " '/home/jovyan/yikang1020/Ostwald_OSF/BIDS_data/sub-004/sourcedata-eeg_inside-MRT/beh/sub-004_task-pdm_acq-insideMRT_run-05_beh.tsv',\n",
       " '/home/jovyan/yikang1020/Ostwald_OSF/BIDS_data/sub-005/sourcedata-eeg_outside-MRT/beh/sub-005_task-pdm_acq-outsideMRT_run-01_beh.tsv',\n",
       " '/home/jovyan/yikang1020/Ostwald_OSF/BIDS_data/sub-005/sourcedata-eeg_outside-MRT/beh/sub-005_task-pdm_acq-outsideMRT_run-02_beh.tsv',\n",
       " '/home/jovyan/yikang1020/Ostwald_OSF/BIDS_data/sub-005/sourcedata-eeg_inside-MRT/beh/sub-005_task-pdm_acq-insideMRT_run-01_beh.tsv',\n",
       " '/home/jovyan/yikang1020/Ostwald_OSF/BIDS_data/sub-005/sourcedata-eeg_inside-MRT/beh/sub-005_task-pdm_acq-insideMRT_run-02_beh.tsv',\n",
       " '/home/jovyan/yikang1020/Ostwald_OSF/BIDS_data/sub-005/sourcedata-eeg_inside-MRT/beh/sub-005_task-pdm_acq-insideMRT_run-03_beh.tsv',\n",
       " '/home/jovyan/yikang1020/Ostwald_OSF/BIDS_data/sub-005/sourcedata-eeg_inside-MRT/beh/sub-005_task-pdm_acq-insideMRT_run-04_beh.tsv',\n",
       " '/home/jovyan/yikang1020/Ostwald_OSF/BIDS_data/sub-005/sourcedata-eeg_inside-MRT/beh/sub-005_task-pdm_acq-insideMRT_run-05_beh.tsv',\n",
       " '/home/jovyan/yikang1020/Ostwald_OSF/BIDS_data/sub-006/sourcedata-eeg_outside-MRT/beh/sub-006_task-pdm_acq-outsideMRT_run-01_beh.tsv',\n",
       " '/home/jovyan/yikang1020/Ostwald_OSF/BIDS_data/sub-006/sourcedata-eeg_outside-MRT/beh/sub-006_task-pdm_acq-outsideMRT_run-02_beh.tsv',\n",
       " '/home/jovyan/yikang1020/Ostwald_OSF/BIDS_data/sub-006/sourcedata-eeg_inside-MRT/beh/sub-006_task-pdm_acq-insideMRT_run-01_beh.tsv',\n",
       " '/home/jovyan/yikang1020/Ostwald_OSF/BIDS_data/sub-006/sourcedata-eeg_inside-MRT/beh/sub-006_task-pdm_acq-insideMRT_run-02_beh.tsv',\n",
       " '/home/jovyan/yikang1020/Ostwald_OSF/BIDS_data/sub-006/sourcedata-eeg_inside-MRT/beh/sub-006_task-pdm_acq-insideMRT_run-03_beh.tsv',\n",
       " '/home/jovyan/yikang1020/Ostwald_OSF/BIDS_data/sub-006/sourcedata-eeg_inside-MRT/beh/sub-006_task-pdm_acq-insideMRT_run-04_beh.tsv',\n",
       " '/home/jovyan/yikang1020/Ostwald_OSF/BIDS_data/sub-006/sourcedata-eeg_inside-MRT/beh/sub-006_task-pdm_acq-insideMRT_run-05_beh.tsv',\n",
       " '/home/jovyan/yikang1020/Ostwald_OSF/BIDS_data/sub-007/sourcedata-eeg_outside-MRT/beh/sub-007_task-pdm_acq-outsideMRT_run-01_beh.tsv',\n",
       " '/home/jovyan/yikang1020/Ostwald_OSF/BIDS_data/sub-007/sourcedata-eeg_outside-MRT/beh/sub-007_task-pdm_acq-outsideMRT_run-02_beh.tsv',\n",
       " '/home/jovyan/yikang1020/Ostwald_OSF/BIDS_data/sub-007/sourcedata-eeg_inside-MRT/beh/sub-007_task-pdm_acq-insideMRT_run-01_beh.tsv',\n",
       " '/home/jovyan/yikang1020/Ostwald_OSF/BIDS_data/sub-007/sourcedata-eeg_inside-MRT/beh/sub-007_task-pdm_acq-insideMRT_run-02_beh.tsv',\n",
       " '/home/jovyan/yikang1020/Ostwald_OSF/BIDS_data/sub-007/sourcedata-eeg_inside-MRT/beh/sub-007_task-pdm_acq-insideMRT_run-03_beh.tsv',\n",
       " '/home/jovyan/yikang1020/Ostwald_OSF/BIDS_data/sub-007/sourcedata-eeg_inside-MRT/beh/sub-007_task-pdm_acq-insideMRT_run-04_beh.tsv',\n",
       " '/home/jovyan/yikang1020/Ostwald_OSF/BIDS_data/sub-007/sourcedata-eeg_inside-MRT/beh/sub-007_task-pdm_acq-insideMRT_run-05_beh.tsv',\n",
       " '/home/jovyan/yikang1020/Ostwald_OSF/BIDS_data/sub-008/sourcedata-eeg_outside-MRT/beh/sub-008_task-pdm_acq-outsideMRT_run-01_beh.tsv',\n",
       " '/home/jovyan/yikang1020/Ostwald_OSF/BIDS_data/sub-008/sourcedata-eeg_outside-MRT/beh/sub-008_task-pdm_acq-outsideMRT_run-02_beh.tsv',\n",
       " '/home/jovyan/yikang1020/Ostwald_OSF/BIDS_data/sub-008/sourcedata-eeg_inside-MRT/beh/sub-008_task-pdm_acq-insideMRT_run-01_beh.tsv',\n",
       " '/home/jovyan/yikang1020/Ostwald_OSF/BIDS_data/sub-008/sourcedata-eeg_inside-MRT/beh/sub-008_task-pdm_acq-insideMRT_run-02_beh.tsv',\n",
       " '/home/jovyan/yikang1020/Ostwald_OSF/BIDS_data/sub-008/sourcedata-eeg_inside-MRT/beh/sub-008_task-pdm_acq-insideMRT_run-03_beh.tsv',\n",
       " '/home/jovyan/yikang1020/Ostwald_OSF/BIDS_data/sub-008/sourcedata-eeg_inside-MRT/beh/sub-008_task-pdm_acq-insideMRT_run-04_beh.tsv',\n",
       " '/home/jovyan/yikang1020/Ostwald_OSF/BIDS_data/sub-008/sourcedata-eeg_inside-MRT/beh/sub-008_task-pdm_acq-insideMRT_run-05_beh.tsv',\n",
       " '/home/jovyan/yikang1020/Ostwald_OSF/BIDS_data/sub-009/sourcedata-eeg_outside-MRT/beh/sub-009_task-pdm_acq-outsideMRT_run-01_beh.tsv',\n",
       " '/home/jovyan/yikang1020/Ostwald_OSF/BIDS_data/sub-009/sourcedata-eeg_outside-MRT/beh/sub-009_task-pdm_acq-outsideMRT_run-02_beh.tsv',\n",
       " '/home/jovyan/yikang1020/Ostwald_OSF/BIDS_data/sub-009/sourcedata-eeg_inside-MRT/beh/sub-009_task-pdm_acq-insideMRT_run-01_beh.tsv',\n",
       " '/home/jovyan/yikang1020/Ostwald_OSF/BIDS_data/sub-009/sourcedata-eeg_inside-MRT/beh/sub-009_task-pdm_acq-insideMRT_run-02_beh.tsv',\n",
       " '/home/jovyan/yikang1020/Ostwald_OSF/BIDS_data/sub-009/sourcedata-eeg_inside-MRT/beh/sub-009_task-pdm_acq-insideMRT_run-03_beh.tsv',\n",
       " '/home/jovyan/yikang1020/Ostwald_OSF/BIDS_data/sub-009/sourcedata-eeg_inside-MRT/beh/sub-009_task-pdm_acq-insideMRT_run-04_beh.tsv',\n",
       " '/home/jovyan/yikang1020/Ostwald_OSF/BIDS_data/sub-009/sourcedata-eeg_inside-MRT/beh/sub-009_task-pdm_acq-insideMRT_run-05_beh.tsv',\n",
       " '/home/jovyan/yikang1020/Ostwald_OSF/BIDS_data/sub-010/sourcedata-eeg_outside-MRT/beh/sub-010_task-pdm_acq-outsideMRT_run-01_beh.tsv',\n",
       " '/home/jovyan/yikang1020/Ostwald_OSF/BIDS_data/sub-010/sourcedata-eeg_outside-MRT/beh/sub-010_task-pdm_acq-outsideMRT_run-02_beh.tsv',\n",
       " '/home/jovyan/yikang1020/Ostwald_OSF/BIDS_data/sub-010/sourcedata-eeg_inside-MRT/beh/sub-010_task-pdm_acq-insideMRT_run-01_beh.tsv',\n",
       " '/home/jovyan/yikang1020/Ostwald_OSF/BIDS_data/sub-010/sourcedata-eeg_inside-MRT/beh/sub-010_task-pdm_acq-insideMRT_run-02_beh.tsv',\n",
       " '/home/jovyan/yikang1020/Ostwald_OSF/BIDS_data/sub-010/sourcedata-eeg_inside-MRT/beh/sub-010_task-pdm_acq-insideMRT_run-03_beh.tsv',\n",
       " '/home/jovyan/yikang1020/Ostwald_OSF/BIDS_data/sub-010/sourcedata-eeg_inside-MRT/beh/sub-010_task-pdm_acq-insideMRT_run-04_beh.tsv',\n",
       " '/home/jovyan/yikang1020/Ostwald_OSF/BIDS_data/sub-010/sourcedata-eeg_inside-MRT/beh/sub-010_task-pdm_acq-insideMRT_run-05_beh.tsv',\n",
       " '/home/jovyan/yikang1020/Ostwald_OSF/BIDS_data/sub-011/sourcedata-eeg_outside-MRT/beh/sub-011_task-pdm_acq-outsideMRT_run-01_beh.tsv',\n",
       " '/home/jovyan/yikang1020/Ostwald_OSF/BIDS_data/sub-011/sourcedata-eeg_outside-MRT/beh/sub-011_task-pdm_acq-outsideMRT_run-02_beh.tsv',\n",
       " '/home/jovyan/yikang1020/Ostwald_OSF/BIDS_data/sub-011/sourcedata-eeg_inside-MRT/beh/sub-011_task-pdm_acq-insideMRT_run-01_beh.tsv',\n",
       " '/home/jovyan/yikang1020/Ostwald_OSF/BIDS_data/sub-011/sourcedata-eeg_inside-MRT/beh/sub-011_task-pdm_acq-insideMRT_run-02_beh.tsv',\n",
       " '/home/jovyan/yikang1020/Ostwald_OSF/BIDS_data/sub-011/sourcedata-eeg_inside-MRT/beh/sub-011_task-pdm_acq-insideMRT_run-03_beh.tsv',\n",
       " '/home/jovyan/yikang1020/Ostwald_OSF/BIDS_data/sub-011/sourcedata-eeg_inside-MRT/beh/sub-011_task-pdm_acq-insideMRT_run-04_beh.tsv',\n",
       " '/home/jovyan/yikang1020/Ostwald_OSF/BIDS_data/sub-011/sourcedata-eeg_inside-MRT/beh/sub-011_task-pdm_acq-insideMRT_run-05_beh.tsv',\n",
       " '/home/jovyan/yikang1020/Ostwald_OSF/BIDS_data/sub-012/sourcedata-eeg_outside-MRT/beh/sub-012_task-pdm_acq-outsideMRT_run-01_beh.tsv',\n",
       " '/home/jovyan/yikang1020/Ostwald_OSF/BIDS_data/sub-012/sourcedata-eeg_outside-MRT/beh/sub-012_task-pdm_acq-outsideMRT_run-02_beh.tsv',\n",
       " '/home/jovyan/yikang1020/Ostwald_OSF/BIDS_data/sub-012/sourcedata-eeg_inside-MRT/beh/sub-012_task-pdm_acq-insideMRT_run-01_beh.tsv',\n",
       " '/home/jovyan/yikang1020/Ostwald_OSF/BIDS_data/sub-012/sourcedata-eeg_inside-MRT/beh/sub-012_task-pdm_acq-insideMRT_run-02_beh.tsv',\n",
       " '/home/jovyan/yikang1020/Ostwald_OSF/BIDS_data/sub-012/sourcedata-eeg_inside-MRT/beh/sub-012_task-pdm_acq-insideMRT_run-03_beh.tsv',\n",
       " '/home/jovyan/yikang1020/Ostwald_OSF/BIDS_data/sub-012/sourcedata-eeg_inside-MRT/beh/sub-012_task-pdm_acq-insideMRT_run-04_beh.tsv',\n",
       " '/home/jovyan/yikang1020/Ostwald_OSF/BIDS_data/sub-012/sourcedata-eeg_inside-MRT/beh/sub-012_task-pdm_acq-insideMRT_run-05_beh.tsv',\n",
       " '/home/jovyan/yikang1020/Ostwald_OSF/BIDS_data/sub-013/sourcedata-eeg_outside-MRT/beh/sub-013_task-pdm_acq-outsideMRT_run-01_beh.tsv',\n",
       " '/home/jovyan/yikang1020/Ostwald_OSF/BIDS_data/sub-013/sourcedata-eeg_outside-MRT/beh/sub-013_task-pdm_acq-outsideMRT_run-02_beh.tsv',\n",
       " '/home/jovyan/yikang1020/Ostwald_OSF/BIDS_data/sub-013/sourcedata-eeg_inside-MRT/beh/sub-013_task-pdm_acq-insideMRT_run-01_beh.tsv',\n",
       " '/home/jovyan/yikang1020/Ostwald_OSF/BIDS_data/sub-013/sourcedata-eeg_inside-MRT/beh/sub-013_task-pdm_acq-insideMRT_run-02_beh.tsv',\n",
       " '/home/jovyan/yikang1020/Ostwald_OSF/BIDS_data/sub-013/sourcedata-eeg_inside-MRT/beh/sub-013_task-pdm_acq-insideMRT_run-03_beh.tsv',\n",
       " '/home/jovyan/yikang1020/Ostwald_OSF/BIDS_data/sub-013/sourcedata-eeg_inside-MRT/beh/sub-013_task-pdm_acq-insideMRT_run-04_beh.tsv',\n",
       " '/home/jovyan/yikang1020/Ostwald_OSF/BIDS_data/sub-013/sourcedata-eeg_inside-MRT/beh/sub-013_task-pdm_acq-insideMRT_run-05_beh.tsv',\n",
       " '/home/jovyan/yikang1020/Ostwald_OSF/BIDS_data/sub-014/sourcedata-eeg_outside-MRT/beh/sub-014_task-pdm_acq-outsideMRT_run-01_beh.tsv',\n",
       " '/home/jovyan/yikang1020/Ostwald_OSF/BIDS_data/sub-014/sourcedata-eeg_outside-MRT/beh/sub-014_task-pdm_acq-outsideMRT_run-02_beh.tsv',\n",
       " '/home/jovyan/yikang1020/Ostwald_OSF/BIDS_data/sub-014/sourcedata-eeg_inside-MRT/beh/sub-014_task-pdm_acq-insideMRT_run-01_beh.tsv',\n",
       " '/home/jovyan/yikang1020/Ostwald_OSF/BIDS_data/sub-014/sourcedata-eeg_inside-MRT/beh/sub-014_task-pdm_acq-insideMRT_run-02_beh.tsv',\n",
       " '/home/jovyan/yikang1020/Ostwald_OSF/BIDS_data/sub-014/sourcedata-eeg_inside-MRT/beh/sub-014_task-pdm_acq-insideMRT_run-03_beh.tsv',\n",
       " '/home/jovyan/yikang1020/Ostwald_OSF/BIDS_data/sub-014/sourcedata-eeg_inside-MRT/beh/sub-014_task-pdm_acq-insideMRT_run-04_beh.tsv',\n",
       " '/home/jovyan/yikang1020/Ostwald_OSF/BIDS_data/sub-014/sourcedata-eeg_inside-MRT/beh/sub-014_task-pdm_acq-insideMRT_run-05_beh.tsv',\n",
       " '/home/jovyan/yikang1020/Ostwald_OSF/BIDS_data/sub-015/sourcedata-eeg_outside-MRT/beh/sub-015_task-pdm_acq-outsideMRT_run-01_beh.tsv',\n",
       " '/home/jovyan/yikang1020/Ostwald_OSF/BIDS_data/sub-015/sourcedata-eeg_outside-MRT/beh/sub-015_task-pdm_acq-outsideMRT_run-02_beh.tsv',\n",
       " '/home/jovyan/yikang1020/Ostwald_OSF/BIDS_data/sub-015/sourcedata-eeg_inside-MRT/beh/sub-015_task-pdm_acq-insideMRT_run-01_beh.tsv',\n",
       " '/home/jovyan/yikang1020/Ostwald_OSF/BIDS_data/sub-015/sourcedata-eeg_inside-MRT/beh/sub-015_task-pdm_acq-insideMRT_run-02_beh.tsv',\n",
       " '/home/jovyan/yikang1020/Ostwald_OSF/BIDS_data/sub-015/sourcedata-eeg_inside-MRT/beh/sub-015_task-pdm_acq-insideMRT_run-03_beh.tsv',\n",
       " '/home/jovyan/yikang1020/Ostwald_OSF/BIDS_data/sub-015/sourcedata-eeg_inside-MRT/beh/sub-015_task-pdm_acq-insideMRT_run-04_beh.tsv',\n",
       " '/home/jovyan/yikang1020/Ostwald_OSF/BIDS_data/sub-015/sourcedata-eeg_inside-MRT/beh/sub-015_task-pdm_acq-insideMRT_run-05_beh.tsv',\n",
       " '/home/jovyan/yikang1020/Ostwald_OSF/BIDS_data/sub-016/sourcedata-eeg_outside-MRT/beh/sub-016_task-pdm_acq-outsideMRT_run-01_beh.tsv',\n",
       " '/home/jovyan/yikang1020/Ostwald_OSF/BIDS_data/sub-016/sourcedata-eeg_outside-MRT/beh/sub-016_task-pdm_acq-outsideMRT_run-02_beh.tsv',\n",
       " '/home/jovyan/yikang1020/Ostwald_OSF/BIDS_data/sub-016/sourcedata-eeg_inside-MRT/beh/sub-016_task-pdm_acq-insideMRT_run-01_beh.tsv',\n",
       " '/home/jovyan/yikang1020/Ostwald_OSF/BIDS_data/sub-016/sourcedata-eeg_inside-MRT/beh/sub-016_task-pdm_acq-insideMRT_run-02_beh.tsv',\n",
       " '/home/jovyan/yikang1020/Ostwald_OSF/BIDS_data/sub-016/sourcedata-eeg_inside-MRT/beh/sub-016_task-pdm_acq-insideMRT_run-03_beh.tsv',\n",
       " '/home/jovyan/yikang1020/Ostwald_OSF/BIDS_data/sub-016/sourcedata-eeg_inside-MRT/beh/sub-016_task-pdm_acq-insideMRT_run-04_beh.tsv',\n",
       " '/home/jovyan/yikang1020/Ostwald_OSF/BIDS_data/sub-016/sourcedata-eeg_inside-MRT/beh/sub-016_task-pdm_acq-insideMRT_run-05_beh.tsv',\n",
       " '/home/jovyan/yikang1020/Ostwald_OSF/BIDS_data/sub-017/sourcedata-eeg_outside-MRT/beh/sub-017_task-pdm_acq-outsideMRT_run-01_beh.tsv',\n",
       " '/home/jovyan/yikang1020/Ostwald_OSF/BIDS_data/sub-017/sourcedata-eeg_outside-MRT/beh/sub-017_task-pdm_acq-outsideMRT_run-02_beh.tsv',\n",
       " '/home/jovyan/yikang1020/Ostwald_OSF/BIDS_data/sub-017/sourcedata-eeg_inside-MRT/beh/sub-017_task-pdm_acq-insideMRT_run-01_beh.tsv',\n",
       " '/home/jovyan/yikang1020/Ostwald_OSF/BIDS_data/sub-017/sourcedata-eeg_inside-MRT/beh/sub-017_task-pdm_acq-insideMRT_run-02_beh.tsv',\n",
       " '/home/jovyan/yikang1020/Ostwald_OSF/BIDS_data/sub-017/sourcedata-eeg_inside-MRT/beh/sub-017_task-pdm_acq-insideMRT_run-03_beh.tsv',\n",
       " '/home/jovyan/yikang1020/Ostwald_OSF/BIDS_data/sub-017/sourcedata-eeg_inside-MRT/beh/sub-017_task-pdm_acq-insideMRT_run-04_beh.tsv',\n",
       " '/home/jovyan/yikang1020/Ostwald_OSF/BIDS_data/sub-017/sourcedata-eeg_inside-MRT/beh/sub-017_task-pdm_acq-insideMRT_run-05_beh.tsv']"
      ]
     },
     "execution_count": 240,
     "metadata": {},
     "output_type": "execute_result"
    }
   ],
   "source": [
    "#df_dirs\n",
    "df_dirs=[]\n",
    "temp_dir =os.getcwd()\n",
    "BIDS_data='BIDS_data'\n",
    "datatype='beh'\n",
    "for subj_idx in subj_idxs :\n",
    "    for task in tasks:\n",
    "        if task==tasks[0]:\n",
    "            for run_index in range(0,2):\n",
    "                run=runs[run_index]\n",
    "                run=subj_idx+'_task-pdm_acq-'+run\n",
    "                df_dir=os.path.join(temp_dir,BIDS_data,subj_idx,task,datatype,run)\n",
    "                df_dirs.append(df_dir)\n",
    "        else:\n",
    "            for run_index in range(2,7):\n",
    "                run=runs[run_index]\n",
    "                run=subj_idx+'_task-pdm_acq-'+run\n",
    "                df_dir=os.path.join(temp_dir,BIDS_data,subj_idx,task,datatype,run)\n",
    "                df_dirs.append(df_dir)\n",
    "df_dirs"
   ]
  },
  {
   "cell_type": "code",
   "execution_count": 567,
   "metadata": {},
   "outputs": [],
   "source": [
    "#dfs\n",
    "dfs=pd.DataFrame()\n",
    "for df_dir in df_dirs:\n",
    "    if os.path.exists(df_dir):\n",
    "        df=pd.read_csv(df_dir,sep='\\t')\n",
    "        subject=''.join(re.findall(r'BIDS_data/(.+?)/sourcedata',df_dir))\n",
    "        side=''.join(re.findall(r'/sourcedata-eeg_(.+?)-MRT/beh/',df_dir))\n",
    "        run=''.join(re.findall(r'run-0(.+?)_beh',df_dir))\n",
    "        df['subject']=subject\n",
    "        df['side']=side\n",
    "        df['run']=int(run)\n",
    "        dfs=pd.concat([df,dfs])\n",
    "    else:\n",
    "        pass"
   ]
  },
  {
   "cell_type": "code",
   "execution_count": 568,
   "metadata": {},
   "outputs": [],
   "source": [
    "#clear\n",
    "dfs=dfs.reset_index(inplace=False)\n",
    "dfs=dfs.rename(columns={'level_0':'new_index'})\n",
    "dfs['subject']=dfs['subject'].str.replace('sub-0',' ').astype(int)\n",
    "dfs.dropna(subset=['response_time'],inplace=True)\n",
    "\n",
    "#variable\n",
    "dfs['prioritization_cue']=dfs['prioritization_cue'].map({74:'left',75:'right',76:'double'},na_action=None)\n",
    "dfs['coherency']=dfs['condition'].map({1:'high',2:'high',3:'low',4:'low'})\n",
    "dfs['prioritization']=dfs['condition'].map({1:'yes',2:'no',3:'yes',4:'no'})\n",
    "\n",
    "car_images=[1,2,3,4,5,6,7,8,9,10,11,12,13,14,15,16,17,18,37,38,39,40,41,42,43,44,45,46,47,48,49,50,51,52,53,54]\n",
    "face_images=[19,20,21,22,23,24,25,26,27,28,29,30,31,32,33,34,35,36,55,56,57,58,59,60,61,62,63,64,65,66,67,68,69,70,71,72]\n",
    "dfs['category']=dfs['image_index'].isin(car_images).astype(int).map({1:'car', 0:'face'})\n",
    "\n",
    "dfs.to_csv('/home/jovyan/yikang1020/Ostwald_OSF/dfs_raw')"
   ]
  },
  {
   "cell_type": "code",
   "execution_count": 572,
   "metadata": {},
   "outputs": [],
   "source": []
  },
  {
   "cell_type": "code",
   "execution_count": null,
   "metadata": {},
   "outputs": [],
   "source": []
  },
  {
   "cell_type": "code",
   "execution_count": null,
   "metadata": {},
   "outputs": [],
   "source": []
  },
  {
   "cell_type": "code",
   "execution_count": null,
   "metadata": {
    "scrolled": true
   },
   "outputs": [],
   "source": []
  },
  {
   "cell_type": "code",
   "execution_count": null,
   "metadata": {},
   "outputs": [],
   "source": []
  },
  {
   "cell_type": "code",
   "execution_count": null,
   "metadata": {},
   "outputs": [],
   "source": []
  },
  {
   "cell_type": "code",
   "execution_count": 464,
   "metadata": {},
   "outputs": [],
   "source": []
  },
  {
   "cell_type": "code",
   "execution_count": null,
   "metadata": {},
   "outputs": [],
   "source": []
  }
 ],
 "metadata": {
  "kernelspec": {
   "display_name": "Python 3",
   "language": "python",
   "name": "python3"
  },
  "language_info": {
   "codemirror_mode": {
    "name": "ipython",
    "version": 3
   },
   "file_extension": ".py",
   "mimetype": "text/x-python",
   "name": "python",
   "nbconvert_exporter": "python",
   "pygments_lexer": "ipython3",
   "version": "3.8.8"
  }
 },
 "nbformat": 4,
 "nbformat_minor": 4
}
