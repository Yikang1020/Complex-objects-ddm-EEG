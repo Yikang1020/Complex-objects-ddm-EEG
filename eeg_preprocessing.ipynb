{
 "cells": [
  {
   "cell_type": "code",
   "execution_count": null,
   "id": "a133b715-8371-458c-83ef-a4355c3d08a0",
   "metadata": {
    "scrolled": true,
    "tags": []
   },
   "outputs": [],
   "source": [
    "import mne\n",
    "from mne.preprocessing import (ICA, create_eog_epochs, create_ecg_epochs, corrmap)\n",
    "import os\n",
    "import numpy as np\n",
    "import pandas as pd\n",
    "from glob import glob"
   ]
  },
  {
   "cell_type": "code",
   "execution_count": null,
   "id": "d706e1d6-bc10-4e99-8ba1-6fe3d9433d94",
   "metadata": {},
   "outputs": [],
   "source": [
    "ds_root = \"D:/yikang1020/yikangsystem1020/2_Projects/复杂知觉决策的证据积累模型：EEG和行为的证据/2_Study/2_3_RawData/RawData/Ostwald_OSF/BIDS_data\"\n",
    "anlz_dir = \"/home/jovyan/hddm/2_Study/2_4_Analysis/2_4_3_tmp_data/filtered_subj\"\n",
    "out_MR = \"sourcedata-eeg_outside-MRT/eeg\""
   ]
  },
  {
   "cell_type": "code",
   "execution_count": null,
   "id": "a15ca230-2eae-4944-a279-cd31db147574",
   "metadata": {},
   "outputs": [],
   "source": [
    "hc = ['Stimulus/S 10',#high phase coherence , prioritized     [l]\n",
    " 'Stimulus/S 11',#high phase coherence , prioritized     [r]\n",
    " 'Stimulus/S 20',#high phase coherence , not prioritized [l]\n",
    " 'Stimulus/S 21']#low phase coherence  , not prioritized [r]\n",
    "lc = ['Stimulus/S 30',#low phase coherence  , prioritized     [l]\n",
    " 'Stimulus/S 31',#low phase coherence  , prioritized     [r]\n",
    " 'Stimulus/S 40',#low phase coherence  , not prioritized [l]\n",
    " 'Stimulus/S 41']"
   ]
  },
  {
   "cell_type": "code",
   "execution_count": null,
   "id": "6cffd3d9-c2c5-4746-a646-a84f597d12bc",
   "metadata": {},
   "outputs": [],
   "source": [
    "list_out_subj = ['sub-001', \n",
    "                 'sub-003', \n",
    "                 'sub-004', \n",
    "                 'sub-005', \n",
    "                 'sub-006', \n",
    "                 'sub-008', \n",
    "                 'sub-009', \n",
    "                 'sub-010', \n",
    "                 'sub-012',\n",
    "                 'sub-013',\n",
    "                 'sub-014',\n",
    "                 'sub-015', \n",
    "                 'sub-016',\n",
    "                 'sub-017']"
   ]
  },
  {
   "cell_type": "code",
   "execution_count": null,
   "id": "7d75bc3a-2aa1-409d-8104-9a8bc9216e3a",
   "metadata": {
    "scrolled": true,
    "tags": []
   },
   "outputs": [],
   "source": [
    "for subject in list_out_subj:\n",
    "    subj = subject\n",
    "    folder_MR = out_MR \n",
    "    src_dir_subj = os.path.join(ds_root,subj,folder_MR)\n",
    "    fname = glob(src_dir_subj + \"/*.vhdr\")[0]\n",
    "    \n",
    "    raw = mne.io.read_raw_brainvision(fname, preload = True)\n",
    "    \n",
    "    raw.set_channel_types({'EOG':'eog'})   \n",
    "    raw.set_channel_types({'ECG':'ecg'})\n",
    "    \n",
    "    raw.resample(256, npad=\"auto\")\n",
    "    \n",
    "    raw.filter(1, 30, fir_design='firwin', picks=['eeg'])\n",
    "    \n",
    "    raw.set_eeg_reference('average', projection=True).apply_proj()\n",
    "    \n",
    "    events_from_annot, event_dict = mne.events_from_annotations(raw)\n",
    "    \n",
    "    event_dict ={'Stimulus/S  5': 5,\n",
    " 'Stimulus/S  6': 6,\n",
    " 'Stimulus/S 10': 10,#high phase coherence , prioritized     [l]\n",
    " 'Stimulus/S 11': 11,#high phase coherence , prioritized     [r]\n",
    " 'Stimulus/S 20': 20,#high phase coherence , not prioritized [l]\n",
    " 'Stimulus/S 21': 21,#high phase coherence , not prioritized [r]\n",
    " 'Stimulus/S 30': 30,#low phase coherence  , prioritized     [l]\n",
    " 'Stimulus/S 31': 31,#low phase coherence  , prioritized     [r]\n",
    " 'Stimulus/S 40': 40,#low phase coherence  , not prioritized [l]\n",
    " 'Stimulus/S 41': 41}#low phase coherence  , not prioritized [r]\n",
    "    \n",
    "    reject_criteria = dict(eeg=100e-6) \n",
    "    \n",
    "    epochs = mne.Epochs(raw, events_from_annot, event_id=event_dict, tmin=-0.1, tmax=0.8,\n",
    "                    reject=reject_criteria, baseline = (None,0), preload=True, picks=['eeg'])\n",
    "    \n",
    "    ica = mne.preprocessing.ICA(n_components=50, random_state=97, method='fastica')\n",
    "    ica.fit(epochs) \n",
    "    \n",
    "    ica.exclude = []                                   \n",
    "    eog_indices, eog_scores = ica.find_bads_eog(raw) \n",
    "                                                                         \n",
    "    ecg_indices, ecg_scores = ica.find_bads_ecg(raw, method='ctps')\n",
    "                                                                   \n",
    "    ica.exclude = eog_indices + ecg_indices \n",
    "    \n",
    "    ica.apply(epochs) \n",
    "    \n",
    "    tname = os.path.join(\"D:/yikang1020/yikangsystem1020/2_Projects/复杂知觉决策的证据积累模型：EEG和行为的证据/2_Study/2_4_Analysis/2_4_3_tmp_data/eeg2\", subj + \"_pred.fif\")\n",
    "    \n",
    "    epochs.save(tname,overwrite=True)\n",
    "    \n",
    "    print(subj+'has done')"
   ]
  },
  {
   "cell_type": "code",
   "execution_count": null,
   "id": "b967137b-e345-4c40-835f-79459986d262",
   "metadata": {},
   "outputs": [],
   "source": []
  },
  {
   "cell_type": "code",
   "execution_count": null,
   "id": "c3d71ed4-7a93-485d-b0d0-451e8ed7d798",
   "metadata": {},
   "outputs": [],
   "source": []
  }
 ],
 "metadata": {
  "kernelspec": {
   "display_name": "Python 3 (ipykernel)",
   "language": "python",
   "name": "python3"
  },
  "language_info": {
   "codemirror_mode": {
    "name": "ipython",
    "version": 3
   },
   "file_extension": ".py",
   "mimetype": "text/x-python",
   "name": "python",
   "nbconvert_exporter": "python",
   "pygments_lexer": "ipython3",
   "version": "3.8.8"
  }
 },
 "nbformat": 4,
 "nbformat_minor": 5
}
