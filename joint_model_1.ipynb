{
 "cells": [
  {
   "cell_type": "code",
   "execution_count": 1,
   "id": "4a8642c0-9282-428e-af12-286f276b8f70",
   "metadata": {},
   "outputs": [],
   "source": [
    "%matplotlib inline\n",
    "import os\n",
    "import os.path as op\n",
    "import numpy as np\n",
    "import pandas as pd\n",
    "from time import time\n",
    "import matplotlib.pyplot as plt\n",
    "import scipy.stats as stats\n",
    "import statsmodels.api as sm\n",
    "import seaborn as sns"
   ]
  },
  {
   "cell_type": "code",
   "execution_count": 3,
   "id": "b6395f83-59ca-4772-a1ef-e6dde8bd1ed3",
   "metadata": {},
   "outputs": [],
   "source": [
    "cpp = pd.read_csv('~/hddm/2_Study/2_4_Analysis/2_4_3_tmp_data/cpp2.csv')"
   ]
  },
  {
   "cell_type": "code",
   "execution_count": 4,
   "id": "3b082095-0df6-4fad-a09c-583c4685b6cf",
   "metadata": {},
   "outputs": [],
   "source": [
    "diff_CPP_amplitude = cpp['low'].to_numpy()"
   ]
  },
  {
   "cell_type": "code",
   "execution_count": 6,
   "id": "81e9f6bb-f570-4d16-a5ed-40800065a440",
   "metadata": {},
   "outputs": [],
   "source": [
    "model = pd.read_csv('~/hddm/2_Study/2_4_Analysis/2_4_3_tmp_data/model/model1_comb.csv')"
   ]
  },
  {
   "cell_type": "code",
   "execution_count": 9,
   "id": "6f4fa51d-1ed3-436d-a209-a96584e2ff60",
   "metadata": {},
   "outputs": [],
   "source": [
    "par_hc1 = model.filter(regex = \"v_subj\\(High.1.0\\).*\").to_numpy()[0]\n",
    "par_hc2 = model.filter(regex = \"v_subj\\(High.0.0\\).*\").to_numpy()[0]\n",
    "par_hc = (abs(par_hc1) - abs(par_hc2))/2\n",
    "par_lc1 = model.filter(regex=\"v_subj\\(Low.1.0\\).*\").to_numpy()[0]\n",
    "par_lc2 = model.filter(regex=\"v_subj\\(Low.0.0\\).*\").to_numpy()[0]\n",
    "par_lc = (abs(par_lc1) - abs(par_lc2))/2\n",
    "diff_v = (par_hc2 - par_lc2)/2"
   ]
  },
  {
   "cell_type": "code",
   "execution_count": 10,
   "id": "15ef1bf5-9119-418f-b37b-4234aa99108b",
   "metadata": {},
   "outputs": [
    {
     "data": {
      "text/plain": [
       "array([2.23117448e-08, 1.12834130e-06, 4.25048809e-06, 3.04887153e-06,\n",
       "       1.70989851e-07, 4.65447953e-07, 6.20747163e-07, 2.95550387e-06,\n",
       "       5.28875238e-06, 4.53711180e-07, 2.45905087e-06, 1.32462822e-06,\n",
       "       5.20011125e-06, 1.84154538e-06])"
      ]
     },
     "execution_count": 10,
     "metadata": {},
     "output_type": "execute_result"
    }
   ],
   "source": [
    "abs(diff_CPP_amplitude)"
   ]
  },
  {
   "cell_type": "code",
   "execution_count": 14,
   "id": "63a7df36-2e56-4d7a-ae7a-4f55061a3647",
   "metadata": {},
   "outputs": [
    {
     "data": {
      "text/plain": [
       "array([0.32101863, 0.94815921, 0.20418557, 0.83012881, 0.70920793,\n",
       "       0.23600156, 0.33833942, 0.51436403, 0.67029637, 0.68816015,\n",
       "       0.23352106, 0.63956856, 0.68381563, 0.68068645])"
      ]
     },
     "execution_count": 14,
     "metadata": {},
     "output_type": "execute_result"
    }
   ],
   "source": [
    "abs(diff_v)"
   ]
  },
  {
   "cell_type": "code",
   "execution_count": 276,
   "id": "9b4e2745-fbac-477f-86ca-91aca6f38be3",
   "metadata": {},
   "outputs": [],
   "source": [
    "reg_independent_diff   = pd.DataFrame({'erp' : diff_CPP_amplitude})"
   ]
  },
  {
   "cell_type": "code",
   "execution_count": 277,
   "id": "7feeebc3-299e-4d6d-b7f0-259899c9f52a",
   "metadata": {},
   "outputs": [],
   "source": [
    "y = diff_v\n",
    "X = reg_independent_diff\n",
    "X = sm.add_constant(X)"
   ]
  },
  {
   "cell_type": "code",
   "execution_count": 278,
   "id": "c07a479a-bea6-4b3c-9ed0-c0c092d696ea",
   "metadata": {},
   "outputs": [],
   "source": [
    "model_ddm_1 = sm.OLS(y, X).fit()"
   ]
  },
  {
   "cell_type": "code",
   "execution_count": 279,
   "id": "d1e3d15e-b653-4b58-99f5-1ea6fea37ee8",
   "metadata": {},
   "outputs": [
    {
     "name": "stderr",
     "output_type": "stream",
     "text": [
      "D:\\anaconda\\lib\\site-packages\\scipy\\stats\\stats.py:1603: UserWarning: kurtosistest only valid for n>=20 ... continuing anyway, n=14\n",
      "  warnings.warn(\"kurtosistest only valid for n>=20 ... continuing \"\n"
     ]
    },
    {
     "data": {
      "text/html": [
       "<table class=\"simpletable\">\n",
       "<caption>OLS Regression Results</caption>\n",
       "<tr>\n",
       "  <th>Dep. Variable:</th>            <td>y</td>        <th>  R-squared:         </th> <td>   0.014</td>\n",
       "</tr>\n",
       "<tr>\n",
       "  <th>Model:</th>                   <td>OLS</td>       <th>  Adj. R-squared:    </th> <td>  -0.068</td>\n",
       "</tr>\n",
       "<tr>\n",
       "  <th>Method:</th>             <td>Least Squares</td>  <th>  F-statistic:       </th> <td>  0.1706</td>\n",
       "</tr>\n",
       "<tr>\n",
       "  <th>Date:</th>             <td>Wed, 04 May 2022</td> <th>  Prob (F-statistic):</th>  <td> 0.687</td> \n",
       "</tr>\n",
       "<tr>\n",
       "  <th>Time:</th>                 <td>21:11:45</td>     <th>  Log-Likelihood:    </th> <td> 0.66727</td>\n",
       "</tr>\n",
       "<tr>\n",
       "  <th>No. Observations:</th>      <td>    14</td>      <th>  AIC:               </th> <td>   2.665</td>\n",
       "</tr>\n",
       "<tr>\n",
       "  <th>Df Residuals:</th>          <td>    12</td>      <th>  BIC:               </th> <td>   3.944</td>\n",
       "</tr>\n",
       "<tr>\n",
       "  <th>Df Model:</th>              <td>     1</td>      <th>                     </th>     <td> </td>   \n",
       "</tr>\n",
       "<tr>\n",
       "  <th>Covariance Type:</th>      <td>nonrobust</td>    <th>                     </th>     <td> </td>   \n",
       "</tr>\n",
       "</table>\n",
       "<table class=\"simpletable\">\n",
       "<tr>\n",
       "    <td></td>       <th>coef</th>     <th>std err</th>      <th>t</th>      <th>P>|t|</th>  <th>[0.025</th>    <th>0.975]</th>  \n",
       "</tr>\n",
       "<tr>\n",
       "  <th>const</th> <td>   -0.5203</td> <td>    0.098</td> <td>   -5.322</td> <td> 0.000</td> <td>   -0.733</td> <td>   -0.307</td>\n",
       "</tr>\n",
       "<tr>\n",
       "  <th>erp</th>   <td>-1.478e+04</td> <td> 3.58e+04</td> <td>   -0.413</td> <td> 0.687</td> <td>-9.28e+04</td> <td> 6.32e+04</td>\n",
       "</tr>\n",
       "</table>\n",
       "<table class=\"simpletable\">\n",
       "<tr>\n",
       "  <th>Omnibus:</th>       <td> 0.921</td> <th>  Durbin-Watson:     </th> <td>   2.836</td>\n",
       "</tr>\n",
       "<tr>\n",
       "  <th>Prob(Omnibus):</th> <td> 0.631</td> <th>  Jarque-Bera (JB):  </th> <td>   0.693</td>\n",
       "</tr>\n",
       "<tr>\n",
       "  <th>Skew:</th>          <td> 0.133</td> <th>  Prob(JB):          </th> <td>   0.707</td>\n",
       "</tr>\n",
       "<tr>\n",
       "  <th>Kurtosis:</th>      <td> 1.943</td> <th>  Cond. No.          </th> <td>5.38e+05</td>\n",
       "</tr>\n",
       "</table><br/><br/>Notes:<br/>[1] Standard Errors assume that the covariance matrix of the errors is correctly specified.<br/>[2] The smallest eigenvalue is 4.85e-11. This might indicate that there are<br/>strong multicollinearity problems or that the design matrix is singular."
      ],
      "text/plain": [
       "<class 'statsmodels.iolib.summary.Summary'>\n",
       "\"\"\"\n",
       "                            OLS Regression Results                            \n",
       "==============================================================================\n",
       "Dep. Variable:                      y   R-squared:                       0.014\n",
       "Model:                            OLS   Adj. R-squared:                 -0.068\n",
       "Method:                 Least Squares   F-statistic:                    0.1706\n",
       "Date:                Wed, 04 May 2022   Prob (F-statistic):              0.687\n",
       "Time:                        21:11:45   Log-Likelihood:                0.66727\n",
       "No. Observations:                  14   AIC:                             2.665\n",
       "Df Residuals:                      12   BIC:                             3.944\n",
       "Df Model:                           1                                         \n",
       "Covariance Type:            nonrobust                                         \n",
       "==============================================================================\n",
       "                 coef    std err          t      P>|t|      [0.025      0.975]\n",
       "------------------------------------------------------------------------------\n",
       "const         -0.5203      0.098     -5.322      0.000      -0.733      -0.307\n",
       "erp        -1.478e+04   3.58e+04     -0.413      0.687   -9.28e+04    6.32e+04\n",
       "==============================================================================\n",
       "Omnibus:                        0.921   Durbin-Watson:                   2.836\n",
       "Prob(Omnibus):                  0.631   Jarque-Bera (JB):                0.693\n",
       "Skew:                           0.133   Prob(JB):                        0.707\n",
       "Kurtosis:                       1.943   Cond. No.                     5.38e+05\n",
       "==============================================================================\n",
       "\n",
       "Notes:\n",
       "[1] Standard Errors assume that the covariance matrix of the errors is correctly specified.\n",
       "[2] The smallest eigenvalue is 4.85e-11. This might indicate that there are\n",
       "strong multicollinearity problems or that the design matrix is singular.\n",
       "\"\"\""
      ]
     },
     "execution_count": 279,
     "metadata": {},
     "output_type": "execute_result"
    }
   ],
   "source": [
    "model_ddm_1.summary()"
   ]
  },
  {
   "cell_type": "code",
   "execution_count": 280,
   "id": "bba760cb-e534-454c-8d51-4780d5fdc84a",
   "metadata": {},
   "outputs": [
    {
     "data": {
      "image/png": "[encoded data removed]",
      "text/plain": [
       "<Figure size 432x288 with 1 Axes>"
      ]
     },
     "metadata": {
      "needs_background": "light"
     },
     "output_type": "display_data"
    }
   ],
   "source": [
    "fig = sm.graphics.plot_ccpr(model_ddm_1, \"erp\")\n",
    "fig.tight_layout(pad=1.0)"
   ]
  },
  {
   "cell_type": "code",
   "execution_count": 281,
   "id": "a4029e5c-59ef-4d7d-8c2b-62b349c3b14e",
   "metadata": {},
   "outputs": [
    {
     "data": {
      "text/plain": [
       "(-0.11838326640511986, 0.6868935313031403)"
      ]
     },
     "execution_count": 281,
     "metadata": {},
     "output_type": "execute_result"
    }
   ],
   "source": [
    "stats.pearsonr(diff_v, diff_CPP_amplitude)"
   ]
  },
  {
   "cell_type": "code",
   "execution_count": 282,
   "id": "0eaa24ff-e878-47fb-befd-975f71ac62b4",
   "metadata": {},
   "outputs": [],
   "source": [
    "pdata = pd.read_csv(\"D:/yikang1020/yikangsystem1020/2_Projects/复杂知觉决策的证据积累模型：EEG和行为的证据/2_Study/2_4_Analysis/2_4_3_tmp_data/filtered_group/sourcedata-eeg_outside-MRT/beh/performance_data.csv\")"
   ]
  },
  {
   "cell_type": "code",
   "execution_count": 283,
   "id": "250a6af6-53a8-4451-b4e1-174ccfa89224",
   "metadata": {},
   "outputs": [],
   "source": [
    "diff_data = pd.DataFrame({'ACC_high':[],\n",
    "                          'ACC_low':[],\n",
    "                          'RT_high':[],\n",
    "                          'RT_low':[],\n",
    "                          'diff_acc':[],\n",
    "                          'diff_rt':[],\n",
    "                          'Subject':[]})\n",
    "for i in range(1,18):\n",
    "    if i !=2 and i != 7 and i != 11:\n",
    "        subject = i\n",
    "        \n",
    "        data_High = pdata[(pdata[\"Condition\"]==\"High/Yes\")|(pdata[\"Condition\"]==\"High/No\")&(pdata[\"Subject\"]==i)]\n",
    "        data_Low = pdata[(pdata[\"Condition\"]==\"Low/Yes\")|(pdata[\"Condition\"]==\"Low/No\")&(pdata[\"Subject\"]==i)]\n",
    "        \n",
    "        data_High_rt = data_High['RT'].mean()\n",
    "        data_Low_rt = data_Low['RT'].mean()\n",
    "        data_diff_rt = data_High_rt - data_Low_rt\n",
    "        \n",
    "        data_High_acc = data_High['ACC'].mean()\n",
    "        data_Low_acc = data_Low['ACC'].mean()\n",
    "        data_diff_acc = data_High_acc - data_Low_acc\n",
    "        \n",
    "        data_new = pd.DataFrame({'ACC_high':[ data_High_acc],\n",
    "                          'ACC_low':[data_Low_acc],\n",
    "                          'RT_high':[data_High_rt],\n",
    "                          'RT_low':[data_Low_rt],\n",
    "                          'diff_acc':[data_diff_acc],\n",
    "                          'diff_rt':[data_diff_rt],\n",
    "                          'Subject':[i]})\n",
    "        diff_data = diff_data.append(data_new)\n",
    "diff_data['Subject'] = diff_data['Subject'].astype(int) "
   ]
  },
  {
   "cell_type": "code",
   "execution_count": 284,
   "id": "670c37a0-83da-48b0-b2e5-3345a7e3e0d3",
   "metadata": {},
   "outputs": [],
   "source": [
    "diff_data.to_csv(\"D:/yikang1020/yikangsystem1020/2_Projects/复杂知觉决策的证据积累模型：EEG和行为的证据/2_Study/2_4_Analysis/2_4_3_tmp_data/filtered_group/sourcedata-eeg_outside-MRT/beh/diff_data.csv\",index = False)"
   ]
  },
  {
   "cell_type": "code",
   "execution_count": 285,
   "id": "1927e51a-d6a8-4d4e-a588-eabeb00b1480",
   "metadata": {},
   "outputs": [],
   "source": [
    "diff_acc = diff_data['diff_acc'].to_numpy()\n",
    "diff_rt = diff_data['diff_rt'].to_numpy()"
   ]
  },
  {
   "cell_type": "code",
   "execution_count": 286,
   "id": "a143f165-758e-4dec-9920-8fd5be55fe45",
   "metadata": {},
   "outputs": [
    {
     "name": "stderr",
     "output_type": "stream",
     "text": [
      "D:\\anaconda\\lib\\site-packages\\scipy\\stats\\stats.py:1603: UserWarning: kurtosistest only valid for n>=20 ... continuing anyway, n=14\n",
      "  warnings.warn(\"kurtosistest only valid for n>=20 ... continuing \"\n"
     ]
    },
    {
     "data": {
      "text/html": [
       "<table class=\"simpletable\">\n",
       "<caption>OLS Regression Results</caption>\n",
       "<tr>\n",
       "  <th>Dep. Variable:</th>            <td>y</td>        <th>  R-squared:         </th> <td>   0.059</td>\n",
       "</tr>\n",
       "<tr>\n",
       "  <th>Model:</th>                   <td>OLS</td>       <th>  Adj. R-squared:    </th> <td>  -0.020</td>\n",
       "</tr>\n",
       "<tr>\n",
       "  <th>Method:</th>             <td>Least Squares</td>  <th>  F-statistic:       </th> <td>  0.7480</td>\n",
       "</tr>\n",
       "<tr>\n",
       "  <th>Date:</th>             <td>Wed, 04 May 2022</td> <th>  Prob (F-statistic):</th>  <td> 0.404</td> \n",
       "</tr>\n",
       "<tr>\n",
       "  <th>Time:</th>                 <td>21:11:48</td>     <th>  Log-Likelihood:    </th> <td> -30.819</td>\n",
       "</tr>\n",
       "<tr>\n",
       "  <th>No. Observations:</th>      <td>    14</td>      <th>  AIC:               </th> <td>   65.64</td>\n",
       "</tr>\n",
       "<tr>\n",
       "  <th>Df Residuals:</th>          <td>    12</td>      <th>  BIC:               </th> <td>   66.92</td>\n",
       "</tr>\n",
       "<tr>\n",
       "  <th>Df Model:</th>              <td>     1</td>      <th>                     </th>     <td> </td>   \n",
       "</tr>\n",
       "<tr>\n",
       "  <th>Covariance Type:</th>      <td>nonrobust</td>    <th>                     </th>     <td> </td>   \n",
       "</tr>\n",
       "</table>\n",
       "<table class=\"simpletable\">\n",
       "<tr>\n",
       "    <td></td>       <th>coef</th>     <th>std err</th>      <th>t</th>      <th>P>|t|</th>  <th>[0.025</th>    <th>0.975]</th>  \n",
       "</tr>\n",
       "<tr>\n",
       "  <th>const</th> <td>  -83.8015</td> <td>    0.927</td> <td>  -90.435</td> <td> 0.000</td> <td>  -85.820</td> <td>  -81.782</td>\n",
       "</tr>\n",
       "<tr>\n",
       "  <th>erp</th>   <td> 2.935e+05</td> <td> 3.39e+05</td> <td>    0.865</td> <td> 0.404</td> <td>-4.46e+05</td> <td> 1.03e+06</td>\n",
       "</tr>\n",
       "</table>\n",
       "<table class=\"simpletable\">\n",
       "<tr>\n",
       "  <th>Omnibus:</th>       <td> 0.337</td> <th>  Durbin-Watson:     </th> <td>   2.230</td>\n",
       "</tr>\n",
       "<tr>\n",
       "  <th>Prob(Omnibus):</th> <td> 0.845</td> <th>  Jarque-Bera (JB):  </th> <td>   0.475</td>\n",
       "</tr>\n",
       "<tr>\n",
       "  <th>Skew:</th>          <td>-0.191</td> <th>  Prob(JB):          </th> <td>   0.789</td>\n",
       "</tr>\n",
       "<tr>\n",
       "  <th>Kurtosis:</th>      <td> 2.182</td> <th>  Cond. No.          </th> <td>5.38e+05</td>\n",
       "</tr>\n",
       "</table><br/><br/>Notes:<br/>[1] Standard Errors assume that the covariance matrix of the errors is correctly specified.<br/>[2] The smallest eigenvalue is 4.85e-11. This might indicate that there are<br/>strong multicollinearity problems or that the design matrix is singular."
      ],
      "text/plain": [
       "<class 'statsmodels.iolib.summary.Summary'>\n",
       "\"\"\"\n",
       "                            OLS Regression Results                            \n",
       "==============================================================================\n",
       "Dep. Variable:                      y   R-squared:                       0.059\n",
       "Model:                            OLS   Adj. R-squared:                 -0.020\n",
       "Method:                 Least Squares   F-statistic:                    0.7480\n",
       "Date:                Wed, 04 May 2022   Prob (F-statistic):              0.404\n",
       "Time:                        21:11:48   Log-Likelihood:                -30.819\n",
       "No. Observations:                  14   AIC:                             65.64\n",
       "Df Residuals:                      12   BIC:                             66.92\n",
       "Df Model:                           1                                         \n",
       "Covariance Type:            nonrobust                                         \n",
       "==============================================================================\n",
       "                 coef    std err          t      P>|t|      [0.025      0.975]\n",
       "------------------------------------------------------------------------------\n",
       "const        -83.8015      0.927    -90.435      0.000     -85.820     -81.782\n",
       "erp         2.935e+05   3.39e+05      0.865      0.404   -4.46e+05    1.03e+06\n",
       "==============================================================================\n",
       "Omnibus:                        0.337   Durbin-Watson:                   2.230\n",
       "Prob(Omnibus):                  0.845   Jarque-Bera (JB):                0.475\n",
       "Skew:                          -0.191   Prob(JB):                        0.789\n",
       "Kurtosis:                       2.182   Cond. No.                     5.38e+05\n",
       "==============================================================================\n",
       "\n",
       "Notes:\n",
       "[1] Standard Errors assume that the covariance matrix of the errors is correctly specified.\n",
       "[2] The smallest eigenvalue is 4.85e-11. This might indicate that there are\n",
       "strong multicollinearity problems or that the design matrix is singular.\n",
       "\"\"\""
      ]
     },
     "execution_count": 286,
     "metadata": {},
     "output_type": "execute_result"
    }
   ],
   "source": [
    "#response time regression response time \n",
    "y = diff_rt\n",
    "X = reg_independent_diff\n",
    "X = sm.add_constant(X)\n",
    "# Note the difference in argument order\n",
    "model_rt = sm.OLS(y, X).fit()\n",
    "predictions = model_rt.predict(X) # make the predictions by the model\n",
    "# Print out the statistics\n",
    "model_rt.summary()"
   ]
  },
  {
   "cell_type": "code",
   "execution_count": 287,
   "id": "c7b8c9d2-3049-4ced-a177-c4235808d4b8",
   "metadata": {},
   "outputs": [
    {
     "data": {
      "image/png": "[encoded data removed]",
      "text/plain": [
       "<Figure size 432x288 with 1 Axes>"
      ]
     },
     "metadata": {
      "needs_background": "light"
     },
     "output_type": "display_data"
    }
   ],
   "source": [
    "fig = sm.graphics.plot_ccpr(model_rt, \"erp\")\n",
    "fig.tight_layout(pad=1.0)"
   ]
  },
  {
   "cell_type": "code",
   "execution_count": 288,
   "id": "80c55102-e382-4153-97e5-1e6026cc8d52",
   "metadata": {},
   "outputs": [
    {
     "data": {
      "text/plain": [
       "(0.24222492207389623, 0.4040806482016715)"
      ]
     },
     "execution_count": 288,
     "metadata": {},
     "output_type": "execute_result"
    }
   ],
   "source": [
    "stats.pearsonr(diff_rt, diff_CPP_amplitude)"
   ]
  },
  {
   "cell_type": "code",
   "execution_count": 289,
   "id": "870dfeb2-d905-4ddc-97b4-2aa7426cf610",
   "metadata": {},
   "outputs": [
    {
     "name": "stderr",
     "output_type": "stream",
     "text": [
      "D:\\anaconda\\lib\\site-packages\\scipy\\stats\\stats.py:1603: UserWarning: kurtosistest only valid for n>=20 ... continuing anyway, n=14\n",
      "  warnings.warn(\"kurtosistest only valid for n>=20 ... continuing \"\n"
     ]
    },
    {
     "data": {
      "text/html": [
       "<table class=\"simpletable\">\n",
       "<caption>OLS Regression Results</caption>\n",
       "<tr>\n",
       "  <th>Dep. Variable:</th>            <td>y</td>        <th>  R-squared:         </th> <td>   0.000</td>\n",
       "</tr>\n",
       "<tr>\n",
       "  <th>Model:</th>                   <td>OLS</td>       <th>  Adj. R-squared:    </th> <td>  -0.083</td>\n",
       "</tr>\n",
       "<tr>\n",
       "  <th>Method:</th>             <td>Least Squares</td>  <th>  F-statistic:       </th> <td>0.003585</td>\n",
       "</tr>\n",
       "<tr>\n",
       "  <th>Date:</th>             <td>Wed, 04 May 2022</td> <th>  Prob (F-statistic):</th>  <td> 0.953</td> \n",
       "</tr>\n",
       "<tr>\n",
       "  <th>Time:</th>                 <td>21:11:50</td>     <th>  Log-Likelihood:    </th> <td> -3.8873</td>\n",
       "</tr>\n",
       "<tr>\n",
       "  <th>No. Observations:</th>      <td>    14</td>      <th>  AIC:               </th> <td>   11.77</td>\n",
       "</tr>\n",
       "<tr>\n",
       "  <th>Df Residuals:</th>          <td>    12</td>      <th>  BIC:               </th> <td>   13.05</td>\n",
       "</tr>\n",
       "<tr>\n",
       "  <th>Df Model:</th>              <td>     1</td>      <th>                     </th>     <td> </td>   \n",
       "</tr>\n",
       "<tr>\n",
       "  <th>Covariance Type:</th>      <td>nonrobust</td>    <th>                     </th>     <td> </td>   \n",
       "</tr>\n",
       "</table>\n",
       "<table class=\"simpletable\">\n",
       "<tr>\n",
       "    <td></td>       <th>coef</th>     <th>std err</th>      <th>t</th>      <th>P>|t|</th>  <th>[0.025</th>    <th>0.975]</th>  \n",
       "</tr>\n",
       "<tr>\n",
       "  <th>const</th> <td>    8.7586</td> <td>    0.135</td> <td>   64.711</td> <td> 0.000</td> <td>    8.464</td> <td>    9.054</td>\n",
       "</tr>\n",
       "<tr>\n",
       "  <th>erp</th>   <td>-2967.5681</td> <td> 4.96e+04</td> <td>   -0.060</td> <td> 0.953</td> <td>-1.11e+05</td> <td> 1.05e+05</td>\n",
       "</tr>\n",
       "</table>\n",
       "<table class=\"simpletable\">\n",
       "<tr>\n",
       "  <th>Omnibus:</th>       <td> 0.779</td> <th>  Durbin-Watson:     </th> <td>   2.126</td>\n",
       "</tr>\n",
       "<tr>\n",
       "  <th>Prob(Omnibus):</th> <td> 0.677</td> <th>  Jarque-Bera (JB):  </th> <td>   0.743</td>\n",
       "</tr>\n",
       "<tr>\n",
       "  <th>Skew:</th>          <td> 0.397</td> <th>  Prob(JB):          </th> <td>   0.690</td>\n",
       "</tr>\n",
       "<tr>\n",
       "  <th>Kurtosis:</th>      <td> 2.198</td> <th>  Cond. No.          </th> <td>5.38e+05</td>\n",
       "</tr>\n",
       "</table><br/><br/>Notes:<br/>[1] Standard Errors assume that the covariance matrix of the errors is correctly specified.<br/>[2] The smallest eigenvalue is 4.85e-11. This might indicate that there are<br/>strong multicollinearity problems or that the design matrix is singular."
      ],
      "text/plain": [
       "<class 'statsmodels.iolib.summary.Summary'>\n",
       "\"\"\"\n",
       "                            OLS Regression Results                            \n",
       "==============================================================================\n",
       "Dep. Variable:                      y   R-squared:                       0.000\n",
       "Model:                            OLS   Adj. R-squared:                 -0.083\n",
       "Method:                 Least Squares   F-statistic:                  0.003585\n",
       "Date:                Wed, 04 May 2022   Prob (F-statistic):              0.953\n",
       "Time:                        21:11:50   Log-Likelihood:                -3.8873\n",
       "No. Observations:                  14   AIC:                             11.77\n",
       "Df Residuals:                      12   BIC:                             13.05\n",
       "Df Model:                           1                                         \n",
       "Covariance Type:            nonrobust                                         \n",
       "==============================================================================\n",
       "                 coef    std err          t      P>|t|      [0.025      0.975]\n",
       "------------------------------------------------------------------------------\n",
       "const          8.7586      0.135     64.711      0.000       8.464       9.054\n",
       "erp        -2967.5681   4.96e+04     -0.060      0.953   -1.11e+05    1.05e+05\n",
       "==============================================================================\n",
       "Omnibus:                        0.779   Durbin-Watson:                   2.126\n",
       "Prob(Omnibus):                  0.677   Jarque-Bera (JB):                0.743\n",
       "Skew:                           0.397   Prob(JB):                        0.690\n",
       "Kurtosis:                       2.198   Cond. No.                     5.38e+05\n",
       "==============================================================================\n",
       "\n",
       "Notes:\n",
       "[1] Standard Errors assume that the covariance matrix of the errors is correctly specified.\n",
       "[2] The smallest eigenvalue is 4.85e-11. This might indicate that there are\n",
       "strong multicollinearity problems or that the design matrix is singular.\n",
       "\"\"\""
      ]
     },
     "execution_count": 289,
     "metadata": {},
     "output_type": "execute_result"
    }
   ],
   "source": [
    "y = diff_acc\n",
    "X = reg_independent_diff\n",
    "X = sm.add_constant(X)\n",
    "# Note the difference in argument order\n",
    "model_per = sm.OLS(y, X).fit()\n",
    "predictions = model_per.predict(X) # make the predictions by the model\n",
    "# Print out the statistics\n",
    "model_per.summary()"
   ]
  },
  {
   "cell_type": "code",
   "execution_count": 290,
   "id": "8ae58eb0-1f71-4a04-9cf0-5ed950495a96",
   "metadata": {},
   "outputs": [
    {
     "data": {
      "image/png": "[encoded data removed]",
      "text/plain": [
       "<Figure size 432x288 with 1 Axes>"
      ]
     },
     "metadata": {
      "needs_background": "light"
     },
     "output_type": "display_data"
    }
   ],
   "source": [
    "fig = sm.graphics.plot_ccpr(model_per, \"erp\")\n",
    "fig.tight_layout(pad=1.0)"
   ]
  },
  {
   "cell_type": "code",
   "execution_count": 291,
   "id": "0944bee5-b0e1-4f94-a555-8916a253c419",
   "metadata": {},
   "outputs": [
    {
     "data": {
      "text/plain": [
       "(-0.017282242230142672, 0.9532397104089229)"
      ]
     },
     "execution_count": 291,
     "metadata": {},
     "output_type": "execute_result"
    }
   ],
   "source": [
    "stats.pearsonr(diff_acc, diff_CPP_amplitude)"
   ]
  },
  {
   "cell_type": "code",
   "execution_count": 15,
   "id": "d651992f-a0c8-4fea-8b73-b9596addfd02",
   "metadata": {},
   "outputs": [
    {
     "data": {
      "text/plain": [
       "35800.0"
      ]
     },
     "execution_count": 15,
     "metadata": {},
     "output_type": "execute_result"
    }
   ],
   "source": [
    "3.58e+04"
   ]
  },
  {
   "cell_type": "code",
   "execution_count": null,
   "id": "45bad787-9343-43f3-9e96-e0a946949fc4",
   "metadata": {},
   "outputs": [],
   "source": []
  },
  {
   "cell_type": "code",
   "execution_count": null,
   "id": "704ce83a-e3ac-44b0-9bf8-a1b1ba4534d3",
   "metadata": {},
   "outputs": [],
   "source": []
  },
  {
   "cell_type": "code",
   "execution_count": null,
   "id": "deb22efa-96d9-4d15-83fe-85f2f9561401",
   "metadata": {},
   "outputs": [],
   "source": []
  }
 ],
 "metadata": {
  "kernelspec": {
   "display_name": "Python 3",
   "language": "python",
   "name": "python3"
  },
  "language_info": {
   "codemirror_mode": {
    "name": "ipython",
    "version": 3
   },
   "file_extension": ".py",
   "mimetype": "text/x-python",
   "name": "python",
   "nbconvert_exporter": "python",
   "pygments_lexer": "ipython3",
   "version": "3.8.8"
  }
 },
 "nbformat": 4,
 "nbformat_minor": 5
}
