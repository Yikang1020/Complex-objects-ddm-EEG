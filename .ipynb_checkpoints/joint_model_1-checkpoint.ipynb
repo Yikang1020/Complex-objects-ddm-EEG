{
 "cells": [
  {
   "cell_type": "code",
   "execution_count": 2,
   "id": "4a8642c0-9282-428e-af12-286f276b8f70",
   "metadata": {},
   "outputs": [],
   "source": [
    "%matplotlib inline\n",
    "import os\n",
    "import os.path as op\n",
    "import mne\n",
    "import numpy as np\n",
    "import pandas as pd\n",
    "from time import time\n",
    "import matplotlib.pyplot as plt\n",
    "import scipy.stats as stats\n",
    "import statsmodels.api as sm\n",
    "import seaborn as sns"
   ]
  },
  {
   "cell_type": "code",
   "execution_count": 5,
   "id": "b6395f83-59ca-4772-a1ef-e6dde8bd1ed3",
   "metadata": {},
   "outputs": [],
   "source": [
    "diff_CPP_amplitude = pd.read_csv('D:/yikang1020/yikangsystem1020/2_Projects/复杂知觉决策的证据积累模型：EEG和行为的证据/2_Study/2_4_Analysis/2_4_3_tmp_data/cpp.csv')"
   ]
  },
  {
   "cell_type": "code",
   "execution_count": 6,
   "id": "3b082095-0df6-4fad-a09c-583c4685b6cf",
   "metadata": {},
   "outputs": [],
   "source": [
    "diff_CPP_amplitude = diff_CPP_amplitude['0'].to_numpy()"
   ]
  },
  {
   "cell_type": "code",
   "execution_count": 7,
   "id": "81e9f6bb-f570-4d16-a5ed-40800065a440",
   "metadata": {},
   "outputs": [],
   "source": [
    "model = pd.read_csv('D:/yikang1020/yikangsystem1020/2_Projects/复杂知觉决策的证据积累模型：EEG和行为的证据/2_Study/2_4_Analysis/2_4_3_tmp_data/model/model2_comb.csv')"
   ]
  },
  {
   "cell_type": "code",
   "execution_count": 8,
   "id": "6f4fa51d-1ed3-436d-a209-a96584e2ff60",
   "metadata": {},
   "outputs": [],
   "source": [
    "par_hc = model.filter(regex = \"z_subj\\(High\\).*\").to_numpy()[0]\n",
    "par_lc = model.filter(regex=\"z_subj\\(Low\\).*\").to_numpy()[0]\n",
    "diff_z = par_hc - par_lc"
   ]
  },
  {
   "cell_type": "code",
   "execution_count": 9,
   "id": "9b4e2745-fbac-477f-86ca-91aca6f38be3",
   "metadata": {},
   "outputs": [],
   "source": [
    "reg_independent_diff   = pd.DataFrame({'erp' : diff_CPP_amplitude})"
   ]
  },
  {
   "cell_type": "code",
   "execution_count": 10,
   "id": "7feeebc3-299e-4d6d-b7f0-259899c9f52a",
   "metadata": {},
   "outputs": [],
   "source": [
    "y = diff_z\n",
    "X = reg_independent_diff\n",
    "X = sm.add_constant(X)"
   ]
  },
  {
   "cell_type": "code",
   "execution_count": 11,
   "id": "c07a479a-bea6-4b3c-9ed0-c0c092d696ea",
   "metadata": {},
   "outputs": [],
   "source": [
    "model_ddm_1 = sm.OLS(y, X).fit()"
   ]
  },
  {
   "cell_type": "code",
   "execution_count": 12,
   "id": "d1e3d15e-b653-4b58-99f5-1ea6fea37ee8",
   "metadata": {},
   "outputs": [
    {
     "name": "stderr",
     "output_type": "stream",
     "text": [
      "D:\\anaconda\\lib\\site-packages\\scipy\\stats\\stats.py:1603: UserWarning: kurtosistest only valid for n>=20 ... continuing anyway, n=14\n",
      "  warnings.warn(\"kurtosistest only valid for n>=20 ... continuing \"\n"
     ]
    },
    {
     "data": {
      "text/html": [
       "<table class=\"simpletable\">\n",
       "<caption>OLS Regression Results</caption>\n",
       "<tr>\n",
       "  <th>Dep. Variable:</th>            <td>y</td>        <th>  R-squared:         </th> <td>   0.087</td>\n",
       "</tr>\n",
       "<tr>\n",
       "  <th>Model:</th>                   <td>OLS</td>       <th>  Adj. R-squared:    </th> <td>   0.011</td>\n",
       "</tr>\n",
       "<tr>\n",
       "  <th>Method:</th>             <td>Least Squares</td>  <th>  F-statistic:       </th> <td>   1.142</td>\n",
       "</tr>\n",
       "<tr>\n",
       "  <th>Date:</th>             <td>Tue, 03 May 2022</td> <th>  Prob (F-statistic):</th>  <td> 0.306</td> \n",
       "</tr>\n",
       "<tr>\n",
       "  <th>Time:</th>                 <td>20:26:42</td>     <th>  Log-Likelihood:    </th> <td>  25.953</td>\n",
       "</tr>\n",
       "<tr>\n",
       "  <th>No. Observations:</th>      <td>    14</td>      <th>  AIC:               </th> <td>  -47.91</td>\n",
       "</tr>\n",
       "<tr>\n",
       "  <th>Df Residuals:</th>          <td>    12</td>      <th>  BIC:               </th> <td>  -46.63</td>\n",
       "</tr>\n",
       "<tr>\n",
       "  <th>Df Model:</th>              <td>     1</td>      <th>                     </th>     <td> </td>   \n",
       "</tr>\n",
       "<tr>\n",
       "  <th>Covariance Type:</th>      <td>nonrobust</td>    <th>                     </th>     <td> </td>   \n",
       "</tr>\n",
       "</table>\n",
       "<table class=\"simpletable\">\n",
       "<tr>\n",
       "    <td></td>       <th>coef</th>     <th>std err</th>      <th>t</th>      <th>P>|t|</th>  <th>[0.025</th>    <th>0.975]</th>  \n",
       "</tr>\n",
       "<tr>\n",
       "  <th>const</th> <td>    0.0577</td> <td>    0.017</td> <td>    3.315</td> <td> 0.006</td> <td>    0.020</td> <td>    0.096</td>\n",
       "</tr>\n",
       "<tr>\n",
       "  <th>erp</th>   <td>-1.384e+04</td> <td> 1.29e+04</td> <td>   -1.069</td> <td> 0.306</td> <td> -4.2e+04</td> <td> 1.44e+04</td>\n",
       "</tr>\n",
       "</table>\n",
       "<table class=\"simpletable\">\n",
       "<tr>\n",
       "  <th>Omnibus:</th>       <td> 0.353</td> <th>  Durbin-Watson:     </th> <td>   2.131</td>\n",
       "</tr>\n",
       "<tr>\n",
       "  <th>Prob(Omnibus):</th> <td> 0.838</td> <th>  Jarque-Bera (JB):  </th> <td>   0.484</td>\n",
       "</tr>\n",
       "<tr>\n",
       "  <th>Skew:</th>          <td>-0.195</td> <th>  Prob(JB):          </th> <td>   0.785</td>\n",
       "</tr>\n",
       "<tr>\n",
       "  <th>Kurtosis:</th>      <td> 2.177</td> <th>  Cond. No.          </th> <td>1.18e+06</td>\n",
       "</tr>\n",
       "</table><br/><br/>Notes:<br/>[1] Standard Errors assume that the covariance matrix of the errors is correctly specified.<br/>[2] The smallest eigenvalue is  1e-11. This might indicate that there are<br/>strong multicollinearity problems or that the design matrix is singular."
      ],
      "text/plain": [
       "<class 'statsmodels.iolib.summary.Summary'>\n",
       "\"\"\"\n",
       "                            OLS Regression Results                            \n",
       "==============================================================================\n",
       "Dep. Variable:                      y   R-squared:                       0.087\n",
       "Model:                            OLS   Adj. R-squared:                  0.011\n",
       "Method:                 Least Squares   F-statistic:                     1.142\n",
       "Date:                Tue, 03 May 2022   Prob (F-statistic):              0.306\n",
       "Time:                        20:26:42   Log-Likelihood:                 25.953\n",
       "No. Observations:                  14   AIC:                            -47.91\n",
       "Df Residuals:                      12   BIC:                            -46.63\n",
       "Df Model:                           1                                         \n",
       "Covariance Type:            nonrobust                                         \n",
       "==============================================================================\n",
       "                 coef    std err          t      P>|t|      [0.025      0.975]\n",
       "------------------------------------------------------------------------------\n",
       "const          0.0577      0.017      3.315      0.006       0.020       0.096\n",
       "erp        -1.384e+04   1.29e+04     -1.069      0.306    -4.2e+04    1.44e+04\n",
       "==============================================================================\n",
       "Omnibus:                        0.353   Durbin-Watson:                   2.131\n",
       "Prob(Omnibus):                  0.838   Jarque-Bera (JB):                0.484\n",
       "Skew:                          -0.195   Prob(JB):                        0.785\n",
       "Kurtosis:                       2.177   Cond. No.                     1.18e+06\n",
       "==============================================================================\n",
       "\n",
       "Notes:\n",
       "[1] Standard Errors assume that the covariance matrix of the errors is correctly specified.\n",
       "[2] The smallest eigenvalue is  1e-11. This might indicate that there are\n",
       "strong multicollinearity problems or that the design matrix is singular.\n",
       "\"\"\""
      ]
     },
     "execution_count": 12,
     "metadata": {},
     "output_type": "execute_result"
    }
   ],
   "source": [
    "model_ddm_1.summary()"
   ]
  },
  {
   "cell_type": "code",
   "execution_count": 13,
   "id": "bba760cb-e534-454c-8d51-4780d5fdc84a",
   "metadata": {},
   "outputs": [
    {
     "data": {
      "image/png": "[encoded data removed]",
      "text/plain": [
       "<Figure size 432x288 with 1 Axes>"
      ]
     },
     "metadata": {
      "needs_background": "light"
     },
     "output_type": "display_data"
    }
   ],
   "source": [
    "fig = sm.graphics.plot_ccpr(model_ddm_1, \"erp\")\n",
    "fig.tight_layout(pad=1.0)"
   ]
  },
  {
   "cell_type": "code",
   "execution_count": 14,
   "id": "a4029e5c-59ef-4d7d-8c2b-62b349c3b14e",
   "metadata": {},
   "outputs": [
    {
     "data": {
      "text/plain": [
       "(-0.29479663271613316, 0.30623265991772414)"
      ]
     },
     "execution_count": 14,
     "metadata": {},
     "output_type": "execute_result"
    }
   ],
   "source": [
    "stats.pearsonr(diff_z, diff_CPP_amplitude)"
   ]
  },
  {
   "cell_type": "code",
   "execution_count": 15,
   "id": "0eaa24ff-e878-47fb-befd-975f71ac62b4",
   "metadata": {},
   "outputs": [],
   "source": [
    "pdata = pd.read_csv(\"D:/yikang1020/yikangsystem1020/2_Projects/复杂知觉决策的证据积累模型：EEG和行为的证据/2_Study/2_4_Analysis/2_4_3_tmp_data/filtered_group/sourcedata-eeg_outside-MRT/beh/performance_data.csv\")"
   ]
  },
  {
   "cell_type": "code",
   "execution_count": 16,
   "id": "d3feb8e1-b844-4fec-8ad0-9040769ea554",
   "metadata": {},
   "outputs": [
    {
     "data": {
      "text/html": [
       "<div>\n",
       "<style scoped>\n",
       "    .dataframe tbody tr th:only-of-type {\n",
       "        vertical-align: middle;\n",
       "    }\n",
       "\n",
       "    .dataframe tbody tr th {\n",
       "        vertical-align: top;\n",
       "    }\n",
       "\n",
       "    .dataframe thead th {\n",
       "        text-align: right;\n",
       "    }\n",
       "</style>\n",
       "<table border=\"1\" class=\"dataframe\">\n",
       "  <thead>\n",
       "    <tr style=\"text-align: right;\">\n",
       "      <th></th>\n",
       "      <th>Unnamed: 0</th>\n",
       "      <th>ACC</th>\n",
       "      <th>RT</th>\n",
       "      <th>Condition</th>\n",
       "      <th>Subject</th>\n",
       "      <th>Stimulus</th>\n",
       "    </tr>\n",
       "  </thead>\n",
       "  <tbody>\n",
       "    <tr>\n",
       "      <th>0</th>\n",
       "      <td>0</td>\n",
       "      <td>94.444444</td>\n",
       "      <td>389.821172</td>\n",
       "      <td>High/Yes</td>\n",
       "      <td>1</td>\n",
       "      <td>Face</td>\n",
       "    </tr>\n",
       "    <tr>\n",
       "      <th>1</th>\n",
       "      <td>1</td>\n",
       "      <td>100.000000</td>\n",
       "      <td>425.300476</td>\n",
       "      <td>High/Yes</td>\n",
       "      <td>1</td>\n",
       "      <td>Car</td>\n",
       "    </tr>\n",
       "    <tr>\n",
       "      <th>2</th>\n",
       "      <td>2</td>\n",
       "      <td>94.285714</td>\n",
       "      <td>433.737396</td>\n",
       "      <td>High/No</td>\n",
       "      <td>1</td>\n",
       "      <td>Face</td>\n",
       "    </tr>\n",
       "    <tr>\n",
       "      <th>3</th>\n",
       "      <td>3</td>\n",
       "      <td>100.000000</td>\n",
       "      <td>454.689176</td>\n",
       "      <td>High/No</td>\n",
       "      <td>1</td>\n",
       "      <td>Car</td>\n",
       "    </tr>\n",
       "    <tr>\n",
       "      <th>4</th>\n",
       "      <td>4</td>\n",
       "      <td>94.444444</td>\n",
       "      <td>490.938032</td>\n",
       "      <td>Low/Yes</td>\n",
       "      <td>1</td>\n",
       "      <td>Face</td>\n",
       "    </tr>\n",
       "    <tr>\n",
       "      <th>...</th>\n",
       "      <td>...</td>\n",
       "      <td>...</td>\n",
       "      <td>...</td>\n",
       "      <td>...</td>\n",
       "      <td>...</td>\n",
       "      <td>...</td>\n",
       "    </tr>\n",
       "    <tr>\n",
       "      <th>107</th>\n",
       "      <td>3</td>\n",
       "      <td>88.235294</td>\n",
       "      <td>420.360501</td>\n",
       "      <td>High/No</td>\n",
       "      <td>17</td>\n",
       "      <td>Car</td>\n",
       "    </tr>\n",
       "    <tr>\n",
       "      <th>108</th>\n",
       "      <td>4</td>\n",
       "      <td>80.000000</td>\n",
       "      <td>542.657978</td>\n",
       "      <td>Low/Yes</td>\n",
       "      <td>17</td>\n",
       "      <td>Face</td>\n",
       "    </tr>\n",
       "    <tr>\n",
       "      <th>109</th>\n",
       "      <td>5</td>\n",
       "      <td>86.111111</td>\n",
       "      <td>563.622411</td>\n",
       "      <td>Low/Yes</td>\n",
       "      <td>17</td>\n",
       "      <td>Car</td>\n",
       "    </tr>\n",
       "    <tr>\n",
       "      <th>110</th>\n",
       "      <td>6</td>\n",
       "      <td>62.857143</td>\n",
       "      <td>543.939682</td>\n",
       "      <td>Low/No</td>\n",
       "      <td>17</td>\n",
       "      <td>Face</td>\n",
       "    </tr>\n",
       "    <tr>\n",
       "      <th>111</th>\n",
       "      <td>7</td>\n",
       "      <td>94.444444</td>\n",
       "      <td>524.210899</td>\n",
       "      <td>Low/No</td>\n",
       "      <td>17</td>\n",
       "      <td>Car</td>\n",
       "    </tr>\n",
       "  </tbody>\n",
       "</table>\n",
       "<p>112 rows × 6 columns</p>\n",
       "</div>"
      ],
      "text/plain": [
       "     Unnamed: 0         ACC          RT Condition  Subject Stimulus\n",
       "0             0   94.444444  389.821172  High/Yes        1     Face\n",
       "1             1  100.000000  425.300476  High/Yes        1      Car\n",
       "2             2   94.285714  433.737396   High/No        1     Face\n",
       "3             3  100.000000  454.689176   High/No        1      Car\n",
       "4             4   94.444444  490.938032   Low/Yes        1     Face\n",
       "..          ...         ...         ...       ...      ...      ...\n",
       "107           3   88.235294  420.360501   High/No       17      Car\n",
       "108           4   80.000000  542.657978   Low/Yes       17     Face\n",
       "109           5   86.111111  563.622411   Low/Yes       17      Car\n",
       "110           6   62.857143  543.939682    Low/No       17     Face\n",
       "111           7   94.444444  524.210899    Low/No       17      Car\n",
       "\n",
       "[112 rows x 6 columns]"
      ]
     },
     "execution_count": 16,
     "metadata": {},
     "output_type": "execute_result"
    }
   ],
   "source": [
    "pdata"
   ]
  },
  {
   "cell_type": "code",
   "execution_count": 17,
   "id": "250a6af6-53a8-4451-b4e1-174ccfa89224",
   "metadata": {},
   "outputs": [],
   "source": [
    "diff_data = pd.DataFrame({'ACC_high':[],\n",
    "                          'ACC_low':[],\n",
    "                          'RT_high':[],\n",
    "                          'RT_low':[],\n",
    "                          'diff_acc':[],\n",
    "                          'diff_rt':[],\n",
    "                          'Subject':[]})\n",
    "for i in range(1,18):\n",
    "    if i !=2 and i != 7 and i != 11:\n",
    "        subject = i\n",
    "        \n",
    "        data_High = pdata[(pdata[\"Condition\"]==\"High/Yes\")|(pdata[\"Condition\"]==\"High/No\")&(pdata[\"Subject\"]==i)]\n",
    "        data_Low = pdata[(pdata[\"Condition\"]==\"Low/Yes\")|(pdata[\"Condition\"]==\"Low/No\")&(pdata[\"Subject\"]==i)]\n",
    "        \n",
    "        data_High_rt = data_High['RT'].mean()\n",
    "        data_Low_rt = data_Low['RT'].mean()\n",
    "        data_diff_rt = data_High_rt - data_Low_rt\n",
    "        \n",
    "        data_High_acc = data_High['ACC'].mean()\n",
    "        data_Low_acc = data_Low['ACC'].mean()\n",
    "        data_diff_acc = data_High_acc - data_Low_acc\n",
    "        \n",
    "        data_new = pd.DataFrame({'ACC_high':[ data_High_acc],\n",
    "                          'ACC_low':[data_Low_acc],\n",
    "                          'RT_high':[data_High_rt],\n",
    "                          'RT_low':[data_Low_rt],\n",
    "                          'diff_acc':[data_diff_acc],\n",
    "                          'diff_rt':[data_diff_rt],\n",
    "                          'Subject':[i]})\n",
    "        diff_data = diff_data.append(data_new)\n",
    "diff_data['Subject'] = diff_data['Subject'].astype(int) "
   ]
  },
  {
   "cell_type": "code",
   "execution_count": 18,
   "id": "670c37a0-83da-48b0-b2e5-3345a7e3e0d3",
   "metadata": {},
   "outputs": [],
   "source": [
    "diff_data.to_csv(\"D:/yikang1020/yikangsystem1020/2_Projects/复杂知觉决策的证据积累模型：EEG和行为的证据/2_Study/2_4_Analysis/2_4_3_tmp_data/filtered_group/sourcedata-eeg_outside-MRT/beh/diff_data.csv\",index = False)"
   ]
  },
  {
   "cell_type": "code",
   "execution_count": 19,
   "id": "1927e51a-d6a8-4d4e-a588-eabeb00b1480",
   "metadata": {},
   "outputs": [],
   "source": [
    "diff_acc = diff_data['diff_acc'].to_numpy()\n",
    "diff_rt = diff_data['diff_rt'].to_numpy()"
   ]
  },
  {
   "cell_type": "code",
   "execution_count": 20,
   "id": "a143f165-758e-4dec-9920-8fd5be55fe45",
   "metadata": {},
   "outputs": [
    {
     "name": "stderr",
     "output_type": "stream",
     "text": [
      "D:\\anaconda\\lib\\site-packages\\scipy\\stats\\stats.py:1603: UserWarning: kurtosistest only valid for n>=20 ... continuing anyway, n=14\n",
      "  warnings.warn(\"kurtosistest only valid for n>=20 ... continuing \"\n"
     ]
    },
    {
     "data": {
      "text/html": [
       "<table class=\"simpletable\">\n",
       "<caption>OLS Regression Results</caption>\n",
       "<tr>\n",
       "  <th>Dep. Variable:</th>            <td>y</td>        <th>  R-squared:         </th> <td>   0.002</td>\n",
       "</tr>\n",
       "<tr>\n",
       "  <th>Model:</th>                   <td>OLS</td>       <th>  Adj. R-squared:    </th> <td>  -0.081</td>\n",
       "</tr>\n",
       "<tr>\n",
       "  <th>Method:</th>             <td>Least Squares</td>  <th>  F-statistic:       </th> <td> 0.02389</td>\n",
       "</tr>\n",
       "<tr>\n",
       "  <th>Date:</th>             <td>Tue, 03 May 2022</td> <th>  Prob (F-statistic):</th>  <td> 0.880</td> \n",
       "</tr>\n",
       "<tr>\n",
       "  <th>Time:</th>                 <td>20:26:44</td>     <th>  Log-Likelihood:    </th> <td> -31.228</td>\n",
       "</tr>\n",
       "<tr>\n",
       "  <th>No. Observations:</th>      <td>    14</td>      <th>  AIC:               </th> <td>   66.46</td>\n",
       "</tr>\n",
       "<tr>\n",
       "  <th>Df Residuals:</th>          <td>    12</td>      <th>  BIC:               </th> <td>   67.74</td>\n",
       "</tr>\n",
       "<tr>\n",
       "  <th>Df Model:</th>              <td>     1</td>      <th>                     </th>     <td> </td>   \n",
       "</tr>\n",
       "<tr>\n",
       "  <th>Covariance Type:</th>      <td>nonrobust</td>    <th>                     </th>     <td> </td>   \n",
       "</tr>\n",
       "</table>\n",
       "<table class=\"simpletable\">\n",
       "<tr>\n",
       "    <td></td>       <th>coef</th>     <th>std err</th>      <th>t</th>      <th>P>|t|</th>  <th>[0.025</th>    <th>0.975]</th>  \n",
       "</tr>\n",
       "<tr>\n",
       "  <th>const</th> <td>  -83.0904</td> <td>    1.034</td> <td>  -80.322</td> <td> 0.000</td> <td>  -85.344</td> <td>  -80.836</td>\n",
       "</tr>\n",
       "<tr>\n",
       "  <th>erp</th>   <td>-1.189e+05</td> <td> 7.69e+05</td> <td>   -0.155</td> <td> 0.880</td> <td>-1.79e+06</td> <td> 1.56e+06</td>\n",
       "</tr>\n",
       "</table>\n",
       "<table class=\"simpletable\">\n",
       "<tr>\n",
       "  <th>Omnibus:</th>       <td> 0.419</td> <th>  Durbin-Watson:     </th> <td>   2.443</td>\n",
       "</tr>\n",
       "<tr>\n",
       "  <th>Prob(Omnibus):</th> <td> 0.811</td> <th>  Jarque-Bera (JB):  </th> <td>   0.500</td>\n",
       "</tr>\n",
       "<tr>\n",
       "  <th>Skew:</th>          <td>-0.310</td> <th>  Prob(JB):          </th> <td>   0.779</td>\n",
       "</tr>\n",
       "<tr>\n",
       "  <th>Kurtosis:</th>      <td> 2.312</td> <th>  Cond. No.          </th> <td>1.18e+06</td>\n",
       "</tr>\n",
       "</table><br/><br/>Notes:<br/>[1] Standard Errors assume that the covariance matrix of the errors is correctly specified.<br/>[2] The smallest eigenvalue is  1e-11. This might indicate that there are<br/>strong multicollinearity problems or that the design matrix is singular."
      ],
      "text/plain": [
       "<class 'statsmodels.iolib.summary.Summary'>\n",
       "\"\"\"\n",
       "                            OLS Regression Results                            \n",
       "==============================================================================\n",
       "Dep. Variable:                      y   R-squared:                       0.002\n",
       "Model:                            OLS   Adj. R-squared:                 -0.081\n",
       "Method:                 Least Squares   F-statistic:                   0.02389\n",
       "Date:                Tue, 03 May 2022   Prob (F-statistic):              0.880\n",
       "Time:                        20:26:44   Log-Likelihood:                -31.228\n",
       "No. Observations:                  14   AIC:                             66.46\n",
       "Df Residuals:                      12   BIC:                             67.74\n",
       "Df Model:                           1                                         \n",
       "Covariance Type:            nonrobust                                         \n",
       "==============================================================================\n",
       "                 coef    std err          t      P>|t|      [0.025      0.975]\n",
       "------------------------------------------------------------------------------\n",
       "const        -83.0904      1.034    -80.322      0.000     -85.344     -80.836\n",
       "erp        -1.189e+05   7.69e+05     -0.155      0.880   -1.79e+06    1.56e+06\n",
       "==============================================================================\n",
       "Omnibus:                        0.419   Durbin-Watson:                   2.443\n",
       "Prob(Omnibus):                  0.811   Jarque-Bera (JB):                0.500\n",
       "Skew:                          -0.310   Prob(JB):                        0.779\n",
       "Kurtosis:                       2.312   Cond. No.                     1.18e+06\n",
       "==============================================================================\n",
       "\n",
       "Notes:\n",
       "[1] Standard Errors assume that the covariance matrix of the errors is correctly specified.\n",
       "[2] The smallest eigenvalue is  1e-11. This might indicate that there are\n",
       "strong multicollinearity problems or that the design matrix is singular.\n",
       "\"\"\""
      ]
     },
     "execution_count": 20,
     "metadata": {},
     "output_type": "execute_result"
    }
   ],
   "source": [
    "#response time regression response time \n",
    "y = diff_rt\n",
    "X = reg_independent_diff\n",
    "X = sm.add_constant(X)\n",
    "# Note the difference in argument order\n",
    "model_rt = sm.OLS(y, X).fit()\n",
    "predictions = model_rt.predict(X) # make the predictions by the model\n",
    "# Print out the statistics\n",
    "model_rt.summary()"
   ]
  },
  {
   "cell_type": "code",
   "execution_count": 21,
   "id": "c7b8c9d2-3049-4ced-a177-c4235808d4b8",
   "metadata": {},
   "outputs": [
    {
     "data": {
      "image/png": "[encoded data removed]",
      "text/plain": [
       "<Figure size 432x288 with 1 Axes>"
      ]
     },
     "metadata": {
      "needs_background": "light"
     },
     "output_type": "display_data"
    }
   ],
   "source": [
    "fig = sm.graphics.plot_ccpr(model_rt, \"erp\")\n",
    "fig.tight_layout(pad=1.0)"
   ]
  },
  {
   "cell_type": "code",
   "execution_count": 22,
   "id": "80c55102-e382-4153-97e5-1e6026cc8d52",
   "metadata": {},
   "outputs": [
    {
     "data": {
      "text/plain": [
       "(-0.044577089897889055, 0.8797271205416974)"
      ]
     },
     "execution_count": 22,
     "metadata": {},
     "output_type": "execute_result"
    }
   ],
   "source": [
    "stats.pearsonr(diff_rt, diff_CPP_amplitude)"
   ]
  },
  {
   "cell_type": "code",
   "execution_count": 23,
   "id": "870dfeb2-d905-4ddc-97b4-2aa7426cf610",
   "metadata": {},
   "outputs": [
    {
     "name": "stderr",
     "output_type": "stream",
     "text": [
      "D:\\anaconda\\lib\\site-packages\\scipy\\stats\\stats.py:1603: UserWarning: kurtosistest only valid for n>=20 ... continuing anyway, n=14\n",
      "  warnings.warn(\"kurtosistest only valid for n>=20 ... continuing \"\n"
     ]
    },
    {
     "data": {
      "text/html": [
       "<table class=\"simpletable\">\n",
       "<caption>OLS Regression Results</caption>\n",
       "<tr>\n",
       "  <th>Dep. Variable:</th>            <td>y</td>        <th>  R-squared:         </th> <td>   0.009</td>\n",
       "</tr>\n",
       "<tr>\n",
       "  <th>Model:</th>                   <td>OLS</td>       <th>  Adj. R-squared:    </th> <td>  -0.074</td>\n",
       "</tr>\n",
       "<tr>\n",
       "  <th>Method:</th>             <td>Least Squares</td>  <th>  F-statistic:       </th> <td>  0.1087</td>\n",
       "</tr>\n",
       "<tr>\n",
       "  <th>Date:</th>             <td>Tue, 03 May 2022</td> <th>  Prob (F-statistic):</th>  <td> 0.747</td> \n",
       "</tr>\n",
       "<tr>\n",
       "  <th>Time:</th>                 <td>20:26:45</td>     <th>  Log-Likelihood:    </th> <td> -3.8262</td>\n",
       "</tr>\n",
       "<tr>\n",
       "  <th>No. Observations:</th>      <td>    14</td>      <th>  AIC:               </th> <td>   11.65</td>\n",
       "</tr>\n",
       "<tr>\n",
       "  <th>Df Residuals:</th>          <td>    12</td>      <th>  BIC:               </th> <td>   12.93</td>\n",
       "</tr>\n",
       "<tr>\n",
       "  <th>Df Model:</th>              <td>     1</td>      <th>                     </th>     <td> </td>   \n",
       "</tr>\n",
       "<tr>\n",
       "  <th>Covariance Type:</th>      <td>nonrobust</td>    <th>                     </th>     <td> </td>   \n",
       "</tr>\n",
       "</table>\n",
       "<table class=\"simpletable\">\n",
       "<tr>\n",
       "    <td></td>       <th>coef</th>     <th>std err</th>      <th>t</th>      <th>P>|t|</th>  <th>[0.025</th>    <th>0.975]</th>  \n",
       "</tr>\n",
       "<tr>\n",
       "  <th>const</th> <td>    8.7902</td> <td>    0.146</td> <td>   60.163</td> <td> 0.000</td> <td>    8.472</td> <td>    9.108</td>\n",
       "</tr>\n",
       "<tr>\n",
       "  <th>erp</th>   <td>-3.581e+04</td> <td> 1.09e+05</td> <td>   -0.330</td> <td> 0.747</td> <td>-2.72e+05</td> <td> 2.01e+05</td>\n",
       "</tr>\n",
       "</table>\n",
       "<table class=\"simpletable\">\n",
       "<tr>\n",
       "  <th>Omnibus:</th>       <td> 0.697</td> <th>  Durbin-Watson:     </th> <td>   2.099</td>\n",
       "</tr>\n",
       "<tr>\n",
       "  <th>Prob(Omnibus):</th> <td> 0.706</td> <th>  Jarque-Bera (JB):  </th> <td>   0.693</td>\n",
       "</tr>\n",
       "<tr>\n",
       "  <th>Skew:</th>          <td> 0.363</td> <th>  Prob(JB):          </th> <td>   0.707</td>\n",
       "</tr>\n",
       "<tr>\n",
       "  <th>Kurtosis:</th>      <td> 2.187</td> <th>  Cond. No.          </th> <td>1.18e+06</td>\n",
       "</tr>\n",
       "</table><br/><br/>Notes:<br/>[1] Standard Errors assume that the covariance matrix of the errors is correctly specified.<br/>[2] The smallest eigenvalue is  1e-11. This might indicate that there are<br/>strong multicollinearity problems or that the design matrix is singular."
      ],
      "text/plain": [
       "<class 'statsmodels.iolib.summary.Summary'>\n",
       "\"\"\"\n",
       "                            OLS Regression Results                            \n",
       "==============================================================================\n",
       "Dep. Variable:                      y   R-squared:                       0.009\n",
       "Model:                            OLS   Adj. R-squared:                 -0.074\n",
       "Method:                 Least Squares   F-statistic:                    0.1087\n",
       "Date:                Tue, 03 May 2022   Prob (F-statistic):              0.747\n",
       "Time:                        20:26:45   Log-Likelihood:                -3.8262\n",
       "No. Observations:                  14   AIC:                             11.65\n",
       "Df Residuals:                      12   BIC:                             12.93\n",
       "Df Model:                           1                                         \n",
       "Covariance Type:            nonrobust                                         \n",
       "==============================================================================\n",
       "                 coef    std err          t      P>|t|      [0.025      0.975]\n",
       "------------------------------------------------------------------------------\n",
       "const          8.7902      0.146     60.163      0.000       8.472       9.108\n",
       "erp        -3.581e+04   1.09e+05     -0.330      0.747   -2.72e+05    2.01e+05\n",
       "==============================================================================\n",
       "Omnibus:                        0.697   Durbin-Watson:                   2.099\n",
       "Prob(Omnibus):                  0.706   Jarque-Bera (JB):                0.693\n",
       "Skew:                           0.363   Prob(JB):                        0.707\n",
       "Kurtosis:                       2.187   Cond. No.                     1.18e+06\n",
       "==============================================================================\n",
       "\n",
       "Notes:\n",
       "[1] Standard Errors assume that the covariance matrix of the errors is correctly specified.\n",
       "[2] The smallest eigenvalue is  1e-11. This might indicate that there are\n",
       "strong multicollinearity problems or that the design matrix is singular.\n",
       "\"\"\""
      ]
     },
     "execution_count": 23,
     "metadata": {},
     "output_type": "execute_result"
    }
   ],
   "source": [
    "y = diff_acc\n",
    "X = reg_independent_diff\n",
    "X = sm.add_constant(X)\n",
    "# Note the difference in argument order\n",
    "model_per = sm.OLS(y, X).fit()\n",
    "predictions = model_per.predict(X) # make the predictions by the model\n",
    "# Print out the statistics\n",
    "model_per.summary()"
   ]
  },
  {
   "cell_type": "code",
   "execution_count": 24,
   "id": "8ae58eb0-1f71-4a04-9cf0-5ed950495a96",
   "metadata": {},
   "outputs": [
    {
     "data": {
      "image/png": "[encoded data removed]",
      "text/plain": [
       "<Figure size 432x288 with 1 Axes>"
      ]
     },
     "metadata": {
      "needs_background": "light"
     },
     "output_type": "display_data"
    }
   ],
   "source": [
    "fig = sm.graphics.plot_ccpr(model_per, \"erp\")\n",
    "fig.tight_layout(pad=1.0)"
   ]
  },
  {
   "cell_type": "code",
   "execution_count": 25,
   "id": "0944bee5-b0e1-4f94-a555-8916a253c419",
   "metadata": {},
   "outputs": [
    {
     "data": {
      "text/plain": [
       "(-0.09473676295054814, 0.7473397385461701)"
      ]
     },
     "execution_count": 25,
     "metadata": {},
     "output_type": "execute_result"
    }
   ],
   "source": [
    "stats.pearsonr(diff_acc, diff_CPP_amplitude)"
   ]
  },
  {
   "cell_type": "code",
   "execution_count": null,
   "id": "d651992f-a0c8-4fea-8b73-b9596addfd02",
   "metadata": {},
   "outputs": [],
   "source": []
  },
  {
   "cell_type": "code",
   "execution_count": null,
   "id": "45bad787-9343-43f3-9e96-e0a946949fc4",
   "metadata": {},
   "outputs": [],
   "source": []
  }
 ],
 "metadata": {
  "kernelspec": {
   "display_name": "Python 3",
   "language": "python",
   "name": "python3"
  },
  "language_info": {
   "codemirror_mode": {
    "name": "ipython",
    "version": 3
   },
   "file_extension": ".py",
   "mimetype": "text/x-python",
   "name": "python",
   "nbconvert_exporter": "python",
   "pygments_lexer": "ipython3",
   "version": "3.8.8"
  }
 },
 "nbformat": 4,
 "nbformat_minor": 5
}
