{
 "cells": [
  {
   "cell_type": "code",
   "execution_count": 2,
   "id": "fbf2f854-8313-4f70-8506-b79ed9f75be9",
   "metadata": {},
   "outputs": [],
   "source": [
    "%matplotlib inline\n",
    "import pandas as pd\n",
    "import numpy as np\n",
    "import matplotlib.pyplot as plt\n",
    "from scipy import stats\n",
    "from sklearn.metrics import r2_score\n",
    "import seaborn as sns\n",
    "from statsmodels.stats.anova import AnovaRM\n",
    "from glob import glob\n",
    "import shutil\n",
    "import os"
   ]
  },
  {
   "cell_type": "markdown",
   "id": "82ae475f-9ffe-47de-b3ca-f2ad001ea70b",
   "metadata": {},
   "source": [
    "## 1 get data for all subjects "
   ]
  },
  {
   "cell_type": "markdown",
   "id": "35e776b2-4d20-4807-b04e-ba67f97cfd29",
   "metadata": {},
   "source": [
    "#elimination subject number 7 and 11 relating to eeg detect data\n",
    "#subjecs of 1,3,4,5,6,8,9,10,12,13,14,15,16,17 are remainded"
   ]
  },
  {
   "cell_type": "code",
   "execution_count": 13,
   "id": "8cc21515-2b2c-408b-9858-5d466bd50341",
   "metadata": {},
   "outputs": [],
   "source": [
    "ds_root = \"/home/jovyan/hddm/2_Study/2_3_RawData/RawData/Ostwald_OSF/BIDS_data\"\n",
    "anlz_dir = \"/home/jovyan/hddm/2_Study/2_4_Analysis/2_4_3_tmp_data/filtered_subj\"\n",
    "out_MR = \"sourcedata-eeg_outside-MRT/beh\"\n",
    "in_MR = \"sourcedata-eeg_inside-MRT/beh\""
   ]
  },
  {
   "cell_type": "code",
   "execution_count": 14,
   "id": "e696df37-3e6e-4f11-9c40-0f40fa17e0ca",
   "metadata": {},
   "outputs": [],
   "source": [
    "if os.path.exists(anlz_dir):\n",
    "    shutil.rmtree(anlz_dir)"
   ]
  },
  {
   "cell_type": "code",
   "execution_count": 15,
   "id": "4d90e5e6-d74e-4fa8-81f3-a90cdb73f717",
   "metadata": {},
   "outputs": [],
   "source": [
    "list_out_subj = ['sub-001', \n",
    "                 'sub-003', \n",
    "                 'sub-004', \n",
    "                 'sub-005', \n",
    "                 'sub-006', \n",
    "                 'sub-008', \n",
    "                 'sub-009', \n",
    "                 'sub-010', \n",
    "                 'sub-012',\n",
    "                 'sub-013',\n",
    "                 'sub-014',\n",
    "                 'sub-015', \n",
    "                 'sub-016',\n",
    "                 'sub-017']"
   ]
  },
  {
   "cell_type": "code",
   "execution_count": 16,
   "id": "3bcf03ef-355a-4ab9-bb3a-df3eb3f1d473",
   "metadata": {},
   "outputs": [],
   "source": [
    "list_subj = []\n",
    "list_subj = list_out_subj\n",
    "folder_MR = out_MR "
   ]
  },
  {
   "cell_type": "code",
   "execution_count": 17,
   "id": "fa86a522-32e4-4ac5-a466-2f6fa520a3f0",
   "metadata": {},
   "outputs": [
    {
     "name": "stdout",
     "output_type": "stream",
     "text": [
      "sub-001 is successfully saved\n",
      "sub-003 is successfully saved\n",
      "sub-004 is successfully saved\n",
      "sub-005 is successfully saved\n",
      "sub-006 is successfully saved\n",
      "sub-008 is successfully saved\n",
      "sub-009 is successfully saved\n",
      "sub-010 is successfully saved\n",
      "sub-012 is successfully saved\n",
      "sub-013 is successfully saved\n",
      "sub-014 is successfully saved\n",
      "sub-015 is successfully saved\n",
      "sub-016 is successfully saved\n",
      "sub-017 is successfully saved\n"
     ]
    }
   ],
   "source": [
    "for subj in list_subj:\n",
    "    src_dir_subj = os.path.join(ds_root,subj,folder_MR)\n",
    "    src_dir_subj = os.path.normpath(src_dir_subj)\n",
    "    tgt_dir_subj = os.path.join(anlz_dir,subj,folder_MR)\n",
    "    tgt_dir_subj = os.path.normpath(tgt_dir_subj)\n",
    "    if not os.path.exists(tgt_dir_subj):\n",
    "        os.makedirs(tgt_dir_subj)\n",
    "        \n",
    "    data = pd.DataFrame({\"condition\":[],\n",
    "                     \"image_index\":[],\n",
    "                     \"key_press\":[],\n",
    "                     \"response_time\":[],\n",
    "                     \"response_corr\":[],\n",
    "                     \"stimulus_side\":[],\n",
    "                     \"prioritization_cue\":[]})\n",
    "    \n",
    "    for subj_beh in glob(src_dir_subj + \"/*.tsv\"):\n",
    "        df = pd.read_csv(subj_beh, sep=\"\\t\")\n",
    "        data = pd.concat([data,df], sort=False)\n",
    "        \n",
    "    Q1 = data[\"response_time\"].quantile(0.25)\n",
    "    Q3 = data[\"response_time\"].quantile(0.75)\n",
    "    IQR = Q3 - Q1\n",
    "    filterr = (data[\"response_time\"] >= Q1 - 3 * IQR) & (data[\"response_time\"] <= Q3 + 3 * IQR)\n",
    "    data = data.loc[filterr]\n",
    "    \n",
    "    save_file = os.path.join(tgt_dir_subj,subj+\".csv\")\n",
    "    \n",
    "    if not os.path.exists(tgt_dir_subj):\n",
    "        os.makedirs(tgt_dir_subj)\n",
    "    data.to_csv(save_file)\n",
    "    print(subj+\" is successfully saved\")"
   ]
  },
  {
   "cell_type": "markdown",
   "id": "1fe637b5-26ba-41cd-9c56-5c89879e92cd",
   "metadata": {},
   "source": [
    "## 2 concat data for all filtered subjects"
   ]
  },
  {
   "cell_type": "code",
   "execution_count": 31,
   "id": "66f985f1-18d2-4a2a-81ef-62a3e4645d64",
   "metadata": {},
   "outputs": [],
   "source": [
    "anlz_subj = anlz_dir\n",
    "anlz_group = \"/home/jovyan/hddm/2_Study/2_4_Analysis/2_4_3_tmp_data/filtered_group\"\n",
    "if os.path.exists(anlz_group):\n",
    "    shutil.rmtree(anlz_group)"
   ]
  },
  {
   "cell_type": "code",
   "execution_count": 35,
   "id": "ac70c86b-6f11-4481-b6cb-50be89e47517",
   "metadata": {},
   "outputs": [],
   "source": [
    "list_subj = list_out_subj\n",
    "switcher = {'sub-001':1,\n",
    "            'sub-002':2,\n",
    "            'sub-003':3,\n",
    "            'sub-004':4,\n",
    "            'sub-005':5,\n",
    "            'sub-006':6,\n",
    "            'sub-007':7,\n",
    "            'sub-008':8,\n",
    "            'sub-009':9,\n",
    "            'sub-010':10,\n",
    "            'sub-011':11,\n",
    "            'sub-012':12,\n",
    "            'sub-013':13,\n",
    "            'sub-014':14,\n",
    "            'sub-015':15,\n",
    "            'sub-016':16,\n",
    "            'sub-017':17}\n",
    "save_file = os.path.join(anlz_group, folder_MR)\n",
    "if not os.path.exists(save_file):\n",
    "    os.makedirs(save_file)"
   ]
  },
  {
   "cell_type": "code",
   "execution_count": 40,
   "id": "2e49d43c-3656-4d00-89af-fe7eeb0ecd90",
   "metadata": {},
   "outputs": [
    {
     "name": "stdout",
     "output_type": "stream",
     "text": [
      "  group is successfully saved\n",
      "\n"
     ]
    }
   ],
   "source": [
    "data=pd.DataFrame()\n",
    "for subj_dir in list_subj:\n",
    "    tgt_dir_subj = os.path.join(anlz_subj, subj_dir, folder_MR, subj_dir + \".csv\")\n",
    "    tgt_dir_subj = os.path.normpath(tgt_dir_subj)\n",
    "    \n",
    "    df = pd.read_csv(tgt_dir_subj)\n",
    "    \n",
    "    subj_idx = np.zeros(len(df))\n",
    "    \n",
    "    stim = np.zeros(len(df))\n",
    "    \n",
    "    response = df['key_press'].to_numpy()\n",
    "    \n",
    "    rt = df[\"response_time\"].to_numpy()\n",
    "    \n",
    "    condition = df[\"condition\"].to_numpy()\n",
    "    \n",
    "    response_corr = df['response_corr'].to_numpy()\n",
    "    \n",
    "    image_index = df[\"image_index\"].to_numpy()\n",
    "    \n",
    "    for i in range(len(df)):\n",
    "        subj_idx[i] = switcher.get(subj_dir)\n",
    "        \n",
    "        if (response_corr[i] == 0):\n",
    "            if (response[i] == 2):\n",
    "                stim[i] = 1\n",
    "            elif (response[i]==1):\n",
    "                stim[i] = 2\n",
    "        else:\n",
    "            stim[i] = response[i]\n",
    "    df_new = pd.DataFrame(np.column_stack([subj_idx,stim,response,rt,condition,response_corr,image_index]),\n",
    "                       columns = ['subj_idx','stimulus','response','rt','condition','response_corr', 'image_index'])\n",
    "    df_new = df_new.loc[np.invert(df_new[\"rt\"].isnull())]\n",
    "    data = pd.concat([data,df_new], sort=False)\n",
    "save_file_group=os.path.join(save_file,\"group.csv\")\n",
    "data.to_csv(save_file_group)\n",
    "print(\"  group is successfully saved\\n\")"
   ]
  },
  {
   "cell_type": "markdown",
   "id": "94234a8b-c16d-4d48-9228-ab5b14a4898f",
   "metadata": {},
   "source": [
    "## 3 analysis data"
   ]
  },
  {
   "cell_type": "code",
   "execution_count": 41,
   "id": "bb4efc11-9348-4d2d-96a7-e54c998dde16",
   "metadata": {},
   "outputs": [],
   "source": [
    "data = pd.read_csv('/home/jovyan/hddm/2_Study/2_4_Analysis/2_4_3_tmp_data/filtered_group/sourcedata-eeg_outside-MRT/beh/group.csv')\n",
    "data = data[(data['subj_idx']!=7)&(data['subj_idx']!=11)]"
   ]
  },
  {
   "cell_type": "code",
   "execution_count": 42,
   "id": "67ee6748-138d-4450-a2c7-2e03cacd84e9",
   "metadata": {},
   "outputs": [],
   "source": [
    "data['coherency'] = data['condition']\n",
    "data['spatial'] = data['condition']"
   ]
  },
  {
   "cell_type": "code",
   "execution_count": 43,
   "id": "a80bda8b-e67b-4698-bed4-40f8b5d1af5b",
   "metadata": {},
   "outputs": [],
   "source": [
    "data['spatial'] = data['spatial'].replace(1,\"Yes\")\n",
    "data['spatial'] = data['spatial'].replace(2,\"No\")\n",
    "data['spatial'] = data['spatial'].replace(3,\"Yes\")\n",
    "data['spatial'] = data['spatial'].replace(4,\"No\")"
   ]
  },
  {
   "cell_type": "code",
   "execution_count": 44,
   "id": "2d96dd6f-5914-4c07-a5db-889cd62f2fdf",
   "metadata": {},
   "outputs": [],
   "source": [
    "data['coherency'] = data['coherency'].replace(1,\"High\")\n",
    "data['coherency'] = data['coherency'].replace(2,\"High\")\n",
    "data['coherency'] = data['coherency'].replace(3,\"Low\")\n",
    "data['coherency'] = data['coherency'].replace(4,\"Low\")"
   ]
  },
  {
   "cell_type": "code",
   "execution_count": 45,
   "id": "1ac4a999-916b-4e82-bf83-ca5d46a66bae",
   "metadata": {},
   "outputs": [],
   "source": [
    "data['response']=data['response'].replace(1,0)\n",
    "data['response']=data['response'].replace(2,1)"
   ]
  },
  {
   "cell_type": "code",
   "execution_count": 46,
   "id": "e4c5c2f2-65dd-412b-b5a5-307f3251afd5",
   "metadata": {},
   "outputs": [],
   "source": [
    "data['stimulus']=data['stimulus'].replace(1,0)\n",
    "data['stimulus']=data['stimulus'].replace(2,1)"
   ]
  },
  {
   "cell_type": "code",
   "execution_count": 47,
   "id": "4e05d862-c662-43ae-a2db-e46ed6ac3d33",
   "metadata": {},
   "outputs": [],
   "source": [
    "performance_data = pd.DataFrame({'ACC':[],\n",
    "                                'RT':[],\n",
    "                                'Condition':[],\n",
    "                                'Subject':[],\n",
    "                                'Stimulus':[]})\n",
    "for i in range(1,18):\n",
    "    if i !=2 and i != 7 and i != 11:\n",
    "        select_subject = i\n",
    "        data1 = data[data['subj_idx'] == select_subject]\n",
    "        \n",
    "        data_High_Yes_1 = data1[(data1[\"coherency\"]==\"High\")&(data1[\"spatial\"]==\"Yes\")&(data1[\"stimulus\"]==1)]\n",
    "        data_High_Yes_1 = data1[(data1['coherency']=='High')&(data1['spatial']=='Yes')&(data1['stimulus']==1)]\n",
    "        data_High_Yes_0 = data1[(data1['coherency']=='High')&(data1['spatial']=='Yes')&(data1['stimulus']==0)]\n",
    "        data_High_No_1  = data1[(data1['coherency']=='High')&(data1['spatial']=='No')&(data1['stimulus'] ==1)]\n",
    "        data_High_No_0  = data1[(data1['coherency']=='High')&(data1['spatial']=='No')&(data1['stimulus'] ==0)]\n",
    "        data_Low_Yes_1  = data1[(data1['coherency']=='Low')&(data1['spatial'] =='Yes')&(data1['stimulus']==1)]\n",
    "        data_Low_Yes_0  = data1[(data1['coherency']=='Low')&(data1['spatial'] =='Yes')&(data1['stimulus']==0)]\n",
    "        data_Low_No_1   = data1[(data1['coherency']=='Low')&(data1['spatial'] =='No')&(data1['stimulus'] ==1)]\n",
    "        data_Low_No_0   = data1[(data1['coherency']=='Low')&(data1['spatial'] =='No')&(data1['stimulus'] ==0)]\n",
    "        \n",
    "        data_rt_High_Yes_1_mean = np.mean(data_High_Yes_1['rt'])\n",
    "        data_rt_High_Yes_0_mean = np.mean(data_High_Yes_0['rt']) \n",
    "        data_rt_High_No_1_mean  = np.mean(data_High_No_1['rt'])\n",
    "        data_rt_High_No_0_mean  = np.mean(data_High_No_0['rt']) \n",
    "        data_rt_Low_Yes_1_mean  = np.mean(data_Low_Yes_1['rt']) \n",
    "        data_rt_Low_Yes_0_mean  = np.mean(data_Low_Yes_0['rt'])\n",
    "        data_rt_Low_No_1_mean   = np.mean(data_Low_No_1['rt'])\n",
    "        data_rt_Low_No_0_mean   = np.mean(data_Low_No_0['rt'])\n",
    "        \n",
    "        data_acc_High_Yes_1_mean = float(np.sum(data_High_Yes_1['response']==1))/len(data_High_Yes_1)\n",
    "        data_acc_High_Yes_0_mean = float(np.sum(data_High_Yes_0['response']==0))/len(data_High_Yes_0)\n",
    "        data_acc_High_No_1_mean  = float(np.sum(data_High_No_1['response']==1))/len(data_High_No_1)\n",
    "        data_acc_High_No_0_mean  = float(np.sum(data_High_No_0['response']==0))/len(data_High_No_0)\n",
    "        data_acc_Low_Yes_1_mean  = float(np.sum(data_Low_Yes_1['response']==1))/len(data_Low_Yes_1)\n",
    "        data_acc_Low_Yes_0_mean  = float(np.sum(data_Low_Yes_0['response']==0))/len(data_Low_Yes_0)\n",
    "        data_acc_Low_No_1_mean   = float(np.sum(data_Low_No_1['response']==1))/len(data_Low_No_1)\n",
    "        data_acc_Low_No_0_mean   = float(np.sum(data_Low_No_0['response']==0))/len(data_Low_No_0)\n",
    "        \n",
    "        data_new = pd.DataFrame({'ACC' : [data_acc_High_Yes_1_mean*100, data_acc_High_Yes_0_mean*100, data_acc_High_No_1_mean*100,\n",
    "                                             data_acc_High_No_0_mean*100, data_acc_Low_Yes_1_mean*100, data_acc_Low_Yes_0_mean*100,\n",
    "                                            data_acc_Low_No_1_mean*100, data_acc_Low_No_0_mean*100],\n",
    "                                     'RT': [data_rt_High_Yes_1_mean*1000, data_rt_High_Yes_0_mean*1000, data_rt_High_No_1_mean*1000,\n",
    "                                             data_rt_High_No_0_mean*1000, data_rt_Low_Yes_1_mean*1000, data_rt_Low_Yes_0_mean*1000,\n",
    "                                            data_rt_Low_No_1_mean*1000, data_rt_Low_No_0_mean*1000],\n",
    "                                     'Condition' : ['High/Yes', 'High/Yes', 'High/No',\n",
    "                                                    'High/No', 'Low/Yes', 'Low/Yes',\n",
    "                                                    'Low/No', 'Low/No'],\n",
    "                                     'Subject' : [select_subject,select_subject,select_subject,\n",
    "                                                 select_subject,select_subject,select_subject,\n",
    "                                                 select_subject,select_subject],\n",
    "                                     'Stimulus' : ['Face','Car','Face',\n",
    "                                                   'Car','Face','Car',\n",
    "                                                   'Face','Car']})\n",
    "        performance_data = performance_data.append(data_new)\n",
    "performance_data['Subject'] = performance_data['Subject'].astype(int)        "
   ]
  },
  {
   "cell_type": "code",
   "execution_count": 54,
   "id": "45385976-2aaf-4471-a9b4-2579a5a2298c",
   "metadata": {},
   "outputs": [],
   "source": [
    "data.to_csv('/home/jovyan/hddm/2_Study/2_4_Analysis/2_4_3_tmp_data/filtered_group/sourcedata-eeg_outside-MRT/beh/preprocessed_group.csv')\n",
    "performance_data.to_csv('/home/jovyan/hddm/2_Study/2_4_Analysis/2_4_3_tmp_data/filtered_group/sourcedata-eeg_outside-MRT/beh/performance_data.csv')"
   ]
  },
  {
   "cell_type": "code",
   "execution_count": 49,
   "id": "941d44b1-ee4c-4a37-9a89-cf7ad4fee322",
   "metadata": {},
   "outputs": [],
   "source": [
    "SEM_RT = np.array([\n",
    "performance_data[(performance_data['Condition']=='High/Yes')&(performance_data['Stimulus']=='Car')]['RT'].std(axis=0)/np.sqrt(14),\n",
    "performance_data[(performance_data['Condition']=='High/Yes')&(performance_data['Stimulus']=='Face')]['RT'].std(axis=0)/np.sqrt(14),\n",
    "performance_data[(performance_data['Condition']=='High/No')&(performance_data['Stimulus']=='Car')]['RT'].std(axis=0)/np.sqrt(14),\n",
    "performance_data[(performance_data['Condition']=='High/No')&(performance_data['Stimulus']=='Face')]['RT'].std(axis=0)/np.sqrt(14),\n",
    "performance_data[(performance_data['Condition']=='Low/Yes')&(performance_data['Stimulus']=='Car')]['RT'].std(axis=0)/np.sqrt(14),\n",
    "performance_data[(performance_data['Condition']=='Low/Yes')&(performance_data['Stimulus']=='Face')]['RT'].std(axis=0)/np.sqrt(14),\n",
    "performance_data[(performance_data['Condition']=='Low/No')&(performance_data['Stimulus']=='Car')]['RT'].std(axis=0)/np.sqrt(14),\n",
    "performance_data[(performance_data['Condition']=='Low/No')&(performance_data['Stimulus']=='Face')]['RT'].std(axis=0)/np.sqrt(14)])"
   ]
  },
  {
   "cell_type": "code",
   "execution_count": 50,
   "id": "e411c2bc-96f1-4366-a42e-a69f0473c8ad",
   "metadata": {},
   "outputs": [],
   "source": [
    "SEM_ACC = np.array([\n",
    "performance_data[(performance_data['Condition']=='High/Yes')&(performance_data['Stimulus']==\"Car\")]['ACC'].std(axis=0)/np.sqrt(1),\n",
    "performance_data[(performance_data['Condition']=='High/Yes')&(performance_data['Stimulus']=='Face')]['ACC'].std(axis=0)/np.sqrt(1),\n",
    "performance_data[(performance_data['Condition']=='High/No')&(performance_data['Stimulus']=='Car')]['ACC'].std(axis=0)/np.sqrt(1),\n",
    "performance_data[(performance_data['Condition']=='High/No')&(performance_data['Stimulus']=='Face')]['ACC'].std(axis=0)/np.sqrt(1),\n",
    "performance_data[(performance_data['Condition']=='Low/Yes')&(performance_data['Stimulus']=='Car')]['ACC'].std(axis=0)/np.sqrt(1),\n",
    "performance_data[(performance_data['Condition']=='Low/Yes')&(performance_data['Stimulus']=='Face')]['ACC'].std(axis=0)/np.sqrt(1),\n",
    "performance_data[(performance_data['Condition']=='Low/No')&(performance_data['Stimulus']=='Car')]['ACC'].std(axis=0)/np.sqrt(1),\n",
    "performance_data[(performance_data['Condition']=='Low/No')&(performance_data['Stimulus']=='Face')]['ACC'].std(axis=0)/np.sqrt(1)])"
   ]
  },
  {
   "cell_type": "code",
   "execution_count": 51,
   "id": "e17cdf1b-3583-46bf-b865-10974c2fd546",
   "metadata": {},
   "outputs": [
    {
     "name": "stdout",
     "output_type": "stream",
     "text": [
      "                         Anova\n",
      "========================================================\n",
      "                           F Value Num DF  Den DF Pr > F\n",
      "--------------------------------------------------------\n",
      "coherency                  38.2801 1.0000 13.0000 0.0000\n",
      "spatial                    11.8352 1.0000 13.0000 0.0044\n",
      "stimulus                    0.7812 1.0000 13.0000 0.3928\n",
      "coherency:spatial           0.5443 1.0000 13.0000 0.4738\n",
      "coherency:stimulus          8.5489 1.0000 13.0000 0.0119\n",
      "spatial:stimulus            0.1368 1.0000 13.0000 0.7174\n",
      "coherency:spatial:stimulus  0.7477 1.0000 13.0000 0.4029\n",
      "========================================================\n",
      "\n"
     ]
    }
   ],
   "source": [
    "model_aovrm2way = AnovaRM(data,\n",
    "                   'rt',\n",
    "                   'subj_idx',\n",
    "                   within=['coherency','spatial','stimulus'],\n",
    "                   aggregate_func='mean')\n",
    "res2way=model_aovrm2way.fit()\n",
    "print(res2way)"
   ]
  },
  {
   "cell_type": "code",
   "execution_count": 55,
   "id": "d3d48d71-0468-43bb-b6b8-788ccef04eac",
   "metadata": {},
   "outputs": [
    {
     "name": "stderr",
     "output_type": "stream",
     "text": [
      "/opt/conda/lib/python3.8/site-packages/seaborn/categorical.py:1529: FutureWarning: elementwise comparison failed; returning scalar instead, but in the future will perform elementwise comparison\n",
      "  if ci == \"sd\":\n"
     ]
    },
    {
     "data": {
      "image/png": "[encoded data removed]",
      "text/plain": [
       "<Figure size 490.625x432 with 1 Axes>"
      ]
     },
     "metadata": {},
     "output_type": "display_data"
    }
   ],
   "source": [
    "g = sns.catplot(\n",
    "    data=performance_data,\n",
    "    kind=\"bar\",\n",
    "    x=\"Condition\",\n",
    "    y=\"RT\",\n",
    "    hue=\"Stimulus\",\n",
    "    ci=SEM_RT,\n",
    "    palette=\"dark\",\n",
    "    alpha=0.6,\n",
    "    height=6,\n",
    "    hue_order=['Face','Car'])\n",
    "g.despine(left=True)\n",
    "g.set_axis_labels(\n",
    "    \"Coherency/Prioritization\",\n",
    "    \"Response Time (ms)\")\n",
    "g.legend.set_title(\"12\")\n",
    "\n",
    "x1,x2 = 2.7,3.4   #stimulus\n",
    "y,h,col = 492 + 2, 2, 'k'\n",
    "plt.plot(\n",
    "    [x1,x1,x2,x2],\n",
    "    [y,y+h,y+h,y],\n",
    "    lw=1.5, \n",
    "    c=col)\n",
    "plt.text(\n",
    "    (x1+x2)*0.5, \n",
    "    y+h, \n",
    "    \"ns\",\n",
    "    ha='center',\n",
    "    va='bottom',\n",
    "    color=col,\n",
    "    fontsize=12)\n",
    "\n",
    "x1,x2 = 2,3.1   #spatial\n",
    "y, h, col =500+2, 2, 'k' \n",
    "plt.plot(\n",
    "    [x1,x1,x2,x2],\n",
    "    [y,y+h,y+h,y],\n",
    "    lw=1.5, \n",
    "    c=col)\n",
    "plt.text(\n",
    "    (x1+x2)*0.5, \n",
    "    y+h, \n",
    "    \"**\",\n",
    "    ha='center',\n",
    "    va='bottom',\n",
    "    color=col,\n",
    "    fontsize=12)\n",
    "\n",
    "x1, x2 = 0.6, 2.7   # coherency\n",
    "y, h, col = 500 + 2, 2, 'k'\n",
    "plt.plot(\n",
    "    [x1,x1,x2,x2], \n",
    "    [y,y+h,y+h,y], \n",
    "    lw=1.5, \n",
    "    c=col)\n",
    "plt.text(\n",
    "    (x1+x2)*.5, \n",
    "    y+h, \n",
    "    \"****\", \n",
    "    ha='center', \n",
    "    va='bottom', \n",
    "    color=col, \n",
    "    fontsize=12)\n",
    "plt.show()"
   ]
  },
  {
   "cell_type": "code",
   "execution_count": 59,
   "id": "ab537430-01f1-40bd-84ac-636f0b70d78f",
   "metadata": {},
   "outputs": [
    {
     "name": "stderr",
     "output_type": "stream",
     "text": [
      "/opt/conda/lib/python3.8/site-packages/seaborn/categorical.py:1529: FutureWarning: elementwise comparison failed; returning scalar instead, but in the future will perform elementwise comparison\n",
      "  if ci == \"sd\":\n"
     ]
    },
    {
     "data": {
      "image/png": "[encoded data removed]",
      "text/plain": [
       "<Figure size 490.625x432 with 1 Axes>"
      ]
     },
     "metadata": {},
     "output_type": "display_data"
    }
   ],
   "source": [
    "sns.set_style(style=\"ticks\")\n",
    "g = sns.catplot(\n",
    "    data=performance_data, \n",
    "    kind=\"bar\",\n",
    "    x=\"Condition\", \n",
    "    y=\"ACC\", \n",
    "    hue=\"Stimulus\",\n",
    "    ci=SEM_ACC, \n",
    "    palette=\"dark\", \n",
    "    alpha=.6, \n",
    "    height=6, \n",
    "    hue_order=['Face','Car'])\n",
    "g.despine(left=True)\n",
    "g.set_axis_labels(\n",
    "        \"Coherecy/Prioritization\", \n",
    "        \"Response Accuracy (%)\")\n",
    "#g.legend.set_title(\"12\")\n",
    "x1, x2 = -.3, 0.3   # stimulus\n",
    "y, h, col = 99.5, 0.2, 'k'\n",
    "plt.plot([x1, x1, x2, x2], \n",
    "         [y, y+h, y+h, y], \n",
    "         lw=1.5, \n",
    "         c=col)\n",
    "plt.text(\n",
    "    (x1+x2)*0.5, \n",
    "    y+h, \n",
    "    \"ns\",\n",
    "    ha='center',\n",
    "    va='bottom',\n",
    "    color=col,\n",
    "    fontsize=12)\n",
    "x1, x2 = -.06, 1.05   # spatial\n",
    "y, h, col = 100.5, 0.2, 'k'\n",
    "plt.plot([x1, x1, x2, x2], \n",
    "         [y, y+h, y+h, y], \n",
    "         lw=1.5, \n",
    "         c=col)\n",
    "plt.text(\n",
    "    (x1+x2)*0.5, \n",
    "    y+h, \n",
    "    \"**\",\n",
    "    ha='center',\n",
    "    va='bottom',\n",
    "    color=col,\n",
    "    fontsize=12)\n",
    "\n",
    "\n",
    "x1, x2 = 0.45, 2.6   # coherency\n",
    "y, h, col = 101.5, 0.2, 'k'\n",
    "plt.plot([x1, x1, x2, x2], \n",
    "         [y, y+h, y+h, y], \n",
    "         lw=1.5, \n",
    "         c=col)\n",
    "plt.text(\n",
    "    (x1+x2)*0.5, \n",
    "    y+h, \n",
    "    \"****\",\n",
    "    ha='center',\n",
    "    va='bottom',\n",
    "    color=col,\n",
    "    fontsize=12)\n",
    "plt.show()"
   ]
  },
  {
   "cell_type": "code",
   "execution_count": 70,
   "id": "664a9d64-b219-4717-9b7b-abfb5e6e78bf",
   "metadata": {},
   "outputs": [
    {
     "name": "stderr",
     "output_type": "stream",
     "text": [
      "/opt/conda/lib/python3.8/site-packages/seaborn/distributions.py:2619: FutureWarning: `distplot` is a deprecated function and will be removed in a future version. Please adapt your code to use either `displot` (a figure-level function with similar flexibility) or `histplot` (an axes-level function for histograms).\n",
      "  warnings.warn(msg, FutureWarning)\n",
      "/opt/conda/lib/python3.8/site-packages/seaborn/distributions.py:2619: FutureWarning: `distplot` is a deprecated function and will be removed in a future version. Please adapt your code to use either `displot` (a figure-level function with similar flexibility) or `histplot` (an axes-level function for histograms).\n",
      "  warnings.warn(msg, FutureWarning)\n",
      "/opt/conda/lib/python3.8/site-packages/seaborn/distributions.py:2619: FutureWarning: `distplot` is a deprecated function and will be removed in a future version. Please adapt your code to use either `displot` (a figure-level function with similar flexibility) or `histplot` (an axes-level function for histograms).\n",
      "  warnings.warn(msg, FutureWarning)\n",
      "/opt/conda/lib/python3.8/site-packages/seaborn/distributions.py:2619: FutureWarning: `distplot` is a deprecated function and will be removed in a future version. Please adapt your code to use either `displot` (a figure-level function with similar flexibility) or `histplot` (an axes-level function for histograms).\n",
      "  warnings.warn(msg, FutureWarning)\n",
      "/opt/conda/lib/python3.8/site-packages/seaborn/distributions.py:2619: FutureWarning: `distplot` is a deprecated function and will be removed in a future version. Please adapt your code to use either `displot` (a figure-level function with similar flexibility) or `histplot` (an axes-level function for histograms).\n",
      "  warnings.warn(msg, FutureWarning)\n",
      "/opt/conda/lib/python3.8/site-packages/seaborn/distributions.py:2619: FutureWarning: `distplot` is a deprecated function and will be removed in a future version. Please adapt your code to use either `displot` (a figure-level function with similar flexibility) or `histplot` (an axes-level function for histograms).\n",
      "  warnings.warn(msg, FutureWarning)\n",
      "/opt/conda/lib/python3.8/site-packages/seaborn/distributions.py:2619: FutureWarning: `distplot` is a deprecated function and will be removed in a future version. Please adapt your code to use either `displot` (a figure-level function with similar flexibility) or `histplot` (an axes-level function for histograms).\n",
      "  warnings.warn(msg, FutureWarning)\n",
      "/opt/conda/lib/python3.8/site-packages/seaborn/distributions.py:2619: FutureWarning: `distplot` is a deprecated function and will be removed in a future version. Please adapt your code to use either `displot` (a figure-level function with similar flexibility) or `histplot` (an axes-level function for histograms).\n",
      "  warnings.warn(msg, FutureWarning)\n"
     ]
    },
    {
     "data": {
      "text/plain": [
       "<matplotlib.legend.Legend at 0x7f113be0fbe0>"
      ]
     },
     "execution_count": 70,
     "metadata": {},
     "output_type": "execute_result"
    },
    {
     "data": {
      "image/png": "[encoded data removed]",
      "text/plain": [
       "<Figure size 576x432 with 1 Axes>"
      ]
     },
     "metadata": {},
     "output_type": "display_data"
    },
    {
     "data": {
      "image/png": "[encoded data removed]",
      "text/plain": [
       "<Figure size 576x432 with 1 Axes>"
      ]
     },
     "metadata": {},
     "output_type": "display_data"
    }
   ],
   "source": [
    "plt.figure(figsize=(8,6))\n",
    "# high coherence and prioritized \n",
    "sns.distplot(data[(data['coherency']=='High')&\n",
    "                      (data['spatial']=='Yes')&\n",
    "                      (data['stimulus']==1)]['rt'].to_numpy()*1000, \n",
    "             label='HF')\n",
    "sns.distplot(data[(data['coherency']=='High')&\n",
    "                      (data['spatial']=='Yes')&\n",
    "                      (data['stimulus']==0)]['rt'].to_numpy()*1000, \n",
    "             label='HC')\n",
    "# Low coherence and prioritized \n",
    "sns.distplot(data[(data['coherency']=='Low')&\n",
    "                      (data['spatial']=='Yes')&\n",
    "                      (data['stimulus']==1)]['rt'].to_numpy()*1000, \n",
    "             label='LF')\n",
    "sns.distplot(data[(data['coherency']=='Low')&\n",
    "                      (data['spatial']=='Yes')&\n",
    "                      (data['stimulus']==0)]['rt'].to_numpy()*1000, \n",
    "             label='LC')\n",
    "sns.despine(offset=10, trim=True)\n",
    "plt.legend(labels=['HF','HC','LF', 'LC'])\n",
    "\n",
    "\n",
    "\n",
    "\n",
    "#plor bahavioral data (RT distribution prioritized)\n",
    "plt.figure(figsize=(8,6))\n",
    "    # high coherence and non-prioritized \n",
    "sns.distplot(data[(data['coherency']=='High')&\n",
    "                      (data['spatial']=='No')&\n",
    "                      (data['stimulus']==1)]['rt'].to_numpy()*1000, \n",
    "             label='HF')\n",
    "sns.distplot(data[(data['coherency']=='High')&\n",
    "                      (data['spatial']=='No')&\n",
    "                      (data['stimulus']==0)]['rt'].to_numpy()*1000, \n",
    "             label='HC')\n",
    "    # Low coherence and Non-prioritized \n",
    "sns.distplot(data[(data['coherency']=='Low')&\n",
    "                      (data['spatial']=='No')&\n",
    "                      (data['stimulus']==1)]['rt'].to_numpy()*1000, \n",
    "             label='LF')\n",
    "\n",
    "sns.distplot(data[(data['coherency']=='Low')&\n",
    "                      (data['spatial']=='No')&\n",
    "                      (data['stimulus']==0)]['rt'].to_numpy()*1000, \n",
    "             label='LC')\n",
    "sns.despine(offset=10, trim=True);\n",
    "plt.legend(labels=['HF','HC','LF', 'LC'])"
   ]
  },
  {
   "cell_type": "code",
   "execution_count": null,
   "id": "85defe14-5e49-464e-bcd6-54dfadef6d0f",
   "metadata": {},
   "outputs": [],
   "source": [
    "pdata = pd.read_csv(\"D:/yikang1020/yikangsystem1020/2_Projects/复杂知觉决策的证据积累模型：EEG和行为的证据/2_Study/2_4_Analysis/2_4_3_tmp_data/filtered_group/sourcedata-eeg_outside-MRT/beh/performance_data.csv\")"
   ]
  },
  {
   "cell_type": "code",
   "execution_count": null,
   "id": "fd84581c-d082-4366-8f42-fdbfb2c613d2",
   "metadata": {},
   "outputs": [],
   "source": [
    "diff_data = pd.DataFrame({'ACC_high':[],\n",
    "                          'ACC_low':[],\n",
    "                          'RT_high':[],\n",
    "                          'RT_low':[],\n",
    "                          'diff_acc':[],\n",
    "                          'diff_rt':[],\n",
    "                          'Subject':[]})\n",
    "for i in range(1,18):\n",
    "    if i !=2 and i != 7 and i != 11:\n",
    "        subject = i\n",
    "        \n",
    "        data_High = pdata[(pdata[\"Condition\"]==\"High/Yes\")|(pdata[\"Condition\"]==\"High/No\")&(pdata[\"Subject\"]==i)]\n",
    "        data_Low = pdata[(pdata[\"Condition\"]==\"Low/Yes\")|(pdata[\"Condition\"]==\"Low/No\")&(pdata[\"Subject\"]==i)]\n",
    "        \n",
    "        data_High_rt = data_High['RT'].mean()\n",
    "        data_Low_rt = data_Low['RT'].mean()\n",
    "        data_diff_rt = data_High_rt - data_Low_rt\n",
    "        \n",
    "        data_High_acc = data_High['ACC'].mean()\n",
    "        data_Low_acc = data_Low['ACC'].mean()\n",
    "        data_diff_acc = data_High_acc - data_Low_acc\n",
    "        \n",
    "        data_new = pd.DataFrame({'ACC_high':[ data_High_acc],\n",
    "                          'ACC_low':[data_Low_acc],\n",
    "                          'RT_high':[data_High_rt],\n",
    "                          'RT_low':[data_Low_rt],\n",
    "                          'diff_acc':[data_diff_acc],\n",
    "                          'diff_rt':[data_diff_rt],\n",
    "                          'Subject':[i]})\n",
    "        diff_data = diff_data.append(data_new)\n",
    "diff_data['Subject'] = diff_data['Subject'].astype(int) "
   ]
  },
  {
   "cell_type": "code",
   "execution_count": null,
   "id": "f7920fba-d3c0-476f-a8a4-68ffd16f0efc",
   "metadata": {},
   "outputs": [],
   "source": [
    "diff_data.to_csv(\"D:/yikang1020/yikangsystem1020/2_Projects/复杂知觉决策的证据积累模型：EEG和行为的证据/2_Study/2_4_Analysis/2_4_3_tmp_data/filtered_group/sourcedata-eeg_outside-MRT/beh/diff_data.csv\",index = False)"
   ]
  },
  {
   "cell_type": "code",
   "execution_count": null,
   "id": "95946043-3a92-4c9d-a746-b919ffd3863d",
   "metadata": {},
   "outputs": [],
   "source": []
  },
  {
   "cell_type": "code",
   "execution_count": null,
   "id": "2078819e-45fe-4695-9abe-f23f1ccf09cc",
   "metadata": {},
   "outputs": [],
   "source": []
  }
 ],
 "metadata": {
  "kernelspec": {
   "display_name": "Python 3",
   "language": "python",
   "name": "python3"
  },
  "language_info": {
   "codemirror_mode": {
    "name": "ipython",
    "version": 3
   },
   "file_extension": ".py",
   "mimetype": "text/x-python",
   "name": "python",
   "nbconvert_exporter": "python",
   "pygments_lexer": "ipython3",
   "version": "3.8.8"
  }
 },
 "nbformat": 4,
 "nbformat_minor": 5
}
