{
 "cells": [
  {
   "cell_type": "code",
   "execution_count": 2,
   "id": "1011dcc9-b556-4c9f-85d3-12a0cce2fc59",
   "metadata": {},
   "outputs": [],
   "source": [
    "%matplotlib inline\n",
    "import os\n",
    "import os.path as op\n",
    "import mne\n",
    "import numpy as np\n",
    "import pandas as pd\n",
    "from time import time\n",
    "import matplotlib.pyplot as plt\n",
    "from mne.time_frequency import (tfr_multitaper, tfr_stockwell, tfr_morlet,\n",
    "                                tfr_array_morlet)\n",
    "from mne.stats import f_threshold_mway_rm, f_mway_rm, fdr_correction,bonferroni_correction\n",
    "from mne.channels import find_ch_adjacency\n",
    "from mne.stats import spatio_temporal_cluster_test, permutation_t_test\n",
    "import scipy.stats as stats\n",
    "import statsmodels.api as sm\n",
    "import seaborn as sns"
   ]
  },
  {
   "cell_type": "code",
   "execution_count": 4,
   "id": "e694c927-c871-48b1-907e-ca7c90d7d9d0",
   "metadata": {},
   "outputs": [],
   "source": [
    "list_subj = ['sub-001', 'sub-003', 'sub-004', 'sub-005', 'sub-006', 'sub-008', 'sub-009',\n",
    "             'sub-010', 'sub-012', 'sub-013', 'sub-014', 'sub-015', 'sub-016', 'sub-017']"
   ]
  },
  {
   "cell_type": "code",
   "execution_count": 28,
   "id": "8540fa2f-783f-470c-9fad-8a1366701bb1",
   "metadata": {},
   "outputs": [],
   "source": [
    "evoked_hc = np.zeros((14,62,437))\n",
    "evoked_lc = np.zeros((14,62,437))"
   ]
  },
  {
   "cell_type": "code",
   "execution_count": 29,
   "id": "f92d920e-5b78-4684-83f8-8d46f1123ab0",
   "metadata": {},
   "outputs": [],
   "source": [
    "hc = ['Stimulus/S 10',#high phase coherence , prioritized     [l]\n",
    " 'Stimulus/S 11',#high phase coherence , prioritized     [r]\n",
    " 'Stimulus/S 20',#high phase coherence , not prioritized [l]\n",
    " 'Stimulus/S 21']#low phase coherence  , not prioritized [r]\n",
    "lc = ['Stimulus/S 30',#low phase coherence  , prioritized     [l]\n",
    " 'Stimulus/S 31',#low phase coherence  , prioritized     [r]\n",
    " 'Stimulus/S 40',#low phase coherence  , not prioritized [l]\n",
    " 'Stimulus/S 41']"
   ]
  },
  {
   "cell_type": "code",
   "execution_count": 32,
   "id": "f5bb9a80-140d-44d5-a1d5-a9351144c21d",
   "metadata": {
    "collapsed": true,
    "jupyter": {
     "outputs_hidden": true
    },
    "tags": []
   },
   "outputs": [
    {
     "name": "stdout",
     "output_type": "stream",
     "text": [
      "Reading D:\\yikang1020\\yikangsystem1020\\2_Projects\\复杂知觉决策的证据积累模型：EEG和行为的证据\\2_Study\\2_4_Analysis\\2_4_3_tmp_data\\eeg\\sub-001_pred.fif ...\n",
      "    Read a total of 1 projection items:\n",
      "        Average EEG reference (1 x 62) active\n",
      "    Found the data of interest:\n",
      "        t =    -101.56 ...    1601.56 ms\n",
      "        0 CTF compensation matrices available\n",
      "Not setting metadata\n",
      "Not setting metadata\n",
      "513 matching events found\n",
      "No baseline correction applied\n",
      "Created an SSP operator (subspace dimension = 1)\n",
      "1 projection items activated\n"
     ]
    },
    {
     "name": "stderr",
     "output_type": "stream",
     "text": [
      "<ipython-input-32-a1e4b95a11f3>:3: RuntimeWarning: This filename (D:/yikang1020/yikangsystem1020/2_Projects/复杂知觉决策的证据积累模型：EEG和行为的证据/2_Study/2_4_Analysis/2_4_3_tmp_data/eeg\\sub-001_pred.fif) does not conform to MNE naming conventions. All epochs files should end with -epo.fif, -epo.fif.gz, _epo.fif or _epo.fif.gz\n",
      "  epochs = mne.read_epochs(fname)\n"
     ]
    },
    {
     "name": "stdout",
     "output_type": "stream",
     "text": [
      "Reading D:\\yikang1020\\yikangsystem1020\\2_Projects\\复杂知觉决策的证据积累模型：EEG和行为的证据\\2_Study\\2_4_Analysis\\2_4_3_tmp_data\\eeg\\sub-003_pred.fif ...\n",
      "    Read a total of 1 projection items:\n",
      "        Average EEG reference (1 x 62) active\n",
      "    Found the data of interest:\n",
      "        t =    -101.56 ...    1601.56 ms\n",
      "        0 CTF compensation matrices available\n",
      "Not setting metadata\n",
      "Not setting metadata\n",
      "512 matching events found\n",
      "No baseline correction applied\n",
      "Created an SSP operator (subspace dimension = 1)\n",
      "1 projection items activated\n"
     ]
    },
    {
     "name": "stderr",
     "output_type": "stream",
     "text": [
      "<ipython-input-32-a1e4b95a11f3>:3: RuntimeWarning: This filename (D:/yikang1020/yikangsystem1020/2_Projects/复杂知觉决策的证据积累模型：EEG和行为的证据/2_Study/2_4_Analysis/2_4_3_tmp_data/eeg\\sub-003_pred.fif) does not conform to MNE naming conventions. All epochs files should end with -epo.fif, -epo.fif.gz, _epo.fif or _epo.fif.gz\n",
      "  epochs = mne.read_epochs(fname)\n"
     ]
    },
    {
     "name": "stdout",
     "output_type": "stream",
     "text": [
      "Reading D:\\yikang1020\\yikangsystem1020\\2_Projects\\复杂知觉决策的证据积累模型：EEG和行为的证据\\2_Study\\2_4_Analysis\\2_4_3_tmp_data\\eeg\\sub-004_pred.fif ...\n",
      "    Read a total of 1 projection items:\n",
      "        Average EEG reference (1 x 62) active\n",
      "    Found the data of interest:\n",
      "        t =    -101.56 ...    1601.56 ms\n",
      "        0 CTF compensation matrices available\n",
      "Not setting metadata\n",
      "Not setting metadata\n",
      "292 matching events found\n",
      "No baseline correction applied\n",
      "Created an SSP operator (subspace dimension = 1)\n",
      "1 projection items activated\n",
      "Reading D:\\yikang1020\\yikangsystem1020\\2_Projects\\复杂知觉决策的证据积累模型：EEG和行为的证据\\2_Study\\2_4_Analysis\\2_4_3_tmp_data\\eeg\\sub-005_pred.fif ...\n",
      "    Read a total of 1 projection items:\n",
      "        Average EEG reference (1 x 62) active\n",
      "    Found the data of interest:\n",
      "        t =    -101.56 ...    1601.56 ms\n",
      "        0 CTF compensation matrices available\n"
     ]
    },
    {
     "name": "stderr",
     "output_type": "stream",
     "text": [
      "<ipython-input-32-a1e4b95a11f3>:3: RuntimeWarning: This filename (D:/yikang1020/yikangsystem1020/2_Projects/复杂知觉决策的证据积累模型：EEG和行为的证据/2_Study/2_4_Analysis/2_4_3_tmp_data/eeg\\sub-004_pred.fif) does not conform to MNE naming conventions. All epochs files should end with -epo.fif, -epo.fif.gz, _epo.fif or _epo.fif.gz\n",
      "  epochs = mne.read_epochs(fname)\n",
      "<ipython-input-32-a1e4b95a11f3>:3: RuntimeWarning: This filename (D:/yikang1020/yikangsystem1020/2_Projects/复杂知觉决策的证据积累模型：EEG和行为的证据/2_Study/2_4_Analysis/2_4_3_tmp_data/eeg\\sub-005_pred.fif) does not conform to MNE naming conventions. All epochs files should end with -epo.fif, -epo.fif.gz, _epo.fif or _epo.fif.gz\n",
      "  epochs = mne.read_epochs(fname)\n"
     ]
    },
    {
     "name": "stdout",
     "output_type": "stream",
     "text": [
      "Not setting metadata\n",
      "Not setting metadata\n",
      "158 matching events found\n",
      "No baseline correction applied\n",
      "Created an SSP operator (subspace dimension = 1)\n",
      "1 projection items activated\n",
      "Reading D:\\yikang1020\\yikangsystem1020\\2_Projects\\复杂知觉决策的证据积累模型：EEG和行为的证据\\2_Study\\2_4_Analysis\\2_4_3_tmp_data\\eeg\\sub-006_pred.fif ...\n",
      "    Read a total of 1 projection items:\n",
      "        Average EEG reference (1 x 62) active\n",
      "    Found the data of interest:\n",
      "        t =    -101.56 ...    1601.56 ms\n",
      "        0 CTF compensation matrices available\n",
      "Not setting metadata\n",
      "Not setting metadata\n",
      "225 matching events found\n",
      "No baseline correction applied\n",
      "Created an SSP operator (subspace dimension = 1)\n",
      "1 projection items activated\n",
      "Reading D:\\yikang1020\\yikangsystem1020\\2_Projects\\复杂知觉决策的证据积累模型：EEG和行为的证据\\2_Study\\2_4_Analysis\\2_4_3_tmp_data\\eeg\\sub-008_pred.fif ...\n",
      "    Read a total of 1 projection items:\n",
      "        Average EEG reference (1 x 62) active\n",
      "    Found the data of interest:\n",
      "        t =    -101.56 ...    1601.56 ms\n",
      "        0 CTF compensation matrices available\n"
     ]
    },
    {
     "name": "stderr",
     "output_type": "stream",
     "text": [
      "<ipython-input-32-a1e4b95a11f3>:3: RuntimeWarning: This filename (D:/yikang1020/yikangsystem1020/2_Projects/复杂知觉决策的证据积累模型：EEG和行为的证据/2_Study/2_4_Analysis/2_4_3_tmp_data/eeg\\sub-006_pred.fif) does not conform to MNE naming conventions. All epochs files should end with -epo.fif, -epo.fif.gz, _epo.fif or _epo.fif.gz\n",
      "  epochs = mne.read_epochs(fname)\n",
      "<ipython-input-32-a1e4b95a11f3>:3: RuntimeWarning: This filename (D:/yikang1020/yikangsystem1020/2_Projects/复杂知觉决策的证据积累模型：EEG和行为的证据/2_Study/2_4_Analysis/2_4_3_tmp_data/eeg\\sub-008_pred.fif) does not conform to MNE naming conventions. All epochs files should end with -epo.fif, -epo.fif.gz, _epo.fif or _epo.fif.gz\n",
      "  epochs = mne.read_epochs(fname)\n"
     ]
    },
    {
     "name": "stdout",
     "output_type": "stream",
     "text": [
      "Not setting metadata\n",
      "Not setting metadata\n",
      "388 matching events found\n",
      "No baseline correction applied\n",
      "Created an SSP operator (subspace dimension = 1)\n",
      "1 projection items activated\n",
      "Reading D:\\yikang1020\\yikangsystem1020\\2_Projects\\复杂知觉决策的证据积累模型：EEG和行为的证据\\2_Study\\2_4_Analysis\\2_4_3_tmp_data\\eeg\\sub-009_pred.fif ...\n",
      "    Read a total of 1 projection items:\n",
      "        Average EEG reference (1 x 62) active\n",
      "    Found the data of interest:\n",
      "        t =    -101.56 ...    1601.56 ms\n",
      "        0 CTF compensation matrices available\n",
      "Not setting metadata\n",
      "Not setting metadata\n",
      "113 matching events found\n",
      "No baseline correction applied\n",
      "Created an SSP operator (subspace dimension = 1)\n",
      "1 projection items activated\n",
      "Reading D:\\yikang1020\\yikangsystem1020\\2_Projects\\复杂知觉决策的证据积累模型：EEG和行为的证据\\2_Study\\2_4_Analysis\\2_4_3_tmp_data\\eeg\\sub-010_pred.fif ...\n",
      "    Read a total of 1 projection items:\n",
      "        Average EEG reference (1 x 62) active\n",
      "    Found the data of interest:\n",
      "        t =    -101.56 ...    1601.56 ms\n",
      "        0 CTF compensation matrices available\n",
      "Not setting metadata\n",
      "Not setting metadata\n",
      "61 matching events found\n",
      "No baseline correction applied\n",
      "Created an SSP operator (subspace dimension = 1)\n",
      "1 projection items activated\n",
      "Reading D:\\yikang1020\\yikangsystem1020\\2_Projects\\复杂知觉决策的证据积累模型：EEG和行为的证据\\2_Study\\2_4_Analysis\\2_4_3_tmp_data\\eeg\\sub-012_pred.fif ...\n",
      "    Read a total of 1 projection items:\n",
      "        Average EEG reference (1 x 62) active\n",
      "    Found the data of interest:\n",
      "        t =    -101.56 ...    1601.56 ms\n",
      "        0 CTF compensation matrices available\n"
     ]
    },
    {
     "name": "stderr",
     "output_type": "stream",
     "text": [
      "<ipython-input-32-a1e4b95a11f3>:3: RuntimeWarning: This filename (D:/yikang1020/yikangsystem1020/2_Projects/复杂知觉决策的证据积累模型：EEG和行为的证据/2_Study/2_4_Analysis/2_4_3_tmp_data/eeg\\sub-009_pred.fif) does not conform to MNE naming conventions. All epochs files should end with -epo.fif, -epo.fif.gz, _epo.fif or _epo.fif.gz\n",
      "  epochs = mne.read_epochs(fname)\n",
      "<ipython-input-32-a1e4b95a11f3>:3: RuntimeWarning: This filename (D:/yikang1020/yikangsystem1020/2_Projects/复杂知觉决策的证据积累模型：EEG和行为的证据/2_Study/2_4_Analysis/2_4_3_tmp_data/eeg\\sub-010_pred.fif) does not conform to MNE naming conventions. All epochs files should end with -epo.fif, -epo.fif.gz, _epo.fif or _epo.fif.gz\n",
      "  epochs = mne.read_epochs(fname)\n",
      "<ipython-input-32-a1e4b95a11f3>:3: RuntimeWarning: This filename (D:/yikang1020/yikangsystem1020/2_Projects/复杂知觉决策的证据积累模型：EEG和行为的证据/2_Study/2_4_Analysis/2_4_3_tmp_data/eeg\\sub-012_pred.fif) does not conform to MNE naming conventions. All epochs files should end with -epo.fif, -epo.fif.gz, _epo.fif or _epo.fif.gz\n",
      "  epochs = mne.read_epochs(fname)\n"
     ]
    },
    {
     "name": "stdout",
     "output_type": "stream",
     "text": [
      "Not setting metadata\n",
      "Not setting metadata\n",
      "328 matching events found\n",
      "No baseline correction applied\n",
      "Created an SSP operator (subspace dimension = 1)\n",
      "1 projection items activated\n",
      "Reading D:\\yikang1020\\yikangsystem1020\\2_Projects\\复杂知觉决策的证据积累模型：EEG和行为的证据\\2_Study\\2_4_Analysis\\2_4_3_tmp_data\\eeg\\sub-013_pred.fif ...\n",
      "    Read a total of 1 projection items:\n",
      "        Average EEG reference (1 x 62) active\n",
      "    Found the data of interest:\n",
      "        t =    -101.56 ...    1601.56 ms\n",
      "        0 CTF compensation matrices available\n",
      "Not setting metadata\n",
      "Not setting metadata\n",
      "102 matching events found\n",
      "No baseline correction applied\n",
      "Created an SSP operator (subspace dimension = 1)\n",
      "1 projection items activated\n",
      "Reading D:\\yikang1020\\yikangsystem1020\\2_Projects\\复杂知觉决策的证据积累模型：EEG和行为的证据\\2_Study\\2_4_Analysis\\2_4_3_tmp_data\\eeg\\sub-014_pred.fif ...\n",
      "    Read a total of 1 projection items:\n",
      "        Average EEG reference (1 x 62) active\n",
      "    Found the data of interest:\n",
      "        t =    -101.56 ...    1601.56 ms\n",
      "        0 CTF compensation matrices available\n",
      "Not setting metadata\n",
      "Not setting metadata\n",
      "324 matching events found\n"
     ]
    },
    {
     "name": "stderr",
     "output_type": "stream",
     "text": [
      "<ipython-input-32-a1e4b95a11f3>:3: RuntimeWarning: This filename (D:/yikang1020/yikangsystem1020/2_Projects/复杂知觉决策的证据积累模型：EEG和行为的证据/2_Study/2_4_Analysis/2_4_3_tmp_data/eeg\\sub-013_pred.fif) does not conform to MNE naming conventions. All epochs files should end with -epo.fif, -epo.fif.gz, _epo.fif or _epo.fif.gz\n",
      "  epochs = mne.read_epochs(fname)\n",
      "<ipython-input-32-a1e4b95a11f3>:3: RuntimeWarning: This filename (D:/yikang1020/yikangsystem1020/2_Projects/复杂知觉决策的证据积累模型：EEG和行为的证据/2_Study/2_4_Analysis/2_4_3_tmp_data/eeg\\sub-014_pred.fif) does not conform to MNE naming conventions. All epochs files should end with -epo.fif, -epo.fif.gz, _epo.fif or _epo.fif.gz\n",
      "  epochs = mne.read_epochs(fname)\n"
     ]
    },
    {
     "name": "stdout",
     "output_type": "stream",
     "text": [
      "No baseline correction applied\n",
      "Created an SSP operator (subspace dimension = 1)\n",
      "1 projection items activated\n",
      "Reading D:\\yikang1020\\yikangsystem1020\\2_Projects\\复杂知觉决策的证据积累模型：EEG和行为的证据\\2_Study\\2_4_Analysis\\2_4_3_tmp_data\\eeg\\sub-015_pred.fif ...\n",
      "    Read a total of 1 projection items:\n",
      "        Average EEG reference (1 x 62) active\n",
      "    Found the data of interest:\n",
      "        t =    -101.56 ...    1601.56 ms\n",
      "        0 CTF compensation matrices available\n",
      "Not setting metadata\n",
      "Not setting metadata\n",
      "376 matching events found\n",
      "No baseline correction applied\n",
      "Created an SSP operator (subspace dimension = 1)\n",
      "1 projection items activated\n",
      "Reading D:\\yikang1020\\yikangsystem1020\\2_Projects\\复杂知觉决策的证据积累模型：EEG和行为的证据\\2_Study\\2_4_Analysis\\2_4_3_tmp_data\\eeg\\sub-016_pred.fif ...\n",
      "    Read a total of 1 projection items:\n",
      "        Average EEG reference (1 x 62) active\n",
      "    Found the data of interest:\n",
      "        t =    -101.56 ...    1601.56 ms\n",
      "        0 CTF compensation matrices available\n"
     ]
    },
    {
     "name": "stderr",
     "output_type": "stream",
     "text": [
      "<ipython-input-32-a1e4b95a11f3>:3: RuntimeWarning: This filename (D:/yikang1020/yikangsystem1020/2_Projects/复杂知觉决策的证据积累模型：EEG和行为的证据/2_Study/2_4_Analysis/2_4_3_tmp_data/eeg\\sub-015_pred.fif) does not conform to MNE naming conventions. All epochs files should end with -epo.fif, -epo.fif.gz, _epo.fif or _epo.fif.gz\n",
      "  epochs = mne.read_epochs(fname)\n",
      "<ipython-input-32-a1e4b95a11f3>:3: RuntimeWarning: This filename (D:/yikang1020/yikangsystem1020/2_Projects/复杂知觉决策的证据积累模型：EEG和行为的证据/2_Study/2_4_Analysis/2_4_3_tmp_data/eeg\\sub-016_pred.fif) does not conform to MNE naming conventions. All epochs files should end with -epo.fif, -epo.fif.gz, _epo.fif or _epo.fif.gz\n",
      "  epochs = mne.read_epochs(fname)\n"
     ]
    },
    {
     "name": "stdout",
     "output_type": "stream",
     "text": [
      "Not setting metadata\n",
      "Not setting metadata\n",
      "57 matching events found\n",
      "No baseline correction applied\n",
      "Created an SSP operator (subspace dimension = 1)\n",
      "1 projection items activated\n",
      "Reading D:\\yikang1020\\yikangsystem1020\\2_Projects\\复杂知觉决策的证据积累模型：EEG和行为的证据\\2_Study\\2_4_Analysis\\2_4_3_tmp_data\\eeg\\sub-017_pred.fif ...\n",
      "    Read a total of 1 projection items:\n",
      "        Average EEG reference (1 x 62) active\n",
      "    Found the data of interest:\n",
      "        t =    -101.56 ...    1601.56 ms\n",
      "        0 CTF compensation matrices available\n",
      "Not setting metadata\n",
      "Not setting metadata\n",
      "184 matching events found\n",
      "No baseline correction applied\n",
      "Created an SSP operator (subspace dimension = 1)\n",
      "1 projection items activated\n"
     ]
    },
    {
     "name": "stderr",
     "output_type": "stream",
     "text": [
      "<ipython-input-32-a1e4b95a11f3>:3: RuntimeWarning: This filename (D:/yikang1020/yikangsystem1020/2_Projects/复杂知觉决策的证据积累模型：EEG和行为的证据/2_Study/2_4_Analysis/2_4_3_tmp_data/eeg\\sub-017_pred.fif) does not conform to MNE naming conventions. All epochs files should end with -epo.fif, -epo.fif.gz, _epo.fif or _epo.fif.gz\n",
      "  epochs = mne.read_epochs(fname)\n"
     ]
    }
   ],
   "source": [
    "for i,subj in enumerate(list_subj):\n",
    "    fname =os.path.join(\"D:/yikang1020/yikangsystem1020/2_Projects/复杂知觉决策的证据积累模型：EEG和行为的证据/2_Study/2_4_Analysis/2_4_3_tmp_data/eeg\", subj + \"_pred.fif\")\n",
    "    epochs = mne.read_epochs(fname)\n",
    "    \n",
    "    evoked_hc[i] = epochs[hc].average().data\n",
    "    evoked_lc[i] = epochs[lc].average().data"
   ]
  },
  {
   "cell_type": "code",
   "execution_count": 43,
   "id": "86a21a98-c2a3-4eda-a23a-e84e434ff478",
   "metadata": {},
   "outputs": [],
   "source": [
    "ch_name_CPz = 'CPz'\n",
    "ch_name_CP1 = 'CP1'\n",
    "ch_name_CP2 = 'CP2'"
   ]
  },
  {
   "cell_type": "code",
   "execution_count": 50,
   "id": "a47b3424-d536-4d51-a01a-6fc29c38dda4",
   "metadata": {},
   "outputs": [],
   "source": [
    "channel_indices_CPz = mne.pick_channels(epochs.info['ch_names'], [ch_name_CPz])[0]\n",
    "channel_indices_CP1 = mne.pick_channels(epochs.info['ch_names'], [ch_name_CP1])[0]\n",
    "channel_indices_CP2 = mne.pick_channels(epochs.info['ch_names'], [ch_name_CP1])[0]"
   ]
  },
  {
   "cell_type": "code",
   "execution_count": 51,
   "id": "a1bee48a-254a-4674-a987-8d5b20c35afe",
   "metadata": {},
   "outputs": [],
   "source": [
    "times = epochs.times"
   ]
  },
  {
   "cell_type": "code",
   "execution_count": 90,
   "id": "3cfc7584-3266-42e2-8f69-1ae084ffbeb7",
   "metadata": {},
   "outputs": [],
   "source": [
    "CPP_amplitude_hc = np.array((evoked_hc[:,channel_indices_CPz,:],\n",
    "                          evoked_hc[:,channel_indices_CP1,:],\n",
    "                          evoked_hc[:,channel_indices_CP2,:])).mean(axis=0)\n",
    "CPP_amplitude_lc = np.array((evoked_lc[:,channel_indices_CPz,:],\n",
    "                          evoked_lc[:,channel_indices_CP1,:],\n",
    "                          evoked_lc[:,channel_indices_CP2,:])).mean(axis=0)"
   ]
  },
  {
   "cell_type": "code",
   "execution_count": 92,
   "id": "734fd2fe-783f-4bb0-91f0-94d4915bd07f",
   "metadata": {},
   "outputs": [
    {
     "data": {
      "text/plain": [
       "<matplotlib.lines.Line2D at 0x1c5c9bb2970>"
      ]
     },
     "execution_count": 92,
     "metadata": {},
     "output_type": "execute_result"
    },
    {
     "data": {
      "image/png": "[encoded data removed]",
      "text/plain": [
       "<Figure size 432x288 with 1 Axes>"
      ]
     },
     "metadata": {
      "needs_background": "light"
     },
     "output_type": "display_data"
    }
   ],
   "source": [
    "\n",
    "plt.figure()\n",
    "\n",
    "plt.plot(times*1000, CPP_amplitude_hc.mean(axis=0),label='HC')\n",
    "\n",
    "error = CPP_amplitude_hc.mean(axis=0).std(axis=0)/np.sqrt(14)\n",
    "plt.fill_between(times*1000, \n",
    "                 CPP_amplitude_hc.mean(axis=0) -error,  \n",
    "                 CPP_amplitude_hc.mean(axis=0) +error,\n",
    "                 alpha=0.3)\n",
    "\n",
    "plt.plot(times*1000, CPP_amplitude_lc.mean(axis=0),label='LC')\n",
    "\n",
    "error = CPP_amplitude_lc.mean(axis=0).std(axis=0)/np.sqrt(14)\n",
    "plt.fill_between(times*1000, \n",
    "                 CPP_amplitude_lc.mean(axis=0) -error,  \n",
    "                 CPP_amplitude_lc.mean(axis=0) +error,\n",
    "                 alpha=0.3)\n",
    "\n",
    "plt.plot(times*1000, \n",
    "         CPP_amplitude_hc.mean(axis=0) - CPP_amplitude_lc.mean(axis=0),\n",
    "         'k--', \n",
    "         label='HC - LC')\n",
    "plt.legend()\n",
    "plt.show\n",
    "sns.despine(offset=10, trim=True)  # <-- only show the right spine\n",
    "\n",
    "plt.axvline(x=0, color='black')\n",
    "plt.axvline(x=1000, color='black')"
   ]
  },
  {
   "cell_type": "code",
   "execution_count": 93,
   "id": "8d4b9635-77de-4979-a409-2c2374fef600",
   "metadata": {
    "tags": []
   },
   "outputs": [],
   "source": [
    "win_low = int((-59 + 100)/3.9)\n",
    "win_up  = int((650 + 100)/3.9)"
   ]
  },
  {
   "cell_type": "code",
   "execution_count": 94,
   "id": "104685c5-74f6-443a-994f-ccbf2927908a",
   "metadata": {},
   "outputs": [],
   "source": [
    "T, pval = stats.ttest_rel(CPP_amplitude_hc[:,win_low:win_up], \n",
    "                          CPP_amplitude_lc[:,win_low:win_up])\n",
    "alpha = 0.05\n",
    "reject_fdr, pval_fdr = fdr_correction(pval, alpha=alpha, method='indep')"
   ]
  },
  {
   "cell_type": "code",
   "execution_count": 95,
   "id": "6d6a9a76-1a0f-4f17-a876-d7631612c4a0",
   "metadata": {},
   "outputs": [
    {
     "data": {
      "text/plain": [
       "array([360.2, 364.1, 368. , 371.9, 375.8, 379.7, 383.6, 387.5, 391.4,\n",
       "       395.3, 399.2, 403.1, 407. , 410.9, 414.8, 418.7, 422.6, 426.5,\n",
       "       430.4, 434.3, 438.2, 442.1, 446. , 449.9, 453.8, 457.7, 461.6,\n",
       "       465.5, 469.4, 473.3, 477.2, 481.1])"
      ]
     },
     "execution_count": 95,
     "metadata": {},
     "output_type": "execute_result"
    }
   ],
   "source": [
    "3.9*np.arange(win_low,win_up)[pval_fdr<0.05]-100"
   ]
  },
  {
   "cell_type": "code",
   "execution_count": 101,
   "id": "d8a3d702-89d1-4000-a228-69013505f5ec",
   "metadata": {},
   "outputs": [],
   "source": [
    "time_min = int((100 + 360)/3.9)\n",
    "time_max = int((100 + 480)/3.9)"
   ]
  },
  {
   "cell_type": "code",
   "execution_count": 102,
   "id": "bd9b722e-29bc-4434-acc2-5fe39cb2ab1a",
   "metadata": {},
   "outputs": [
    {
     "data": {
      "text/plain": [
       "(355.46875, 476.5625)"
      ]
     },
     "execution_count": 102,
     "metadata": {},
     "output_type": "execute_result"
    }
   ],
   "source": [
    "times[time_min]*1000, times[time_max]*1000"
   ]
  },
  {
   "cell_type": "code",
   "execution_count": 103,
   "id": "40cd1b13-aa58-4ddd-ba75-cbc73384eb28",
   "metadata": {},
   "outputs": [
    {
     "data": {
      "text/plain": [
       "<matplotlib.lines.Line2D at 0x1c5c9aea190>"
      ]
     },
     "execution_count": 103,
     "metadata": {},
     "output_type": "execute_result"
    },
    {
     "data": {
      "image/png": "[encoded data removed]",
      "text/plain": [
       "<Figure size 432x288 with 1 Axes>"
      ]
     },
     "metadata": {
      "needs_background": "light"
     },
     "output_type": "display_data"
    }
   ],
   "source": [
    "\n",
    "plt.figure()\n",
    "\n",
    "plt.plot(times*1000, CPP_amplitude_hc.mean(axis=0),label='HC')\n",
    "\n",
    "error = CPP_amplitude_hc.mean(axis=0).std(axis=0)/np.sqrt(14)\n",
    "plt.fill_between(times*1000, \n",
    "                 CPP_amplitude_hc.mean(axis=0) -error,  \n",
    "                 CPP_amplitude_hc.mean(axis=0) +error,\n",
    "                 alpha=0.3)\n",
    "\n",
    "plt.plot(times*1000, CPP_amplitude_lc.mean(axis=0),label='LC')\n",
    "\n",
    "error = CPP_amplitude_lc.mean(axis=0).std(axis=0)/np.sqrt(14)\n",
    "plt.fill_between(times*1000, \n",
    "                 CPP_amplitude_lc.mean(axis=0) -error,  \n",
    "                 CPP_amplitude_lc.mean(axis=0) +error,\n",
    "                 alpha=0.3)\n",
    "\n",
    "plt.plot(times*1000, \n",
    "         CPP_amplitude_hc.mean(axis=0) - CPP_amplitude_lc.mean(axis=0),\n",
    "         'k--', \n",
    "         label='HC - LC')\n",
    "plt.axvspan(times[time_min]*1000, times[time_max]*1000, color=sns.xkcd_rgb['grey'], alpha=0.4, ymax= 1)\n",
    "plt.legend()\n",
    "plt.show\n",
    "sns.despine(offset=10, trim=True)  # <-- only show the right spine\n",
    "\n",
    "plt.axvline(x=0, color='black')\n",
    "plt.axvline(x=1000, color='black')"
   ]
  },
  {
   "cell_type": "code",
   "execution_count": 106,
   "id": "e2b9b7be-4504-477b-9567-d77a6c07196a",
   "metadata": {},
   "outputs": [],
   "source": [
    "CPP_amplitude_hc_mean = CPP_amplitude_hc[:,time_min:time_max].mean(axis = 1)\n",
    "CPP_amplitude_lc_mean = CPP_amplitude_lc[:,time_min:time_max].mean(axis = 1)"
   ]
  },
  {
   "cell_type": "code",
   "execution_count": 108,
   "id": "aeff35d9-4a1b-4b94-a0f5-2f042a5b8c8b",
   "metadata": {},
   "outputs": [
    {
     "data": {
      "text/plain": [
       "Ttest_relResult(statistic=4.463965013413287, pvalue=0.0006380567943625749)"
      ]
     },
     "execution_count": 108,
     "metadata": {},
     "output_type": "execute_result"
    }
   ],
   "source": [
    "stats.ttest_rel(CPP_amplitude_hc_mean,CPP_amplitude_lc_mean)"
   ]
  },
  {
   "cell_type": "code",
   "execution_count": 111,
   "id": "468bdfa9-0068-4ac1-8fc0-9915264f6a45",
   "metadata": {},
   "outputs": [],
   "source": [
    "diff_CPP_amplitude = CPP_amplitude_hc_mean - CPP_amplitude_lc_mean"
   ]
  },
  {
   "cell_type": "code",
   "execution_count": 116,
   "id": "d0c6b20b-6729-45ac-8519-94df3959aadd",
   "metadata": {},
   "outputs": [],
   "source": [
    "cpp = pd.DataFrame(diff_CPP_amplitude)"
   ]
  },
  {
   "cell_type": "code",
   "execution_count": 119,
   "id": "a5641307-bfaa-41bb-ba3b-0b27647efb18",
   "metadata": {},
   "outputs": [],
   "source": [
    "cpp.to_csv('D:/yikang1020/yikangsystem1020/2_Projects/复杂知觉决策的证据积累模型：EEG和行为的证据/2_Study/2_4_Analysis/2_4_3_tmp_data/cpp.csv',index=False)"
   ]
  },
  {
   "cell_type": "code",
   "execution_count": 266,
   "id": "d895e880-402b-4392-8f26-d01faf197e46",
   "metadata": {},
   "outputs": [],
   "source": [
    "diff_CPP_amplitude = pd.read_csv('D:/yikang1020/yikangsystem1020/2_Projects/复杂知觉决策的证据积累模型：EEG和行为的证据/2_Study/2_4_Analysis/2_4_3_tmp_data/cpp.csv')"
   ]
  },
  {
   "cell_type": "code",
   "execution_count": 269,
   "id": "9bb9f05e-2639-4b6f-871f-3654b6f7070b",
   "metadata": {},
   "outputs": [],
   "source": [
    "diff_CPP_amplitude = diff_CPP_amplitude['0'].to_numpy()"
   ]
  },
  {
   "cell_type": "code",
   "execution_count": 291,
   "id": "d254f84c-e9eb-40ba-a3bd-774b8d2856e5",
   "metadata": {},
   "outputs": [],
   "source": [
    "model = pd.read_csv('D:/yikang1020/yikangsystem1020/2_Projects/复杂知觉决策的证据积累模型：EEG和行为的证据/2_Study/2_4_Analysis/2_4_3_tmp_data/model/model2_comb.csv')"
   ]
  },
  {
   "cell_type": "code",
   "execution_count": 302,
   "id": "0dac87fd-d3f8-4b76-b32f-871042cc3294",
   "metadata": {},
   "outputs": [],
   "source": [
    "par_hc = model.filter(regex = \"z_subj\\(High\\).*\").to_numpy()[0]\n",
    "par_lc = model.filter(regex=\"z_subj\\(Low\\).*\").to_numpy()[0]\n",
    "diff_z = par_hc - par_lc"
   ]
  },
  {
   "cell_type": "code",
   "execution_count": 303,
   "id": "79b3d8ce-fdd7-405a-844b-bf40c7e1137a",
   "metadata": {},
   "outputs": [],
   "source": [
    "reg_independent_diff   = pd.DataFrame({'erp' : diff_CPP_amplitude})"
   ]
  },
  {
   "cell_type": "code",
   "execution_count": 306,
   "id": "164ec3b6-8129-46a9-9813-7b869a547f97",
   "metadata": {},
   "outputs": [],
   "source": [
    "y = diff_z\n",
    "X = reg_independent_diff\n",
    "X = sm.add_constant(X)"
   ]
  },
  {
   "cell_type": "code",
   "execution_count": 307,
   "id": "ad062aec-ba1b-4ce9-b928-5bd973369795",
   "metadata": {},
   "outputs": [],
   "source": [
    "model_ddm_1 = sm.OLS(y, X).fit()"
   ]
  },
  {
   "cell_type": "code",
   "execution_count": 308,
   "id": "b9b5f33d-577d-4462-a56c-770fbcd09396",
   "metadata": {},
   "outputs": [
    {
     "name": "stderr",
     "output_type": "stream",
     "text": [
      "D:\\anaconda\\lib\\site-packages\\scipy\\stats\\stats.py:1603: UserWarning: kurtosistest only valid for n>=20 ... continuing anyway, n=14\n",
      "  warnings.warn(\"kurtosistest only valid for n>=20 ... continuing \"\n"
     ]
    },
    {
     "data": {
      "text/html": [
       "<table class=\"simpletable\">\n",
       "<caption>OLS Regression Results</caption>\n",
       "<tr>\n",
       "  <th>Dep. Variable:</th>            <td>y</td>        <th>  R-squared:         </th> <td>   0.087</td>\n",
       "</tr>\n",
       "<tr>\n",
       "  <th>Model:</th>                   <td>OLS</td>       <th>  Adj. R-squared:    </th> <td>   0.011</td>\n",
       "</tr>\n",
       "<tr>\n",
       "  <th>Method:</th>             <td>Least Squares</td>  <th>  F-statistic:       </th> <td>   1.142</td>\n",
       "</tr>\n",
       "<tr>\n",
       "  <th>Date:</th>             <td>Tue, 03 May 2022</td> <th>  Prob (F-statistic):</th>  <td> 0.306</td> \n",
       "</tr>\n",
       "<tr>\n",
       "  <th>Time:</th>                 <td>17:17:15</td>     <th>  Log-Likelihood:    </th> <td>  25.953</td>\n",
       "</tr>\n",
       "<tr>\n",
       "  <th>No. Observations:</th>      <td>    14</td>      <th>  AIC:               </th> <td>  -47.91</td>\n",
       "</tr>\n",
       "<tr>\n",
       "  <th>Df Residuals:</th>          <td>    12</td>      <th>  BIC:               </th> <td>  -46.63</td>\n",
       "</tr>\n",
       "<tr>\n",
       "  <th>Df Model:</th>              <td>     1</td>      <th>                     </th>     <td> </td>   \n",
       "</tr>\n",
       "<tr>\n",
       "  <th>Covariance Type:</th>      <td>nonrobust</td>    <th>                     </th>     <td> </td>   \n",
       "</tr>\n",
       "</table>\n",
       "<table class=\"simpletable\">\n",
       "<tr>\n",
       "    <td></td>       <th>coef</th>     <th>std err</th>      <th>t</th>      <th>P>|t|</th>  <th>[0.025</th>    <th>0.975]</th>  \n",
       "</tr>\n",
       "<tr>\n",
       "  <th>const</th> <td>    0.0577</td> <td>    0.017</td> <td>    3.315</td> <td> 0.006</td> <td>    0.020</td> <td>    0.096</td>\n",
       "</tr>\n",
       "<tr>\n",
       "  <th>erp</th>   <td>-1.384e+04</td> <td> 1.29e+04</td> <td>   -1.069</td> <td> 0.306</td> <td> -4.2e+04</td> <td> 1.44e+04</td>\n",
       "</tr>\n",
       "</table>\n",
       "<table class=\"simpletable\">\n",
       "<tr>\n",
       "  <th>Omnibus:</th>       <td> 0.353</td> <th>  Durbin-Watson:     </th> <td>   2.131</td>\n",
       "</tr>\n",
       "<tr>\n",
       "  <th>Prob(Omnibus):</th> <td> 0.838</td> <th>  Jarque-Bera (JB):  </th> <td>   0.484</td>\n",
       "</tr>\n",
       "<tr>\n",
       "  <th>Skew:</th>          <td>-0.195</td> <th>  Prob(JB):          </th> <td>   0.785</td>\n",
       "</tr>\n",
       "<tr>\n",
       "  <th>Kurtosis:</th>      <td> 2.177</td> <th>  Cond. No.          </th> <td>1.18e+06</td>\n",
       "</tr>\n",
       "</table><br/><br/>Notes:<br/>[1] Standard Errors assume that the covariance matrix of the errors is correctly specified.<br/>[2] The smallest eigenvalue is  1e-11. This might indicate that there are<br/>strong multicollinearity problems or that the design matrix is singular."
      ],
      "text/plain": [
       "<class 'statsmodels.iolib.summary.Summary'>\n",
       "\"\"\"\n",
       "                            OLS Regression Results                            \n",
       "==============================================================================\n",
       "Dep. Variable:                      y   R-squared:                       0.087\n",
       "Model:                            OLS   Adj. R-squared:                  0.011\n",
       "Method:                 Least Squares   F-statistic:                     1.142\n",
       "Date:                Tue, 03 May 2022   Prob (F-statistic):              0.306\n",
       "Time:                        17:17:15   Log-Likelihood:                 25.953\n",
       "No. Observations:                  14   AIC:                            -47.91\n",
       "Df Residuals:                      12   BIC:                            -46.63\n",
       "Df Model:                           1                                         \n",
       "Covariance Type:            nonrobust                                         \n",
       "==============================================================================\n",
       "                 coef    std err          t      P>|t|      [0.025      0.975]\n",
       "------------------------------------------------------------------------------\n",
       "const          0.0577      0.017      3.315      0.006       0.020       0.096\n",
       "erp        -1.384e+04   1.29e+04     -1.069      0.306    -4.2e+04    1.44e+04\n",
       "==============================================================================\n",
       "Omnibus:                        0.353   Durbin-Watson:                   2.131\n",
       "Prob(Omnibus):                  0.838   Jarque-Bera (JB):                0.484\n",
       "Skew:                          -0.195   Prob(JB):                        0.785\n",
       "Kurtosis:                       2.177   Cond. No.                     1.18e+06\n",
       "==============================================================================\n",
       "\n",
       "Notes:\n",
       "[1] Standard Errors assume that the covariance matrix of the errors is correctly specified.\n",
       "[2] The smallest eigenvalue is  1e-11. This might indicate that there are\n",
       "strong multicollinearity problems or that the design matrix is singular.\n",
       "\"\"\""
      ]
     },
     "execution_count": 308,
     "metadata": {},
     "output_type": "execute_result"
    }
   ],
   "source": [
    "model_ddm_1.summary()"
   ]
  },
  {
   "cell_type": "code",
   "execution_count": 310,
   "id": "d797c934-544b-4d7a-aaef-d1d3df218bbd",
   "metadata": {},
   "outputs": [
    {
     "data": {
      "image/png": "[encoded data removed]",
      "text/plain": [
       "<Figure size 432x288 with 1 Axes>"
      ]
     },
     "metadata": {
      "needs_background": "light"
     },
     "output_type": "display_data"
    }
   ],
   "source": [
    "fig = sm.graphics.plot_ccpr(model_ddm_1, \"erp\")\n",
    "fig.tight_layout(pad=1.0)"
   ]
  },
  {
   "cell_type": "code",
   "execution_count": 348,
   "id": "33cceeea-97b5-464c-a5b7-bbc2d92f08de",
   "metadata": {},
   "outputs": [
    {
     "data": {
      "text/plain": [
       "(-0.29479663271613316, 0.30623265991772414)"
      ]
     },
     "execution_count": 348,
     "metadata": {},
     "output_type": "execute_result"
    }
   ],
   "source": [
    "stats.pearsonr(diff_z, diff_CPP_amplitude)"
   ]
  },
  {
   "cell_type": "code",
   "execution_count": 311,
   "id": "6c73551d-a5be-499e-b560-db8d62254ca2",
   "metadata": {},
   "outputs": [],
   "source": [
    "pdata = pd.read_csv(\"D:/yikang1020/yikangsystem1020/2_Projects/复杂知觉决策的证据积累模型：EEG和行为的证据/2_Study/2_4_Analysis/2_4_3_tmp_data/filtered_group/sourcedata-eeg_outside-MRT/beh/performance_data.csv\")"
   ]
  },
  {
   "cell_type": "code",
   "execution_count": 323,
   "id": "67e23d02-f88f-4cc8-b1bc-b71c388b4ab2",
   "metadata": {},
   "outputs": [
    {
     "data": {
      "text/html": [
       "<div>\n",
       "<style scoped>\n",
       "    .dataframe tbody tr th:only-of-type {\n",
       "        vertical-align: middle;\n",
       "    }\n",
       "\n",
       "    .dataframe tbody tr th {\n",
       "        vertical-align: top;\n",
       "    }\n",
       "\n",
       "    .dataframe thead th {\n",
       "        text-align: right;\n",
       "    }\n",
       "</style>\n",
       "<table border=\"1\" class=\"dataframe\">\n",
       "  <thead>\n",
       "    <tr style=\"text-align: right;\">\n",
       "      <th></th>\n",
       "      <th>Unnamed: 0</th>\n",
       "      <th>ACC</th>\n",
       "      <th>RT</th>\n",
       "      <th>Condition</th>\n",
       "      <th>Subject</th>\n",
       "      <th>Stimulus</th>\n",
       "    </tr>\n",
       "  </thead>\n",
       "  <tbody>\n",
       "    <tr>\n",
       "      <th>0</th>\n",
       "      <td>0</td>\n",
       "      <td>94.444444</td>\n",
       "      <td>389.821172</td>\n",
       "      <td>High/Yes</td>\n",
       "      <td>1</td>\n",
       "      <td>Face</td>\n",
       "    </tr>\n",
       "    <tr>\n",
       "      <th>1</th>\n",
       "      <td>1</td>\n",
       "      <td>100.000000</td>\n",
       "      <td>425.300476</td>\n",
       "      <td>High/Yes</td>\n",
       "      <td>1</td>\n",
       "      <td>Car</td>\n",
       "    </tr>\n",
       "    <tr>\n",
       "      <th>2</th>\n",
       "      <td>2</td>\n",
       "      <td>94.285714</td>\n",
       "      <td>433.737396</td>\n",
       "      <td>High/No</td>\n",
       "      <td>1</td>\n",
       "      <td>Face</td>\n",
       "    </tr>\n",
       "    <tr>\n",
       "      <th>3</th>\n",
       "      <td>3</td>\n",
       "      <td>100.000000</td>\n",
       "      <td>454.689176</td>\n",
       "      <td>High/No</td>\n",
       "      <td>1</td>\n",
       "      <td>Car</td>\n",
       "    </tr>\n",
       "    <tr>\n",
       "      <th>4</th>\n",
       "      <td>4</td>\n",
       "      <td>94.444444</td>\n",
       "      <td>490.938032</td>\n",
       "      <td>Low/Yes</td>\n",
       "      <td>1</td>\n",
       "      <td>Face</td>\n",
       "    </tr>\n",
       "    <tr>\n",
       "      <th>...</th>\n",
       "      <td>...</td>\n",
       "      <td>...</td>\n",
       "      <td>...</td>\n",
       "      <td>...</td>\n",
       "      <td>...</td>\n",
       "      <td>...</td>\n",
       "    </tr>\n",
       "    <tr>\n",
       "      <th>107</th>\n",
       "      <td>3</td>\n",
       "      <td>88.235294</td>\n",
       "      <td>420.360501</td>\n",
       "      <td>High/No</td>\n",
       "      <td>17</td>\n",
       "      <td>Car</td>\n",
       "    </tr>\n",
       "    <tr>\n",
       "      <th>108</th>\n",
       "      <td>4</td>\n",
       "      <td>80.000000</td>\n",
       "      <td>542.657978</td>\n",
       "      <td>Low/Yes</td>\n",
       "      <td>17</td>\n",
       "      <td>Face</td>\n",
       "    </tr>\n",
       "    <tr>\n",
       "      <th>109</th>\n",
       "      <td>5</td>\n",
       "      <td>86.111111</td>\n",
       "      <td>563.622411</td>\n",
       "      <td>Low/Yes</td>\n",
       "      <td>17</td>\n",
       "      <td>Car</td>\n",
       "    </tr>\n",
       "    <tr>\n",
       "      <th>110</th>\n",
       "      <td>6</td>\n",
       "      <td>62.857143</td>\n",
       "      <td>543.939682</td>\n",
       "      <td>Low/No</td>\n",
       "      <td>17</td>\n",
       "      <td>Face</td>\n",
       "    </tr>\n",
       "    <tr>\n",
       "      <th>111</th>\n",
       "      <td>7</td>\n",
       "      <td>94.444444</td>\n",
       "      <td>524.210899</td>\n",
       "      <td>Low/No</td>\n",
       "      <td>17</td>\n",
       "      <td>Car</td>\n",
       "    </tr>\n",
       "  </tbody>\n",
       "</table>\n",
       "<p>112 rows × 6 columns</p>\n",
       "</div>"
      ],
      "text/plain": [
       "     Unnamed: 0         ACC          RT Condition  Subject Stimulus\n",
       "0             0   94.444444  389.821172  High/Yes        1     Face\n",
       "1             1  100.000000  425.300476  High/Yes        1      Car\n",
       "2             2   94.285714  433.737396   High/No        1     Face\n",
       "3             3  100.000000  454.689176   High/No        1      Car\n",
       "4             4   94.444444  490.938032   Low/Yes        1     Face\n",
       "..          ...         ...         ...       ...      ...      ...\n",
       "107           3   88.235294  420.360501   High/No       17      Car\n",
       "108           4   80.000000  542.657978   Low/Yes       17     Face\n",
       "109           5   86.111111  563.622411   Low/Yes       17      Car\n",
       "110           6   62.857143  543.939682    Low/No       17     Face\n",
       "111           7   94.444444  524.210899    Low/No       17      Car\n",
       "\n",
       "[112 rows x 6 columns]"
      ]
     },
     "execution_count": 323,
     "metadata": {},
     "output_type": "execute_result"
    }
   ],
   "source": [
    "pdata"
   ]
  },
  {
   "cell_type": "code",
   "execution_count": 335,
   "id": "f81fc1cb-c9cd-4f5b-aaa2-1c242da50beb",
   "metadata": {},
   "outputs": [],
   "source": [
    "diff_data = pd.DataFrame({'ACC_high':[],\n",
    "                          'ACC_low':[],\n",
    "                          'RT_high':[],\n",
    "                          'RT_low':[],\n",
    "                          'diff_acc':[],\n",
    "                          'diff_rt':[],\n",
    "                          'Subject':[]})\n",
    "for i in range(1,18):\n",
    "    if i !=2 and i != 7 and i != 11:\n",
    "        subject = i\n",
    "        \n",
    "        data_High = pdata[(pdata[\"Condition\"]==\"High/Yes\")|(pdata[\"Condition\"]==\"High/No\")&(pdata[\"Subject\"]==i)]\n",
    "        data_Low = pdata[(pdata[\"Condition\"]==\"Low/Yes\")|(pdata[\"Condition\"]==\"Low/No\")&(pdata[\"Subject\"]==i)]\n",
    "        \n",
    "        data_High_rt = data_High['RT'].mean()\n",
    "        data_Low_rt = data_Low['RT'].mean()\n",
    "        data_diff_rt = data_High_rt - data_Low_rt\n",
    "        \n",
    "        data_High_acc = data_High['ACC'].mean()\n",
    "        data_Low_acc = data_Low['ACC'].mean()\n",
    "        data_diff_acc = data_High_acc - data_Low_acc\n",
    "        \n",
    "        data_new = pd.DataFrame({'ACC_high':[ data_High_acc],\n",
    "                          'ACC_low':[data_Low_acc],\n",
    "                          'RT_high':[data_High_rt],\n",
    "                          'RT_low':[data_Low_rt],\n",
    "                          'diff_acc':[data_diff_acc],\n",
    "                          'diff_rt':[data_diff_rt],\n",
    "                          'Subject':[i]})\n",
    "        diff_data = diff_data.append(data_new)\n",
    "diff_data['Subject'] = diff_data['Subject'].astype(int) "
   ]
  },
  {
   "cell_type": "code",
   "execution_count": 337,
   "id": "889bd33f-1e63-49f3-b590-e17999640256",
   "metadata": {},
   "outputs": [],
   "source": [
    "diff_data.to_csv(\"D:/yikang1020/yikangsystem1020/2_Projects/复杂知觉决策的证据积累模型：EEG和行为的证据/2_Study/2_4_Analysis/2_4_3_tmp_data/filtered_group/sourcedata-eeg_outside-MRT/beh/diff_data.csv\",index = False)"
   ]
  },
  {
   "cell_type": "code",
   "execution_count": 342,
   "id": "30be264f-15b0-46ac-b9b4-96196d363ccb",
   "metadata": {},
   "outputs": [],
   "source": [
    "diff_acc = diff_data['diff_acc'].to_numpy()\n",
    "diff_rt = diff_data['diff_rt'].to_numpy()"
   ]
  },
  {
   "cell_type": "code",
   "execution_count": 343,
   "id": "36801e69-fbfc-407d-9d83-5169141f27a1",
   "metadata": {},
   "outputs": [
    {
     "name": "stderr",
     "output_type": "stream",
     "text": [
      "D:\\anaconda\\lib\\site-packages\\scipy\\stats\\stats.py:1603: UserWarning: kurtosistest only valid for n>=20 ... continuing anyway, n=14\n",
      "  warnings.warn(\"kurtosistest only valid for n>=20 ... continuing \"\n"
     ]
    },
    {
     "data": {
      "text/html": [
       "<table class=\"simpletable\">\n",
       "<caption>OLS Regression Results</caption>\n",
       "<tr>\n",
       "  <th>Dep. Variable:</th>            <td>y</td>        <th>  R-squared:         </th> <td>   0.002</td>\n",
       "</tr>\n",
       "<tr>\n",
       "  <th>Model:</th>                   <td>OLS</td>       <th>  Adj. R-squared:    </th> <td>  -0.081</td>\n",
       "</tr>\n",
       "<tr>\n",
       "  <th>Method:</th>             <td>Least Squares</td>  <th>  F-statistic:       </th> <td> 0.02389</td>\n",
       "</tr>\n",
       "<tr>\n",
       "  <th>Date:</th>             <td>Tue, 03 May 2022</td> <th>  Prob (F-statistic):</th>  <td> 0.880</td> \n",
       "</tr>\n",
       "<tr>\n",
       "  <th>Time:</th>                 <td>17:47:01</td>     <th>  Log-Likelihood:    </th> <td> -31.228</td>\n",
       "</tr>\n",
       "<tr>\n",
       "  <th>No. Observations:</th>      <td>    14</td>      <th>  AIC:               </th> <td>   66.46</td>\n",
       "</tr>\n",
       "<tr>\n",
       "  <th>Df Residuals:</th>          <td>    12</td>      <th>  BIC:               </th> <td>   67.74</td>\n",
       "</tr>\n",
       "<tr>\n",
       "  <th>Df Model:</th>              <td>     1</td>      <th>                     </th>     <td> </td>   \n",
       "</tr>\n",
       "<tr>\n",
       "  <th>Covariance Type:</th>      <td>nonrobust</td>    <th>                     </th>     <td> </td>   \n",
       "</tr>\n",
       "</table>\n",
       "<table class=\"simpletable\">\n",
       "<tr>\n",
       "    <td></td>       <th>coef</th>     <th>std err</th>      <th>t</th>      <th>P>|t|</th>  <th>[0.025</th>    <th>0.975]</th>  \n",
       "</tr>\n",
       "<tr>\n",
       "  <th>const</th> <td>  -83.0904</td> <td>    1.034</td> <td>  -80.322</td> <td> 0.000</td> <td>  -85.344</td> <td>  -80.836</td>\n",
       "</tr>\n",
       "<tr>\n",
       "  <th>erp</th>   <td>-1.189e+05</td> <td> 7.69e+05</td> <td>   -0.155</td> <td> 0.880</td> <td>-1.79e+06</td> <td> 1.56e+06</td>\n",
       "</tr>\n",
       "</table>\n",
       "<table class=\"simpletable\">\n",
       "<tr>\n",
       "  <th>Omnibus:</th>       <td> 0.419</td> <th>  Durbin-Watson:     </th> <td>   2.443</td>\n",
       "</tr>\n",
       "<tr>\n",
       "  <th>Prob(Omnibus):</th> <td> 0.811</td> <th>  Jarque-Bera (JB):  </th> <td>   0.500</td>\n",
       "</tr>\n",
       "<tr>\n",
       "  <th>Skew:</th>          <td>-0.310</td> <th>  Prob(JB):          </th> <td>   0.779</td>\n",
       "</tr>\n",
       "<tr>\n",
       "  <th>Kurtosis:</th>      <td> 2.312</td> <th>  Cond. No.          </th> <td>1.18e+06</td>\n",
       "</tr>\n",
       "</table><br/><br/>Notes:<br/>[1] Standard Errors assume that the covariance matrix of the errors is correctly specified.<br/>[2] The smallest eigenvalue is  1e-11. This might indicate that there are<br/>strong multicollinearity problems or that the design matrix is singular."
      ],
      "text/plain": [
       "<class 'statsmodels.iolib.summary.Summary'>\n",
       "\"\"\"\n",
       "                            OLS Regression Results                            \n",
       "==============================================================================\n",
       "Dep. Variable:                      y   R-squared:                       0.002\n",
       "Model:                            OLS   Adj. R-squared:                 -0.081\n",
       "Method:                 Least Squares   F-statistic:                   0.02389\n",
       "Date:                Tue, 03 May 2022   Prob (F-statistic):              0.880\n",
       "Time:                        17:47:01   Log-Likelihood:                -31.228\n",
       "No. Observations:                  14   AIC:                             66.46\n",
       "Df Residuals:                      12   BIC:                             67.74\n",
       "Df Model:                           1                                         \n",
       "Covariance Type:            nonrobust                                         \n",
       "==============================================================================\n",
       "                 coef    std err          t      P>|t|      [0.025      0.975]\n",
       "------------------------------------------------------------------------------\n",
       "const        -83.0904      1.034    -80.322      0.000     -85.344     -80.836\n",
       "erp        -1.189e+05   7.69e+05     -0.155      0.880   -1.79e+06    1.56e+06\n",
       "==============================================================================\n",
       "Omnibus:                        0.419   Durbin-Watson:                   2.443\n",
       "Prob(Omnibus):                  0.811   Jarque-Bera (JB):                0.500\n",
       "Skew:                          -0.310   Prob(JB):                        0.779\n",
       "Kurtosis:                       2.312   Cond. No.                     1.18e+06\n",
       "==============================================================================\n",
       "\n",
       "Notes:\n",
       "[1] Standard Errors assume that the covariance matrix of the errors is correctly specified.\n",
       "[2] The smallest eigenvalue is  1e-11. This might indicate that there are\n",
       "strong multicollinearity problems or that the design matrix is singular.\n",
       "\"\"\""
      ]
     },
     "execution_count": 343,
     "metadata": {},
     "output_type": "execute_result"
    }
   ],
   "source": [
    "#response time regression response time \n",
    "y = diff_rt\n",
    "X = reg_independent_diff\n",
    "X = sm.add_constant(X)\n",
    "# Note the difference in argument order\n",
    "model_rt = sm.OLS(y, X).fit()\n",
    "predictions = model_rt.predict(X) # make the predictions by the model\n",
    "# Print out the statistics\n",
    "model_rt.summary()"
   ]
  },
  {
   "cell_type": "code",
   "execution_count": 344,
   "id": "7088d358-7c1e-4998-b0a5-6a9315c4cafb",
   "metadata": {},
   "outputs": [
    {
     "data": {
      "image/png": "[encoded data removed]",
      "text/plain": [
       "<Figure size 432x288 with 1 Axes>"
      ]
     },
     "metadata": {
      "needs_background": "light"
     },
     "output_type": "display_data"
    }
   ],
   "source": [
    "fig = sm.graphics.plot_ccpr(model_rt, \"erp\")\n",
    "fig.tight_layout(pad=1.0)"
   ]
  },
  {
   "cell_type": "code",
   "execution_count": 347,
   "id": "ab1ac7b0-ed87-4df5-ab8d-8b129901975e",
   "metadata": {},
   "outputs": [
    {
     "data": {
      "text/plain": [
       "(-0.044577089897889055, 0.8797271205416974)"
      ]
     },
     "execution_count": 347,
     "metadata": {},
     "output_type": "execute_result"
    }
   ],
   "source": [
    "stats.pearsonr(diff_rt, diff_CPP_amplitude)"
   ]
  },
  {
   "cell_type": "code",
   "execution_count": 349,
   "id": "993d600f-6cd7-44d6-a632-377a92fc8d73",
   "metadata": {},
   "outputs": [
    {
     "name": "stderr",
     "output_type": "stream",
     "text": [
      "D:\\anaconda\\lib\\site-packages\\scipy\\stats\\stats.py:1603: UserWarning: kurtosistest only valid for n>=20 ... continuing anyway, n=14\n",
      "  warnings.warn(\"kurtosistest only valid for n>=20 ... continuing \"\n"
     ]
    },
    {
     "data": {
      "text/html": [
       "<table class=\"simpletable\">\n",
       "<caption>OLS Regression Results</caption>\n",
       "<tr>\n",
       "  <th>Dep. Variable:</th>            <td>y</td>        <th>  R-squared:         </th> <td>   0.009</td>\n",
       "</tr>\n",
       "<tr>\n",
       "  <th>Model:</th>                   <td>OLS</td>       <th>  Adj. R-squared:    </th> <td>  -0.074</td>\n",
       "</tr>\n",
       "<tr>\n",
       "  <th>Method:</th>             <td>Least Squares</td>  <th>  F-statistic:       </th> <td>  0.1087</td>\n",
       "</tr>\n",
       "<tr>\n",
       "  <th>Date:</th>             <td>Tue, 03 May 2022</td> <th>  Prob (F-statistic):</th>  <td> 0.747</td> \n",
       "</tr>\n",
       "<tr>\n",
       "  <th>Time:</th>                 <td>17:48:52</td>     <th>  Log-Likelihood:    </th> <td> -3.8262</td>\n",
       "</tr>\n",
       "<tr>\n",
       "  <th>No. Observations:</th>      <td>    14</td>      <th>  AIC:               </th> <td>   11.65</td>\n",
       "</tr>\n",
       "<tr>\n",
       "  <th>Df Residuals:</th>          <td>    12</td>      <th>  BIC:               </th> <td>   12.93</td>\n",
       "</tr>\n",
       "<tr>\n",
       "  <th>Df Model:</th>              <td>     1</td>      <th>                     </th>     <td> </td>   \n",
       "</tr>\n",
       "<tr>\n",
       "  <th>Covariance Type:</th>      <td>nonrobust</td>    <th>                     </th>     <td> </td>   \n",
       "</tr>\n",
       "</table>\n",
       "<table class=\"simpletable\">\n",
       "<tr>\n",
       "    <td></td>       <th>coef</th>     <th>std err</th>      <th>t</th>      <th>P>|t|</th>  <th>[0.025</th>    <th>0.975]</th>  \n",
       "</tr>\n",
       "<tr>\n",
       "  <th>const</th> <td>    8.7902</td> <td>    0.146</td> <td>   60.163</td> <td> 0.000</td> <td>    8.472</td> <td>    9.108</td>\n",
       "</tr>\n",
       "<tr>\n",
       "  <th>erp</th>   <td>-3.581e+04</td> <td> 1.09e+05</td> <td>   -0.330</td> <td> 0.747</td> <td>-2.72e+05</td> <td> 2.01e+05</td>\n",
       "</tr>\n",
       "</table>\n",
       "<table class=\"simpletable\">\n",
       "<tr>\n",
       "  <th>Omnibus:</th>       <td> 0.697</td> <th>  Durbin-Watson:     </th> <td>   2.099</td>\n",
       "</tr>\n",
       "<tr>\n",
       "  <th>Prob(Omnibus):</th> <td> 0.706</td> <th>  Jarque-Bera (JB):  </th> <td>   0.693</td>\n",
       "</tr>\n",
       "<tr>\n",
       "  <th>Skew:</th>          <td> 0.363</td> <th>  Prob(JB):          </th> <td>   0.707</td>\n",
       "</tr>\n",
       "<tr>\n",
       "  <th>Kurtosis:</th>      <td> 2.187</td> <th>  Cond. No.          </th> <td>1.18e+06</td>\n",
       "</tr>\n",
       "</table><br/><br/>Notes:<br/>[1] Standard Errors assume that the covariance matrix of the errors is correctly specified.<br/>[2] The smallest eigenvalue is  1e-11. This might indicate that there are<br/>strong multicollinearity problems or that the design matrix is singular."
      ],
      "text/plain": [
       "<class 'statsmodels.iolib.summary.Summary'>\n",
       "\"\"\"\n",
       "                            OLS Regression Results                            \n",
       "==============================================================================\n",
       "Dep. Variable:                      y   R-squared:                       0.009\n",
       "Model:                            OLS   Adj. R-squared:                 -0.074\n",
       "Method:                 Least Squares   F-statistic:                    0.1087\n",
       "Date:                Tue, 03 May 2022   Prob (F-statistic):              0.747\n",
       "Time:                        17:48:52   Log-Likelihood:                -3.8262\n",
       "No. Observations:                  14   AIC:                             11.65\n",
       "Df Residuals:                      12   BIC:                             12.93\n",
       "Df Model:                           1                                         \n",
       "Covariance Type:            nonrobust                                         \n",
       "==============================================================================\n",
       "                 coef    std err          t      P>|t|      [0.025      0.975]\n",
       "------------------------------------------------------------------------------\n",
       "const          8.7902      0.146     60.163      0.000       8.472       9.108\n",
       "erp        -3.581e+04   1.09e+05     -0.330      0.747   -2.72e+05    2.01e+05\n",
       "==============================================================================\n",
       "Omnibus:                        0.697   Durbin-Watson:                   2.099\n",
       "Prob(Omnibus):                  0.706   Jarque-Bera (JB):                0.693\n",
       "Skew:                           0.363   Prob(JB):                        0.707\n",
       "Kurtosis:                       2.187   Cond. No.                     1.18e+06\n",
       "==============================================================================\n",
       "\n",
       "Notes:\n",
       "[1] Standard Errors assume that the covariance matrix of the errors is correctly specified.\n",
       "[2] The smallest eigenvalue is  1e-11. This might indicate that there are\n",
       "strong multicollinearity problems or that the design matrix is singular.\n",
       "\"\"\""
      ]
     },
     "execution_count": 349,
     "metadata": {},
     "output_type": "execute_result"
    }
   ],
   "source": [
    "y = diff_acc\n",
    "X = reg_independent_diff\n",
    "X = sm.add_constant(X)\n",
    "# Note the difference in argument order\n",
    "model_per = sm.OLS(y, X).fit()\n",
    "predictions = model_per.predict(X) # make the predictions by the model\n",
    "# Print out the statistics\n",
    "model_per.summary()"
   ]
  },
  {
   "cell_type": "code",
   "execution_count": 350,
   "id": "f881882e-4014-48c0-857e-cc4371cc3c74",
   "metadata": {},
   "outputs": [
    {
     "data": {
      "image/png": "[encoded data removed]",
      "text/plain": [
       "<Figure size 432x288 with 1 Axes>"
      ]
     },
     "metadata": {
      "needs_background": "light"
     },
     "output_type": "display_data"
    }
   ],
   "source": [
    "fig = sm.graphics.plot_ccpr(model_per, \"erp\")\n",
    "fig.tight_layout(pad=1.0)"
   ]
  },
  {
   "cell_type": "code",
   "execution_count": 352,
   "id": "9f1d1f72-c7eb-4dc3-a68d-f51384723d35",
   "metadata": {},
   "outputs": [
    {
     "data": {
      "text/plain": [
       "(-0.09473676295054814, 0.7473397385461701)"
      ]
     },
     "execution_count": 352,
     "metadata": {},
     "output_type": "execute_result"
    }
   ],
   "source": [
    "stats.pearsonr(diff_acc, diff_CPP_amplitude)"
   ]
  },
  {
   "cell_type": "code",
   "execution_count": null,
   "id": "1bbe1f2a-1d36-4621-8013-f8145b84e964",
   "metadata": {},
   "outputs": [],
   "source": []
  }
 ],
 "metadata": {
  "kernelspec": {
   "display_name": "Python 3",
   "language": "python",
   "name": "python3"
  },
  "language_info": {
   "codemirror_mode": {
    "name": "ipython",
    "version": 3
   },
   "file_extension": ".py",
   "mimetype": "text/x-python",
   "name": "python",
   "nbconvert_exporter": "python",
   "pygments_lexer": "ipython3",
   "version": "3.8.8"
  }
 },
 "nbformat": 4,
 "nbformat_minor": 5
}
